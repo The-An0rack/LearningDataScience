{
  "nbformat": 4,
  "nbformat_minor": 0,
  "metadata": {
    "colab": {
      "provenance": [],
      "authorship_tag": "ABX9TyOXadZScO0bjxfvRxiBtqMY",
      "include_colab_link": true
    },
    "kernelspec": {
      "name": "python3",
      "display_name": "Python 3"
    },
    "language_info": {
      "name": "python"
    }
  },
  "cells": [
    {
      "cell_type": "markdown",
      "metadata": {
        "id": "view-in-github",
        "colab_type": "text"
      },
      "source": [
        "<a href=\"https://colab.research.google.com/github/The-An0rack/LearningDataScience/blob/main/005_LearningBeautifulSoup.ipynb\" target=\"_parent\"><img src=\"https://colab.research.google.com/assets/colab-badge.svg\" alt=\"Open In Colab\"/></a>"
      ]
    },
    {
      "cell_type": "markdown",
      "source": [
        "#**Learning Beautiful Soup**"
      ],
      "metadata": {
        "id": "-4JjBMrgedAH"
      }
    },
    {
      "cell_type": "code",
      "execution_count": 1,
      "metadata": {
        "colab": {
          "base_uri": "https://localhost:8080/"
        },
        "id": "1PuLJFxKaVX-",
        "outputId": "182f8335-80ff-42b3-ca6f-5c5bc1327848"
      },
      "outputs": [
        {
          "output_type": "stream",
          "name": "stdout",
          "text": [
            "Requirement already satisfied: beautifulsoup4 in /usr/local/lib/python3.10/dist-packages (4.11.2)\n",
            "Requirement already satisfied: soupsieve>1.2 in /usr/local/lib/python3.10/dist-packages (from beautifulsoup4) (2.4.1)\n"
          ]
        }
      ],
      "source": [
        "!pip install beautifulsoup4"
      ]
    },
    {
      "cell_type": "code",
      "source": [
        "# Reading a locally stored HTML file\n",
        "from bs4 import BeautifulSoup\n",
        "\n",
        "with open(\"./index.html\", \"r\") as f:\n",
        "  doc = BeautifulSoup(f, \"html.parser\")\n",
        "\n",
        "print(doc.prettify())"
      ],
      "metadata": {
        "colab": {
          "base_uri": "https://localhost:8080/"
        },
        "id": "DE54RvNrehL8",
        "outputId": "2b8e9fa8-d682-45c3-fc3e-b9289b0d1fc5"
      },
      "execution_count": 4,
      "outputs": [
        {
          "output_type": "stream",
          "name": "stdout",
          "text": [
            "<html>\n",
            " <head>\n",
            "  <title>\n",
            "   Your Title Here\n",
            "  </title>\n",
            " </head>\n",
            " <body bgcolor=\"FFFFFF\">\n",
            "  <center>\n",
            "   <img align=\"BOTTOM\" src=\"clouds.jpg\"/>\n",
            "  </center>\n",
            "  <hr/>\n",
            "  <a href=\"http://somegreatsite.com\">\n",
            "   Link Name\n",
            "  </a>\n",
            "  is a link to another nifty site\n",
            "  <h1>\n",
            "   This is a Header\n",
            "  </h1>\n",
            "  <h2>\n",
            "   This is a Medium Header\n",
            "  </h2>\n",
            "  Send me mail at\n",
            "  <a href=\"mailto:support@yourcompany.com\">\n",
            "   support@yourcompany.com\n",
            "  </a>\n",
            "  .\n",
            "  <p>\n",
            "   This is a new paragraph!\n",
            "   <p>\n",
            "    <b color=\"red\">\n",
            "     This is a new paragraph!\n",
            "    </b>\n",
            "    <br/>\n",
            "    <b>\n",
            "     <i>\n",
            "      This is a new sentence without a paragraph break, in bold italics.\n",
            "     </i>\n",
            "    </b>\n",
            "    <hr/>\n",
            "   </p>\n",
            "  </p>\n",
            " </body>\n",
            "</html>\n",
            "\n"
          ]
        }
      ]
    },
    {
      "cell_type": "code",
      "source": [
        "# Find by tag name that occurs first\n",
        "\n",
        "tag = doc.title\n",
        "print(tag)"
      ],
      "metadata": {
        "colab": {
          "base_uri": "https://localhost:8080/"
        },
        "id": "nqmzG9hNlmpg",
        "outputId": "55ebdcb5-042b-4518-d479-923fce5a22f1"
      },
      "execution_count": 5,
      "outputs": [
        {
          "output_type": "stream",
          "name": "stdout",
          "text": [
            "<title>Your Title Here</title>\n"
          ]
        }
      ]
    },
    {
      "cell_type": "code",
      "source": [
        "#To access text inside a tag use .string property\n",
        "\n",
        "print(tag.string)"
      ],
      "metadata": {
        "colab": {
          "base_uri": "https://localhost:8080/"
        },
        "id": "PRdHLAA5mAFF",
        "outputId": "690c2420-f996-4ccd-f968-3059a24b71b7"
      },
      "execution_count": 6,
      "outputs": [
        {
          "output_type": "stream",
          "name": "stdout",
          "text": [
            "Your Title Here\n"
          ]
        }
      ]
    },
    {
      "cell_type": "code",
      "source": [
        "# To modify string inside a tag\n",
        "\n",
        "tag.string = \"Hello World\"\n",
        "print(doc)"
      ],
      "metadata": {
        "colab": {
          "base_uri": "https://localhost:8080/"
        },
        "id": "u9VyGN5UmJJh",
        "outputId": "416c319d-8a2c-4c13-e37c-be79a779060d"
      },
      "execution_count": 7,
      "outputs": [
        {
          "output_type": "stream",
          "name": "stdout",
          "text": [
            "<html>\n",
            "<head>\n",
            "<title>Hello World</title>\n",
            "</head>\n",
            "<body bgcolor=\"FFFFFF\">\n",
            "<center><img align=\"BOTTOM\" src=\"clouds.jpg\"/> </center>\n",
            "<hr/>\n",
            "<a href=\"http://somegreatsite.com\">Link Name</a>\n",
            "\n",
            "is a link to another nifty site\n",
            "\n",
            "<h1>This is a Header</h1>\n",
            "<h2>This is a Medium Header</h2>\n",
            "\n",
            "Send me mail at <a href=\"mailto:support@yourcompany.com\">\n",
            "\n",
            "support@yourcompany.com</a>.\n",
            "\n",
            "<p> This is a new paragraph!\n",
            "\n",
            "<p> <b color=\"red\">This is a new paragraph!</b>\n",
            "<br/> <b><i>This is a new sentence without a paragraph break, in bold italics.</i></b>\n",
            "<hr/>\n",
            "</p></p></body>\n",
            "</html>\n",
            "\n"
          ]
        }
      ]
    },
    {
      "cell_type": "code",
      "source": [
        "# Find all tags: gives a list of all tags\n",
        "\n",
        "p_tags = doc.find_all(\"p\")\n",
        "print(p_tags)"
      ],
      "metadata": {
        "colab": {
          "base_uri": "https://localhost:8080/"
        },
        "id": "JPveDdIumQOh",
        "outputId": "17a48a95-b10c-47e4-a464-104cfc69e992"
      },
      "execution_count": 8,
      "outputs": [
        {
          "output_type": "stream",
          "name": "stdout",
          "text": [
            "[<p> This is a new paragraph!\n",
            "\n",
            "<p> <b color=\"red\">This is a new paragraph!</b>\n",
            "<br/> <b><i>This is a new sentence without a paragraph break, in bold italics.</i></b>\n",
            "<hr/>\n",
            "</p></p>, <p> <b color=\"red\">This is a new paragraph!</b>\n",
            "<br/> <b><i>This is a new sentence without a paragraph break, in bold italics.</i></b>\n",
            "<hr/>\n",
            "</p>]\n"
          ]
        }
      ]
    },
    {
      "cell_type": "markdown",
      "source": [
        "###**Reading a remote file**"
      ],
      "metadata": {
        "id": "C7C3O0_Om75D"
      }
    },
    {
      "cell_type": "code",
      "source": [
        "!pip install beautifulsoup4\n",
        "!pip install requests"
      ],
      "metadata": {
        "colab": {
          "base_uri": "https://localhost:8080/"
        },
        "id": "aHHCkjA-m7b6",
        "outputId": "b8837db8-58ef-4848-d34e-e071998fb40a"
      },
      "execution_count": 9,
      "outputs": [
        {
          "output_type": "stream",
          "name": "stdout",
          "text": [
            "Requirement already satisfied: requests in /usr/local/lib/python3.10/dist-packages (2.31.0)\n",
            "Requirement already satisfied: charset-normalizer<4,>=2 in /usr/local/lib/python3.10/dist-packages (from requests) (3.2.0)\n",
            "Requirement already satisfied: idna<4,>=2.5 in /usr/local/lib/python3.10/dist-packages (from requests) (3.4)\n",
            "Requirement already satisfied: urllib3<3,>=1.21.1 in /usr/local/lib/python3.10/dist-packages (from requests) (2.0.4)\n",
            "Requirement already satisfied: certifi>=2017.4.17 in /usr/local/lib/python3.10/dist-packages (from requests) (2023.7.22)\n"
          ]
        }
      ]
    },
    {
      "cell_type": "code",
      "source": [
        "from bs4 import BeautifulSoup\n",
        "import requests"
      ],
      "metadata": {
        "id": "trpcrZZSnHPM"
      },
      "execution_count": 2,
      "outputs": []
    },
    {
      "cell_type": "code",
      "source": [
        "url = \"https://www.bookchor.com/\"\n",
        "\n",
        "# Many websites have BOT blocker to block this, so it wont work for them\n",
        "result = requests.get(url)\n",
        "print(result.text)"
      ],
      "metadata": {
        "id": "jAmvThZjnlHe"
      },
      "execution_count": null,
      "outputs": []
    },
    {
      "cell_type": "code",
      "source": [
        "doc = BeautifulSoup(result.text, \"html.parser\")\n",
        "print(doc.prettify())"
      ],
      "metadata": {
        "id": "Ku0t5OnCn_W5"
      },
      "execution_count": null,
      "outputs": []
    },
    {
      "cell_type": "code",
      "source": [
        "prices = doc.find_all(string=\"Rs. 399\")\n",
        "print(prices)"
      ],
      "metadata": {
        "colab": {
          "base_uri": "https://localhost:8080/"
        },
        "id": "kcVPrlkVoqj-",
        "outputId": "579757bf-a940-46c6-9d68-7303153c6512"
      },
      "execution_count": 20,
      "outputs": [
        {
          "output_type": "stream",
          "name": "stdout",
          "text": [
            "['Rs. 399', 'Rs. 399', 'Rs. 399', 'Rs. 399', 'Rs. 399', 'Rs. 399', 'Rs. 399', 'Rs. 399', 'Rs. 399', 'Rs. 399', 'Rs. 399', 'Rs. 399', 'Rs. 399', 'Rs. 399', 'Rs. 399', 'Rs. 399', 'Rs. 399', 'Rs. 399', 'Rs. 399', 'Rs. 399', 'Rs. 399']\n"
          ]
        }
      ]
    },
    {
      "cell_type": "code",
      "source": [
        "# .parent property allow us to get the hold of parent tag\n",
        "print(prices[0].parent.parent.parent)"
      ],
      "metadata": {
        "colab": {
          "base_uri": "https://localhost:8080/"
        },
        "id": "BeZKNlI7v12u",
        "outputId": "f4227d7c-4a37-4a87-af6d-7f1e9c9857fb"
      },
      "execution_count": 27,
      "outputs": [
        {
          "output_type": "stream",
          "name": "stdout",
          "text": [
            "<div class=\"product-item\">\n",
            "<div class=\"pi-img-wrapper\">\n",
            "<a href=\"https://www.bookchor.com/book/9781311313319/jane-austen-set-of-3-books\"><img alt=\"JANE AUSTEN SE...\" class=\"img-responsive center-block hidden-xs\" src=\"https://bc-img.s3.ap-south-1.amazonaws.com/images/cover/bc/9781311313319.JPG\" style=\"height: 220px;\"/></a>\n",
            "<a href=\"https://www.bookchor.com/book/9781311313319/jane-austen-set-of-3-books\"><img alt=\"JANE AUSTEN SE...\" class=\"img-responsive center-block hidden-lg hidden-md hidden-sm\" src=\"https://bc-img.s3.ap-south-1.amazonaws.com/images/cover/bc/9781311313319.JPG\" style=\"height: 150px; width:120px;\"/></a>\n",
            "</div>\n",
            "<h3><center><a href=\"https://www.bookchor.com/book/9781311313319/jane-austen-set-of-3-books\">JANE AUSTEN SE...</a><center></center></center></h3>\n",
            "<div class=\"pi-price-left\">\n",
            "<center>Rs. 399</center>\n",
            "</div>\n",
            "<div class=\"pi-price-right\">\n",
            "<s>Rs. 1009</s>\n",
            "</div>\n",
            "</div>\n"
          ]
        }
      ]
    },
    {
      "cell_type": "code",
      "source": [
        "# Getting name of book\n",
        "prices[0].parent.parent.parent.find(\"h3\")"
      ],
      "metadata": {
        "colab": {
          "base_uri": "https://localhost:8080/"
        },
        "id": "opWBvdRaw-0G",
        "outputId": "509eefa0-fdfb-429f-e2b9-57445854e3af"
      },
      "execution_count": 29,
      "outputs": [
        {
          "output_type": "execute_result",
          "data": {
            "text/plain": [
              "<h3><center><a href=\"https://www.bookchor.com/book/9781311313319/jane-austen-set-of-3-books\">JANE AUSTEN SE...</a><center></center></center></h3>"
            ]
          },
          "metadata": {},
          "execution_count": 29
        }
      ]
    },
    {
      "cell_type": "markdown",
      "source": [
        "###**Searching and Filtering**"
      ],
      "metadata": {
        "id": "JmHHtQnbyc3J"
      }
    },
    {
      "cell_type": "code",
      "source": [
        "from bs4 import BeautifulSoup\n",
        "\n",
        "with open(\"./html_files/index2.html\", \"r\") as f:\n",
        "  doc = BeautifulSoup(f, \"html.parser\")\n",
        "\n",
        "print(doc.prettify())"
      ],
      "metadata": {
        "colab": {
          "base_uri": "https://localhost:8080/"
        },
        "id": "KRalRPznybj8",
        "outputId": "b158264e-dc67-4d5c-b08b-f4fe98a9887c"
      },
      "execution_count": 37,
      "outputs": [
        {
          "output_type": "stream",
          "name": "stdout",
          "text": [
            "<!DOCTYPE html>\n",
            "<html>\n",
            " <head>\n",
            "  <title>\n",
            "   Educational registration form\n",
            "  </title>\n",
            "  <link crossorigin=\"anonymous\" href=\"https://use.fontawesome.com/releases/v5.4.1/css/all.css\" integrity=\"sha384-5sAR7xN1Nv6T6+dT2mhtzEpVJvfS3NScPQTrOxhwjIuvcA67KV2R5Jz6kr4abQsz\" rel=\"stylesheet\"/>\n",
            "  <link href=\"https://fonts.googleapis.com/css?family=Roboto:300,400,500,700\" rel=\"stylesheet\"/>\n",
            "  <style>\n",
            "   html, body {\n",
            "      min-height: 100%;\n",
            "      }\n",
            "      body, div, form, input, select, p { \n",
            "      padding: 0;\n",
            "      margin: 0;\n",
            "      outline: none;\n",
            "      font-family: Roboto, Arial, sans-serif;\n",
            "      font-size: 16px;\n",
            "      color: #eee;\n",
            "      }\n",
            "      body {\n",
            "      background: url(\"/uploads/media/default/0001/01/b5edc1bad4dc8c20291c8394527cb2c5b43ee13c.jpeg\") no-repeat center;\n",
            "      background-size: cover;\n",
            "      }\n",
            "      h1, h2 {\n",
            "      text-transform: uppercase;\n",
            "      font-weight: 400;\n",
            "      }\n",
            "      h2 {\n",
            "      margin: 0 0 0 8px;\n",
            "      }\n",
            "      .main-block {\n",
            "      display: flex;\n",
            "      flex-direction: column;\n",
            "      justify-content: center;\n",
            "      align-items: center;\n",
            "      height: 100%;\n",
            "      padding: 25px;\n",
            "      background: rgba(0, 0, 0, 0.5); \n",
            "      }\n",
            "      .left-part, form {\n",
            "      padding: 25px;\n",
            "      }\n",
            "      .left-part {\n",
            "      text-align: center;\n",
            "      }\n",
            "      .fa-graduation-cap {\n",
            "      font-size: 72px;\n",
            "      }\n",
            "      form {\n",
            "      background: rgba(0, 0, 0, 0.7); \n",
            "      }\n",
            "      .title {\n",
            "      display: flex;\n",
            "      align-items: center;\n",
            "      margin-bottom: 20px;\n",
            "      }\n",
            "      .info {\n",
            "      display: flex;\n",
            "      flex-direction: column;\n",
            "      }\n",
            "      input, select {\n",
            "      padding: 5px;\n",
            "      margin-bottom: 30px;\n",
            "      background: transparent;\n",
            "      border: none;\n",
            "      border-bottom: 1px solid #eee;\n",
            "      }\n",
            "      input::placeholder {\n",
            "      color: #eee;\n",
            "      }\n",
            "      option:focus {\n",
            "      border: none;\n",
            "      }\n",
            "      option {\n",
            "      background: black; \n",
            "      border: none;\n",
            "      }\n",
            "      .checkbox input {\n",
            "      margin: 0 10px 0 0;\n",
            "      vertical-align: middle;\n",
            "      }\n",
            "      .checkbox a {\n",
            "      color: #26a9e0;\n",
            "      }\n",
            "      .checkbox a:hover {\n",
            "      color: #85d6de;\n",
            "      }\n",
            "      .btn-item, button {\n",
            "      padding: 10px 5px;\n",
            "      margin-top: 20px;\n",
            "      border-radius: 5px; \n",
            "      border: none;\n",
            "      background: #26a9e0; \n",
            "      text-decoration: none;\n",
            "      font-size: 15px;\n",
            "      font-weight: 400;\n",
            "      color: #fff;\n",
            "      }\n",
            "      .btn-item {\n",
            "      display: inline-block;\n",
            "      margin: 20px 5px 0;\n",
            "      }\n",
            "      button {\n",
            "      width: 100%;\n",
            "      }\n",
            "      button:hover, .btn-item:hover {\n",
            "      background: #85d6de;\n",
            "      }\n",
            "      @media (min-width: 568px) {\n",
            "      html, body {\n",
            "      height: 100%;\n",
            "      }\n",
            "      .main-block {\n",
            "      flex-direction: row;\n",
            "      height: calc(100% - 50px);\n",
            "      }\n",
            "      .left-part, form {\n",
            "      flex: 1;\n",
            "      height: auto;\n",
            "      }\n",
            "      }\n",
            "  </style>\n",
            " </head>\n",
            " <body>\n",
            "  <div class=\"main-block\">\n",
            "   <div class=\"left-part\">\n",
            "    <i class=\"fas fa-graduation-cap\">\n",
            "    </i>\n",
            "    <h1>\n",
            "     Register to our courses\n",
            "    </h1>\n",
            "    <p>\n",
            "     W3docs provides free learning materials for programming languages like HTML, CSS, Java Script, PHP etc.\n",
            "    </p>\n",
            "    <div class=\"btn-group\">\n",
            "     <a class=\"btn-item\" href=\"https://www.w3docs.com/learn-html.html\">\n",
            "      Learn HTML\n",
            "     </a>\n",
            "     <a class=\"btn-item\" href=\"https://www.w3docs.com/quiz/#\">\n",
            "      Select Quiz\n",
            "     </a>\n",
            "    </div>\n",
            "    $2345\n",
            "   </div>\n",
            "   <form action=\"/\">\n",
            "    <div class=\"title\">\n",
            "     <i class=\"fas fa-pencil-alt\">\n",
            "     </i>\n",
            "     <h2>\n",
            "      Register here\n",
            "     </h2>\n",
            "    </div>\n",
            "    $123\n",
            "    <div class=\"info\">\n",
            "     <input class=\"fname\" name=\"name\" placeholder=\"Full name\" type=\"text\"/>\n",
            "     <input name=\"name\" placeholder=\"Email\" type=\"text\"/>\n",
            "     <input name=\"name\" placeholder=\"Phone number\" type=\"text\"/>\n",
            "     <input name=\"name\" placeholder=\"Password\" type=\"password\"/>\n",
            "     <select>\n",
            "      <option selected=\"\" value=\"course-type\">\n",
            "       Course type*\n",
            "      </option>\n",
            "      <option value=\"short-courses\">\n",
            "       Short courses\n",
            "      </option>\n",
            "      <option value=\"featured-courses\">\n",
            "       Featured courses\n",
            "      </option>\n",
            "      <option value=\"undergraduate\">\n",
            "       Undergraduate\n",
            "      </option>\n",
            "      <option value=\"diploma\">\n",
            "       Diploma\n",
            "      </option>\n",
            "      <option value=\"certificate\">\n",
            "       Certificate\n",
            "      </option>\n",
            "      <option value=\"masters-degree\">\n",
            "       Masters degree\n",
            "      </option>\n",
            "      <option value=\"postgraduate\">\n",
            "       Postgraduate\n",
            "      </option>\n",
            "     </select>\n",
            "    </div>\n",
            "    <div class=\"checkbox\">\n",
            "     <input name=\"checkbox\" type=\"checkbox\"/>\n",
            "     <span>\n",
            "      I agree to the\n",
            "      <a href=\"https://www.w3docs.com/privacy-policy\">\n",
            "       Privacy Poalicy for W3Docs.\n",
            "      </a>\n",
            "     </span>\n",
            "    </div>\n",
            "    <button href=\"/\" type=\"submit\">\n",
            "     Submit\n",
            "    </button>\n",
            "   </form>\n",
            "  </div>\n",
            " </body>\n",
            "</html>\n"
          ]
        }
      ]
    },
    {
      "cell_type": "code",
      "source": [
        "tag = doc.find(\"option\")\n",
        "print(tag)"
      ],
      "metadata": {
        "colab": {
          "base_uri": "https://localhost:8080/"
        },
        "id": "CUXNlQUSzo-z",
        "outputId": "3a10b274-5c18-4f37-b36f-9c0f5b7c606d"
      },
      "execution_count": 35,
      "outputs": [
        {
          "output_type": "stream",
          "name": "stdout",
          "text": [
            "<option color=\"blue\" selected=\"new value\" value=\"course-type\">Course type*</option>\n"
          ]
        }
      ]
    },
    {
      "cell_type": "code",
      "source": [
        "# Modifying value of an attribute\n",
        "\n",
        "tag[\"selected\"] = \"new value\"\n",
        "print(tag)"
      ],
      "metadata": {
        "colab": {
          "base_uri": "https://localhost:8080/"
        },
        "id": "D05CIS_uzLLv",
        "outputId": "91dbac6e-79e1-4bee-d40c-9f043c77af72"
      },
      "execution_count": 33,
      "outputs": [
        {
          "output_type": "stream",
          "name": "stdout",
          "text": [
            "<option selected=\"new value\" value=\"course-type\">Course type*</option>\n"
          ]
        }
      ]
    },
    {
      "cell_type": "code",
      "source": [
        "# Adding a new tag\n",
        "tag[\"color\"] = \"blue\"\n",
        "print(tag)"
      ],
      "metadata": {
        "colab": {
          "base_uri": "https://localhost:8080/"
        },
        "id": "nx_Bi5Ikzb6B",
        "outputId": "8fde60c3-9743-4bf4-fb7c-71c0bc185497"
      },
      "execution_count": 38,
      "outputs": [
        {
          "output_type": "stream",
          "name": "stdout",
          "text": [
            "<option color=\"blue\" selected=\"new value\" value=\"course-type\">Course type*</option>\n"
          ]
        }
      ]
    },
    {
      "cell_type": "code",
      "source": [
        "# get dictionary of all attributes\n",
        "print(tag.attrs)"
      ],
      "metadata": {
        "colab": {
          "base_uri": "https://localhost:8080/"
        },
        "id": "UeekhRHyz0Ys",
        "outputId": "f9d6d55c-64af-4d8d-a07e-192b225a19d6"
      },
      "execution_count": 39,
      "outputs": [
        {
          "output_type": "stream",
          "name": "stdout",
          "text": [
            "{'value': 'course-type', 'selected': 'new value', 'color': 'blue'}\n"
          ]
        }
      ]
    },
    {
      "cell_type": "code",
      "source": [
        "# Get multiple types of tags\n",
        "tags = doc.find_all([\"a\",\"h1\"])\n",
        "print(tags)"
      ],
      "metadata": {
        "colab": {
          "base_uri": "https://localhost:8080/"
        },
        "id": "ptvuetDf0VWH",
        "outputId": "16a78184-e6dd-487d-c7f9-e63497c01a71"
      },
      "execution_count": 41,
      "outputs": [
        {
          "output_type": "stream",
          "name": "stdout",
          "text": [
            "[<h1>Register to our courses</h1>, <a class=\"btn-item\" href=\"https://www.w3docs.com/learn-html.html\">Learn HTML</a>, <a class=\"btn-item\" href=\"https://www.w3docs.com/quiz/#\">Select Quiz</a>, <a href=\"https://www.w3docs.com/privacy-policy\">Privacy Poalicy for W3Docs.</a>]\n"
          ]
        }
      ]
    },
    {
      "cell_type": "code",
      "source": [
        "# Search for a combination of things\n",
        "tag2 = doc.find_all(\"option\", string = \"Undergraduate\")\n",
        "print(tag2)\n",
        "\n"
      ],
      "metadata": {
        "colab": {
          "base_uri": "https://localhost:8080/"
        },
        "id": "_-GFobjm0udy",
        "outputId": "96e36a87-7c14-4659-bf3e-4174beab9f64"
      },
      "execution_count": 43,
      "outputs": [
        {
          "output_type": "stream",
          "name": "stdout",
          "text": [
            "[<option value=\"undergraduate\">Undergraduate</option>]\n"
          ]
        }
      ]
    },
    {
      "cell_type": "code",
      "source": [
        "# Similarly we can also search for attributes properties\n",
        "tag3 = doc.find_all(\"option\", value = \"undergraduate\")\n",
        "print(tag3)"
      ],
      "metadata": {
        "colab": {
          "base_uri": "https://localhost:8080/"
        },
        "id": "dmv6hee71Gjt",
        "outputId": "08d5af11-3896-4384-8ea8-8ec545911341"
      },
      "execution_count": 45,
      "outputs": [
        {
          "output_type": "stream",
          "name": "stdout",
          "text": [
            "[<option value=\"undergraduate\">Undergraduate</option>]\n"
          ]
        }
      ]
    },
    {
      "cell_type": "code",
      "source": [
        "# Look for different class names\n",
        "button_tags = doc.find_all(class_=\"btn-item\")\n",
        "print(button_tags)"
      ],
      "metadata": {
        "colab": {
          "base_uri": "https://localhost:8080/"
        },
        "id": "yzO40jf01fBJ",
        "outputId": "2db0adbe-9bf3-410f-fbcb-afd5972f9b93"
      },
      "execution_count": 46,
      "outputs": [
        {
          "output_type": "stream",
          "name": "stdout",
          "text": [
            "[<a class=\"btn-item\" href=\"https://www.w3docs.com/learn-html.html\">Learn HTML</a>, <a class=\"btn-item\" href=\"https://www.w3docs.com/quiz/#\">Select Quiz</a>]\n"
          ]
        }
      ]
    },
    {
      "cell_type": "markdown",
      "source": [
        "###**Using Regular Expressions in Python**"
      ],
      "metadata": {
        "id": "dUbfra7Q1938"
      }
    },
    {
      "cell_type": "code",
      "source": [
        "from bs4 import BeautifulSoup\n",
        "import re\n",
        "\n",
        "tags = doc.find_all(string = re.compile(\"\\$.*\"))\n",
        "print(tags)"
      ],
      "metadata": {
        "colab": {
          "base_uri": "https://localhost:8080/"
        },
        "id": "yPtsiz4-19hV",
        "outputId": "16d621fb-58e1-43ca-d112-22162722f8f9"
      },
      "execution_count": 52,
      "outputs": [
        {
          "output_type": "stream",
          "name": "stdout",
          "text": [
            "['\\n        $2345\\n      ', '\\n        $123\\n        ']\n"
          ]
        }
      ]
    },
    {
      "cell_type": "code",
      "source": [
        "# We can also restrict to find first n results\n",
        "\n",
        "tags = doc.find_all(string = re.compile(\"\\$.*\"), limit = 1)\n",
        "print(tags)"
      ],
      "metadata": {
        "colab": {
          "base_uri": "https://localhost:8080/"
        },
        "id": "kDiluXvZ4-Ka",
        "outputId": "ff22a1b2-4853-48f5-8c4d-7fdf61999251"
      },
      "execution_count": 53,
      "outputs": [
        {
          "output_type": "stream",
          "name": "stdout",
          "text": [
            "['\\n        $2345\\n      ']\n"
          ]
        }
      ]
    },
    {
      "cell_type": "markdown",
      "source": [
        "###**Saving modified documents**"
      ],
      "metadata": {
        "id": "dysCQmMY5S1r"
      }
    },
    {
      "cell_type": "code",
      "source": [
        "tags = doc.find_all(\"input\", type=\"text\")\n",
        "for tag in tags:\n",
        "  tag[\"placeholder\"] = \"I changed you\"\n",
        "\n",
        "with open(\"changed.html\", \"w\") as file:\n",
        "  file.write(str(doc))"
      ],
      "metadata": {
        "id": "ZgAFsqcY5SjM"
      },
      "execution_count": 54,
      "outputs": []
    },
    {
      "cell_type": "markdown",
      "source": [
        "##**Navigating the HTML tree**"
      ],
      "metadata": {
        "id": "3NHYc9Ck7Y-O"
      }
    },
    {
      "cell_type": "code",
      "source": [
        "from bs4 import BeautifulSoup\n",
        "import requests\n",
        "\n",
        "url = \"https://coinmarketcap.com/\"\n",
        "result = requests.get(url)\n",
        "doc = BeautifulSoup(result.text, \"html.parser\")\n",
        "print(doc.prettify())"
      ],
      "metadata": {
        "id": "N-m1wsOW9rOE"
      },
      "execution_count": null,
      "outputs": []
    },
    {
      "cell_type": "code",
      "source": [
        "# Grab table body\n",
        "tbody = doc.tbody\n",
        "\n",
        "# Grab all table rows\n",
        "trows = tbody.contents\n",
        "print(trows)"
      ],
      "metadata": {
        "id": "Z4K9dW8Y-3v1"
      },
      "execution_count": null,
      "outputs": []
    },
    {
      "cell_type": "code",
      "source": [
        "# Get siblings of a tag\n",
        "print(trows[0].next_sibling)"
      ],
      "metadata": {
        "colab": {
          "base_uri": "https://localhost:8080/"
        },
        "id": "jioukkbt_M0i",
        "outputId": "38293083-9ecc-48e7-af52-8bee3c9f2099"
      },
      "execution_count": 62,
      "outputs": [
        {
          "output_type": "stream",
          "name": "stdout",
          "text": [
            "<tr><td><span class=\"sc-c0b4ee1-2 bwyOyZ\"></span></td><td style=\"text-align:start\"><p class=\"sc-4984dd93-0 iWSjWE\" color=\"text2\" data-sensors-click=\"true\" font-size=\"14\">2</p></td><td style=\"text-align:start\"><div class=\"sc-aef7b723-0 LCOyB\" display=\"flex\"><a class=\"cmc-link\" href=\"/currencies/ethereum/\"><div class=\"sc-aef7b723-0 sc-b585f443-0 hqAcrb\" data-sensors-click=\"true\"><img alt=\"ETH logo\" class=\"coin-logo\" decoding=\"async\" fetchpriority=\"low\" loading=\"lazy\" src=\"https://s2.coinmarketcap.com/static/img/coins/64x64/1027.png\"/><div class=\"sc-aef7b723-0 sc-b585f443-1 dUXsZC hide-ranking-number\"><p class=\"sc-4984dd93-0 kKpPOn\" color=\"text\" data-sensors-click=\"true\" font-size=\"1\" font-weight=\"semibold\">Ethereum</p><div class=\"sc-b585f443-2 SoolS\" data-nosnippet=\"true\"><p class=\"sc-4984dd93-0 iqdbQL coin-item-symbol\" color=\"text3\" data-sensors-click=\"true\" font-size=\"1\">ETH</p></div></div></div></a></div></td><td style=\"text-align:end\"><div class=\"sc-a0353bbc-0 gDrtaY\"><a class=\"cmc-link\" href=\"/currencies/ethereum/#markets\"><span>$1,630.40</span></a></div></td><td style=\"text-align:end\"><span class=\"sc-d55c02b-0 gUnzUB\"><span class=\"icon-Caret-down\" style=\"width:12px;height:18px;display:inline-block\"></span>0.40%</span></td><td style=\"text-align:end\"><span class=\"sc-d55c02b-0 gUnzUB\"><span class=\"icon-Caret-down\" style=\"width:12px;height:18px;display:inline-block\"></span>0.06%</span></td><td style=\"text-align:end\"><span class=\"sc-d55c02b-0 gUnzUB\"><span class=\"icon-Caret-down\" style=\"width:12px;height:18px;display:inline-block\"></span>6.28%</span></td><td style=\"text-align:end\"><p class=\"sc-4984dd93-0 jZrMxO\" color=\"text\" data-sensors-click=\"true\" font-size=\"1\" style=\"white-space:nowrap\"><span class=\"sc-f8982b1f-0 jYSZLP\">$196.03B</span><span class=\"sc-f8982b1f-1 bOsKfy\" data-nosnippet=\"true\">$196,032,926,771</span></p></td><td style=\"text-align:end\"><div class=\"sc-aef7b723-0 sc-a0b7a456-0 iHWrYq\"><a class=\"cmc-link\" href=\"/currencies/ethereum/#markets\"><p class=\"sc-4984dd93-0 jZrMxO font_weight_500\" color=\"text\" data-sensors-click=\"true\" font-size=\"1\">$4,758,101,592</p></a><div data-nosnippet=\"true\"><p class=\"sc-4984dd93-0 ihZPK\" color=\"text2\" data-sensors-click=\"true\" font-size=\"0\">2,917,930 ETH</p></div></div></td><td style=\"text-align:end\"><div class=\"sc-aef7b723-0 sc-e8f714de-0 cELvic\" data-sensors-click=\"true\" style=\"cursor:\"><div class=\"sc-aef7b723-0 sc-e8f714de-1 hSniWt\"><p class=\"sc-4984dd93-0 WfVLk\" color=\"text\" data-sensors-click=\"true\" font-size=\"1\" font-weight=\"medium\">120,218,194 ETH</p></div></div></td><td style=\"text-align:end\"><a class=\"cmc-link\" href=\"/currencies/ethereum/?period=7d\"><img alt=\"ethereum-7d-price-graph\" class=\"sc-b28ea1c6-0 ewXAph\" loading=\"lazy\" src=\"https://s3.coinmarketcap.com/generated/sparklines/web/7d/2781/1027.svg\"/></a></td></tr>\n"
          ]
        }
      ]
    },
    {
      "cell_type": "code",
      "source": [
        "# Similarly we can get previous sibling\n",
        "print(trows[1].previous_sibling)"
      ],
      "metadata": {
        "colab": {
          "base_uri": "https://localhost:8080/"
        },
        "id": "NN4txVsY_Uzb",
        "outputId": "6c64d70c-0425-40bf-eda0-eee7be5a9d3f"
      },
      "execution_count": 64,
      "outputs": [
        {
          "output_type": "stream",
          "name": "stdout",
          "text": [
            "<tr><td><span class=\"sc-c0b4ee1-2 bwyOyZ\"></span></td><td style=\"text-align:start\"><p class=\"sc-4984dd93-0 iWSjWE\" color=\"text2\" data-sensors-click=\"true\" font-size=\"14\">1</p></td><td style=\"text-align:start\"><div class=\"sc-aef7b723-0 LCOyB\" display=\"flex\"><a class=\"cmc-link\" href=\"/currencies/bitcoin/\"><div class=\"sc-aef7b723-0 sc-b585f443-0 hqAcrb\" data-sensors-click=\"true\"><img alt=\"BTC logo\" class=\"coin-logo\" decoding=\"async\" fetchpriority=\"low\" loading=\"lazy\" src=\"https://s2.coinmarketcap.com/static/img/coins/64x64/1.png\"/><div class=\"sc-aef7b723-0 sc-b585f443-1 dUXsZC hide-ranking-number\"><p class=\"sc-4984dd93-0 kKpPOn\" color=\"text\" data-sensors-click=\"true\" font-size=\"1\" font-weight=\"semibold\">Bitcoin</p><div class=\"sc-b585f443-2 SoolS\" data-nosnippet=\"true\"><p class=\"sc-4984dd93-0 iqdbQL coin-item-symbol\" color=\"text3\" data-sensors-click=\"true\" font-size=\"1\">BTC</p></div></div></div></a></div></td><td style=\"text-align:end\"><div class=\"sc-a0353bbc-0 gDrtaY\"><a class=\"cmc-link\" href=\"/currencies/bitcoin/#markets\"><span>$25,678.38</span></a></div></td><td style=\"text-align:end\"><span class=\"sc-d55c02b-0 gUnzUB\"><span class=\"icon-Caret-down\" style=\"width:12px;height:18px;display:inline-block\"></span>0.26%</span></td><td style=\"text-align:end\"><span class=\"sc-d55c02b-0 gUnzUB\"><span class=\"icon-Caret-down\" style=\"width:12px;height:18px;display:inline-block\"></span>0.88%</span></td><td style=\"text-align:end\"><span class=\"sc-d55c02b-0 gUnzUB\"><span class=\"icon-Caret-down\" style=\"width:12px;height:18px;display:inline-block\"></span>7.82%</span></td><td style=\"text-align:end\"><p class=\"sc-4984dd93-0 jZrMxO\" color=\"text\" data-sensors-click=\"true\" font-size=\"1\" style=\"white-space:nowrap\"><span class=\"sc-f8982b1f-0 jYSZLP\">$499.89B</span><span class=\"sc-f8982b1f-1 bOsKfy\" data-nosnippet=\"true\">$499,888,107,440</span></p></td><td style=\"text-align:end\"><div class=\"sc-aef7b723-0 sc-a0b7a456-0 iHWrYq\"><a class=\"cmc-link\" href=\"/currencies/bitcoin/#markets\"><p class=\"sc-4984dd93-0 jZrMxO font_weight_500\" color=\"text\" data-sensors-click=\"true\" font-size=\"1\">$11,724,953,099</p></a><div data-nosnippet=\"true\"><p class=\"sc-4984dd93-0 ihZPK\" color=\"text2\" data-sensors-click=\"true\" font-size=\"0\">456,841 BTC</p></div></div></td><td style=\"text-align:end\"><div class=\"sc-aef7b723-0 sc-e8f714de-0 cELvic\" data-sensors-click=\"true\" style=\"cursor:pointer\"><div class=\"sc-aef7b723-0 sc-e8f714de-1 hSniWt\"><p class=\"sc-4984dd93-0 WfVLk\" color=\"text\" data-sensors-click=\"true\" font-size=\"1\" font-weight=\"medium\">19,477,231 BTC</p></div><div class=\"sc-4ff2400b-0 hKysZR\" data-sensors-click=\"true\" width=\"160\"><div class=\"sc-4ff2400b-1 ldlrhl\" width=\"149\"></div></div></div></td><td style=\"text-align:end\"><a class=\"cmc-link\" href=\"/currencies/bitcoin/?period=7d\"><img alt=\"bitcoin-7d-price-graph\" class=\"sc-b28ea1c6-0 ewXAph\" loading=\"lazy\" src=\"https://s3.coinmarketcap.com/generated/sparklines/web/7d/2781/1.svg\"/></a></td></tr>\n"
          ]
        }
      ]
    },
    {
      "cell_type": "code",
      "source": [
        "# We can also get next siblings, it gives a generator object, so we need to convert it into a list\n",
        "print(list(trows[0].next_siblings))"
      ],
      "metadata": {
        "id": "vy7iOwuqARPo"
      },
      "execution_count": null,
      "outputs": []
    },
    {
      "cell_type": "code",
      "source": [
        "# Get name of parent tag\n",
        "# Without name property it gives entire tbody tag\n",
        "\n",
        "print(trows[0].parent.name)"
      ],
      "metadata": {
        "colab": {
          "base_uri": "https://localhost:8080/"
        },
        "id": "SfDuVlhLAvKj",
        "outputId": "eb74826b-028a-4524-f248-6c751f4961d0"
      },
      "execution_count": 70,
      "outputs": [
        {
          "output_type": "stream",
          "name": "stdout",
          "text": [
            "tbody\n"
          ]
        }
      ]
    },
    {
      "cell_type": "code",
      "source": [
        "# We can also get all decendants of a tag, gives generator element so we need to convert it into list\n",
        "print(list(trows[0].descendants))\n",
        "\n",
        "# .descendants give everything that comes after or inside this tag"
      ],
      "metadata": {
        "colab": {
          "base_uri": "https://localhost:8080/"
        },
        "id": "vdyxom0pAp-b",
        "outputId": "ed08657a-8f87-4e9b-bdf0-9c26527b9d3e"
      },
      "execution_count": 72,
      "outputs": [
        {
          "output_type": "stream",
          "name": "stdout",
          "text": [
            "[<td><span class=\"sc-c0b4ee1-2 bwyOyZ\"></span></td>, <span class=\"sc-c0b4ee1-2 bwyOyZ\"></span>, <td style=\"text-align:start\"><p class=\"sc-4984dd93-0 iWSjWE\" color=\"text2\" data-sensors-click=\"true\" font-size=\"14\">1</p></td>, <p class=\"sc-4984dd93-0 iWSjWE\" color=\"text2\" data-sensors-click=\"true\" font-size=\"14\">1</p>, '1', <td style=\"text-align:start\"><div class=\"sc-aef7b723-0 LCOyB\" display=\"flex\"><a class=\"cmc-link\" href=\"/currencies/bitcoin/\"><div class=\"sc-aef7b723-0 sc-b585f443-0 hqAcrb\" data-sensors-click=\"true\"><img alt=\"BTC logo\" class=\"coin-logo\" decoding=\"async\" fetchpriority=\"low\" loading=\"lazy\" src=\"https://s2.coinmarketcap.com/static/img/coins/64x64/1.png\"/><div class=\"sc-aef7b723-0 sc-b585f443-1 dUXsZC hide-ranking-number\"><p class=\"sc-4984dd93-0 kKpPOn\" color=\"text\" data-sensors-click=\"true\" font-size=\"1\" font-weight=\"semibold\">Bitcoin</p><div class=\"sc-b585f443-2 SoolS\" data-nosnippet=\"true\"><p class=\"sc-4984dd93-0 iqdbQL coin-item-symbol\" color=\"text3\" data-sensors-click=\"true\" font-size=\"1\">BTC</p></div></div></div></a></div></td>, <div class=\"sc-aef7b723-0 LCOyB\" display=\"flex\"><a class=\"cmc-link\" href=\"/currencies/bitcoin/\"><div class=\"sc-aef7b723-0 sc-b585f443-0 hqAcrb\" data-sensors-click=\"true\"><img alt=\"BTC logo\" class=\"coin-logo\" decoding=\"async\" fetchpriority=\"low\" loading=\"lazy\" src=\"https://s2.coinmarketcap.com/static/img/coins/64x64/1.png\"/><div class=\"sc-aef7b723-0 sc-b585f443-1 dUXsZC hide-ranking-number\"><p class=\"sc-4984dd93-0 kKpPOn\" color=\"text\" data-sensors-click=\"true\" font-size=\"1\" font-weight=\"semibold\">Bitcoin</p><div class=\"sc-b585f443-2 SoolS\" data-nosnippet=\"true\"><p class=\"sc-4984dd93-0 iqdbQL coin-item-symbol\" color=\"text3\" data-sensors-click=\"true\" font-size=\"1\">BTC</p></div></div></div></a></div>, <a class=\"cmc-link\" href=\"/currencies/bitcoin/\"><div class=\"sc-aef7b723-0 sc-b585f443-0 hqAcrb\" data-sensors-click=\"true\"><img alt=\"BTC logo\" class=\"coin-logo\" decoding=\"async\" fetchpriority=\"low\" loading=\"lazy\" src=\"https://s2.coinmarketcap.com/static/img/coins/64x64/1.png\"/><div class=\"sc-aef7b723-0 sc-b585f443-1 dUXsZC hide-ranking-number\"><p class=\"sc-4984dd93-0 kKpPOn\" color=\"text\" data-sensors-click=\"true\" font-size=\"1\" font-weight=\"semibold\">Bitcoin</p><div class=\"sc-b585f443-2 SoolS\" data-nosnippet=\"true\"><p class=\"sc-4984dd93-0 iqdbQL coin-item-symbol\" color=\"text3\" data-sensors-click=\"true\" font-size=\"1\">BTC</p></div></div></div></a>, <div class=\"sc-aef7b723-0 sc-b585f443-0 hqAcrb\" data-sensors-click=\"true\"><img alt=\"BTC logo\" class=\"coin-logo\" decoding=\"async\" fetchpriority=\"low\" loading=\"lazy\" src=\"https://s2.coinmarketcap.com/static/img/coins/64x64/1.png\"/><div class=\"sc-aef7b723-0 sc-b585f443-1 dUXsZC hide-ranking-number\"><p class=\"sc-4984dd93-0 kKpPOn\" color=\"text\" data-sensors-click=\"true\" font-size=\"1\" font-weight=\"semibold\">Bitcoin</p><div class=\"sc-b585f443-2 SoolS\" data-nosnippet=\"true\"><p class=\"sc-4984dd93-0 iqdbQL coin-item-symbol\" color=\"text3\" data-sensors-click=\"true\" font-size=\"1\">BTC</p></div></div></div>, <img alt=\"BTC logo\" class=\"coin-logo\" decoding=\"async\" fetchpriority=\"low\" loading=\"lazy\" src=\"https://s2.coinmarketcap.com/static/img/coins/64x64/1.png\"/>, <div class=\"sc-aef7b723-0 sc-b585f443-1 dUXsZC hide-ranking-number\"><p class=\"sc-4984dd93-0 kKpPOn\" color=\"text\" data-sensors-click=\"true\" font-size=\"1\" font-weight=\"semibold\">Bitcoin</p><div class=\"sc-b585f443-2 SoolS\" data-nosnippet=\"true\"><p class=\"sc-4984dd93-0 iqdbQL coin-item-symbol\" color=\"text3\" data-sensors-click=\"true\" font-size=\"1\">BTC</p></div></div>, <p class=\"sc-4984dd93-0 kKpPOn\" color=\"text\" data-sensors-click=\"true\" font-size=\"1\" font-weight=\"semibold\">Bitcoin</p>, 'Bitcoin', <div class=\"sc-b585f443-2 SoolS\" data-nosnippet=\"true\"><p class=\"sc-4984dd93-0 iqdbQL coin-item-symbol\" color=\"text3\" data-sensors-click=\"true\" font-size=\"1\">BTC</p></div>, <p class=\"sc-4984dd93-0 iqdbQL coin-item-symbol\" color=\"text3\" data-sensors-click=\"true\" font-size=\"1\">BTC</p>, 'BTC', <td style=\"text-align:end\"><div class=\"sc-a0353bbc-0 gDrtaY\"><a class=\"cmc-link\" href=\"/currencies/bitcoin/#markets\"><span>$25,678.38</span></a></div></td>, <div class=\"sc-a0353bbc-0 gDrtaY\"><a class=\"cmc-link\" href=\"/currencies/bitcoin/#markets\"><span>$25,678.38</span></a></div>, <a class=\"cmc-link\" href=\"/currencies/bitcoin/#markets\"><span>$25,678.38</span></a>, <span>$25,678.38</span>, '$25,678.38', <td style=\"text-align:end\"><span class=\"sc-d55c02b-0 gUnzUB\"><span class=\"icon-Caret-down\" style=\"width:12px;height:18px;display:inline-block\"></span>0.26%</span></td>, <span class=\"sc-d55c02b-0 gUnzUB\"><span class=\"icon-Caret-down\" style=\"width:12px;height:18px;display:inline-block\"></span>0.26%</span>, <span class=\"icon-Caret-down\" style=\"width:12px;height:18px;display:inline-block\"></span>, '0.26%', <td style=\"text-align:end\"><span class=\"sc-d55c02b-0 gUnzUB\"><span class=\"icon-Caret-down\" style=\"width:12px;height:18px;display:inline-block\"></span>0.88%</span></td>, <span class=\"sc-d55c02b-0 gUnzUB\"><span class=\"icon-Caret-down\" style=\"width:12px;height:18px;display:inline-block\"></span>0.88%</span>, <span class=\"icon-Caret-down\" style=\"width:12px;height:18px;display:inline-block\"></span>, '0.88%', <td style=\"text-align:end\"><span class=\"sc-d55c02b-0 gUnzUB\"><span class=\"icon-Caret-down\" style=\"width:12px;height:18px;display:inline-block\"></span>7.82%</span></td>, <span class=\"sc-d55c02b-0 gUnzUB\"><span class=\"icon-Caret-down\" style=\"width:12px;height:18px;display:inline-block\"></span>7.82%</span>, <span class=\"icon-Caret-down\" style=\"width:12px;height:18px;display:inline-block\"></span>, '7.82%', <td style=\"text-align:end\"><p class=\"sc-4984dd93-0 jZrMxO\" color=\"text\" data-sensors-click=\"true\" font-size=\"1\" style=\"white-space:nowrap\"><span class=\"sc-f8982b1f-0 jYSZLP\">$499.89B</span><span class=\"sc-f8982b1f-1 bOsKfy\" data-nosnippet=\"true\">$499,888,107,440</span></p></td>, <p class=\"sc-4984dd93-0 jZrMxO\" color=\"text\" data-sensors-click=\"true\" font-size=\"1\" style=\"white-space:nowrap\"><span class=\"sc-f8982b1f-0 jYSZLP\">$499.89B</span><span class=\"sc-f8982b1f-1 bOsKfy\" data-nosnippet=\"true\">$499,888,107,440</span></p>, <span class=\"sc-f8982b1f-0 jYSZLP\">$499.89B</span>, '$499.89B', <span class=\"sc-f8982b1f-1 bOsKfy\" data-nosnippet=\"true\">$499,888,107,440</span>, '$499,888,107,440', <td style=\"text-align:end\"><div class=\"sc-aef7b723-0 sc-a0b7a456-0 iHWrYq\"><a class=\"cmc-link\" href=\"/currencies/bitcoin/#markets\"><p class=\"sc-4984dd93-0 jZrMxO font_weight_500\" color=\"text\" data-sensors-click=\"true\" font-size=\"1\">$11,724,953,099</p></a><div data-nosnippet=\"true\"><p class=\"sc-4984dd93-0 ihZPK\" color=\"text2\" data-sensors-click=\"true\" font-size=\"0\">456,841 BTC</p></div></div></td>, <div class=\"sc-aef7b723-0 sc-a0b7a456-0 iHWrYq\"><a class=\"cmc-link\" href=\"/currencies/bitcoin/#markets\"><p class=\"sc-4984dd93-0 jZrMxO font_weight_500\" color=\"text\" data-sensors-click=\"true\" font-size=\"1\">$11,724,953,099</p></a><div data-nosnippet=\"true\"><p class=\"sc-4984dd93-0 ihZPK\" color=\"text2\" data-sensors-click=\"true\" font-size=\"0\">456,841 BTC</p></div></div>, <a class=\"cmc-link\" href=\"/currencies/bitcoin/#markets\"><p class=\"sc-4984dd93-0 jZrMxO font_weight_500\" color=\"text\" data-sensors-click=\"true\" font-size=\"1\">$11,724,953,099</p></a>, <p class=\"sc-4984dd93-0 jZrMxO font_weight_500\" color=\"text\" data-sensors-click=\"true\" font-size=\"1\">$11,724,953,099</p>, '$11,724,953,099', <div data-nosnippet=\"true\"><p class=\"sc-4984dd93-0 ihZPK\" color=\"text2\" data-sensors-click=\"true\" font-size=\"0\">456,841 BTC</p></div>, <p class=\"sc-4984dd93-0 ihZPK\" color=\"text2\" data-sensors-click=\"true\" font-size=\"0\">456,841 BTC</p>, '456,841 BTC', <td style=\"text-align:end\"><div class=\"sc-aef7b723-0 sc-e8f714de-0 cELvic\" data-sensors-click=\"true\" style=\"cursor:pointer\"><div class=\"sc-aef7b723-0 sc-e8f714de-1 hSniWt\"><p class=\"sc-4984dd93-0 WfVLk\" color=\"text\" data-sensors-click=\"true\" font-size=\"1\" font-weight=\"medium\">19,477,231 BTC</p></div><div class=\"sc-4ff2400b-0 hKysZR\" data-sensors-click=\"true\" width=\"160\"><div class=\"sc-4ff2400b-1 ldlrhl\" width=\"149\"></div></div></div></td>, <div class=\"sc-aef7b723-0 sc-e8f714de-0 cELvic\" data-sensors-click=\"true\" style=\"cursor:pointer\"><div class=\"sc-aef7b723-0 sc-e8f714de-1 hSniWt\"><p class=\"sc-4984dd93-0 WfVLk\" color=\"text\" data-sensors-click=\"true\" font-size=\"1\" font-weight=\"medium\">19,477,231 BTC</p></div><div class=\"sc-4ff2400b-0 hKysZR\" data-sensors-click=\"true\" width=\"160\"><div class=\"sc-4ff2400b-1 ldlrhl\" width=\"149\"></div></div></div>, <div class=\"sc-aef7b723-0 sc-e8f714de-1 hSniWt\"><p class=\"sc-4984dd93-0 WfVLk\" color=\"text\" data-sensors-click=\"true\" font-size=\"1\" font-weight=\"medium\">19,477,231 BTC</p></div>, <p class=\"sc-4984dd93-0 WfVLk\" color=\"text\" data-sensors-click=\"true\" font-size=\"1\" font-weight=\"medium\">19,477,231 BTC</p>, '19,477,231 BTC', <div class=\"sc-4ff2400b-0 hKysZR\" data-sensors-click=\"true\" width=\"160\"><div class=\"sc-4ff2400b-1 ldlrhl\" width=\"149\"></div></div>, <div class=\"sc-4ff2400b-1 ldlrhl\" width=\"149\"></div>, <td style=\"text-align:end\"><a class=\"cmc-link\" href=\"/currencies/bitcoin/?period=7d\"><img alt=\"bitcoin-7d-price-graph\" class=\"sc-b28ea1c6-0 ewXAph\" loading=\"lazy\" src=\"https://s3.coinmarketcap.com/generated/sparklines/web/7d/2781/1.svg\"/></a></td>, <a class=\"cmc-link\" href=\"/currencies/bitcoin/?period=7d\"><img alt=\"bitcoin-7d-price-graph\" class=\"sc-b28ea1c6-0 ewXAph\" loading=\"lazy\" src=\"https://s3.coinmarketcap.com/generated/sparklines/web/7d/2781/1.svg\"/></a>, <img alt=\"bitcoin-7d-price-graph\" class=\"sc-b28ea1c6-0 ewXAph\" loading=\"lazy\" src=\"https://s3.coinmarketcap.com/generated/sparklines/web/7d/2781/1.svg\"/>]\n"
          ]
        }
      ]
    },
    {
      "cell_type": "code",
      "source": [
        "# Similarly, we can use\n",
        "# 1. .content\n",
        "# 2. .children: gives tags that are inside the current tag"
      ],
      "metadata": {
        "id": "DakOGYWaBfzB"
      },
      "execution_count": null,
      "outputs": []
    },
    {
      "cell_type": "code",
      "source": [
        "prices = {}\n",
        "for trow in trows[:10]:\n",
        "  name, price = trow.contents[2:4]\n",
        "  fixed_name = name.p.string\n",
        "  fixed_prices = price.a.string\n",
        "\n",
        "  prices[fixed_name] = fixed_prices;\n",
        "\n",
        "print(prices)\n",
        ""
      ],
      "metadata": {
        "colab": {
          "base_uri": "https://localhost:8080/"
        },
        "id": "MXb_PtoxLgUy",
        "outputId": "d2620db7-8476-4b6a-cf81-3750776943ec"
      },
      "execution_count": 85,
      "outputs": [
        {
          "output_type": "stream",
          "name": "stdout",
          "text": [
            "{'Bitcoin': '$25,678.38', 'Ethereum': '$1,630.40', 'Tether USDt': '$0.9996', 'BNB': '$214.41', 'XRP': '$0.5024', 'USD Coin': '$1.00', 'Cardano': '$0.2567', 'Dogecoin': '$0.06376', 'Solana': '$20.24', 'TRON': '$0.07723'}\n"
          ]
        }
      ]
    }
  ]
}
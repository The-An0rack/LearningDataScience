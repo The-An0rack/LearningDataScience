{
  "nbformat": 4,
  "nbformat_minor": 0,
  "metadata": {
    "colab": {
      "provenance": [],
      "authorship_tag": "ABX9TyOXadZScO0bjxfvRxiBtqMY",
      "include_colab_link": true
    },
    "kernelspec": {
      "name": "python3",
      "display_name": "Python 3"
    },
    "language_info": {
      "name": "python"
    }
  },
  "cells": [
    {
      "cell_type": "markdown",
      "metadata": {
        "id": "view-in-github",
        "colab_type": "text"
      },
      "source": [
        "<a href=\"https://colab.research.google.com/github/The-An0rack/LearningDataScience/blob/main/005_LearningBeautifulSoup.ipynb\" target=\"_parent\"><img src=\"https://colab.research.google.com/assets/colab-badge.svg\" alt=\"Open In Colab\"/></a>"
      ]
    },
    {
      "cell_type": "markdown",
      "source": [
        "#**Learning Beautiful Soup**"
      ],
      "metadata": {
        "id": "-4JjBMrgedAH"
      }
    },
    {
      "cell_type": "code",
      "execution_count": 1,
      "metadata": {
        "colab": {
          "base_uri": "https://localhost:8080/"
        },
        "id": "1PuLJFxKaVX-",
        "outputId": "182f8335-80ff-42b3-ca6f-5c5bc1327848"
      },
      "outputs": [
        {
          "output_type": "stream",
          "name": "stdout",
          "text": [
            "Requirement already satisfied: beautifulsoup4 in /usr/local/lib/python3.10/dist-packages (4.11.2)\n",
            "Requirement already satisfied: soupsieve>1.2 in /usr/local/lib/python3.10/dist-packages (from beautifulsoup4) (2.4.1)\n"
          ]
        }
      ],
      "source": [
        "!pip install beautifulsoup4"
      ]
    },
    {
      "cell_type": "code",
      "source": [
        "# Reading a locally stored HTML file\n",
        "from bs4 import BeautifulSoup\n",
        "\n",
        "with open(\"./index.html\", \"r\") as f:\n",
        "  doc = BeautifulSoup(f, \"html.parser\")\n",
        "\n",
        "print(doc.prettify())"
      ],
      "metadata": {
        "colab": {
          "base_uri": "https://localhost:8080/"
        },
        "id": "DE54RvNrehL8",
        "outputId": "2b8e9fa8-d682-45c3-fc3e-b9289b0d1fc5"
      },
      "execution_count": 4,
      "outputs": [
        {
          "output_type": "stream",
          "name": "stdout",
          "text": [
            "<html>\n",
            " <head>\n",
            "  <title>\n",
            "   Your Title Here\n",
            "  </title>\n",
            " </head>\n",
            " <body bgcolor=\"FFFFFF\">\n",
            "  <center>\n",
            "   <img align=\"BOTTOM\" src=\"clouds.jpg\"/>\n",
            "  </center>\n",
            "  <hr/>\n",
            "  <a href=\"http://somegreatsite.com\">\n",
            "   Link Name\n",
            "  </a>\n",
            "  is a link to another nifty site\n",
            "  <h1>\n",
            "   This is a Header\n",
            "  </h1>\n",
            "  <h2>\n",
            "   This is a Medium Header\n",
            "  </h2>\n",
            "  Send me mail at\n",
            "  <a href=\"mailto:support@yourcompany.com\">\n",
            "   support@yourcompany.com\n",
            "  </a>\n",
            "  .\n",
            "  <p>\n",
            "   This is a new paragraph!\n",
            "   <p>\n",
            "    <b color=\"red\">\n",
            "     This is a new paragraph!\n",
            "    </b>\n",
            "    <br/>\n",
            "    <b>\n",
            "     <i>\n",
            "      This is a new sentence without a paragraph break, in bold italics.\n",
            "     </i>\n",
            "    </b>\n",
            "    <hr/>\n",
            "   </p>\n",
            "  </p>\n",
            " </body>\n",
            "</html>\n",
            "\n"
          ]
        }
      ]
    },
    {
      "cell_type": "code",
      "source": [
        "# Find by tag name that occurs first\n",
        "\n",
        "tag = doc.title\n",
        "print(tag)"
      ],
      "metadata": {
        "colab": {
          "base_uri": "https://localhost:8080/"
        },
        "id": "nqmzG9hNlmpg",
        "outputId": "55ebdcb5-042b-4518-d479-923fce5a22f1"
      },
      "execution_count": 5,
      "outputs": [
        {
          "output_type": "stream",
          "name": "stdout",
          "text": [
            "<title>Your Title Here</title>\n"
          ]
        }
      ]
    },
    {
      "cell_type": "code",
      "source": [
        "#To access text inside a tag use .string property\n",
        "\n",
        "print(tag.string)"
      ],
      "metadata": {
        "colab": {
          "base_uri": "https://localhost:8080/"
        },
        "id": "PRdHLAA5mAFF",
        "outputId": "690c2420-f996-4ccd-f968-3059a24b71b7"
      },
      "execution_count": 6,
      "outputs": [
        {
          "output_type": "stream",
          "name": "stdout",
          "text": [
            "Your Title Here\n"
          ]
        }
      ]
    },
    {
      "cell_type": "code",
      "source": [
        "# To modify string inside a tag\n",
        "\n",
        "tag.string = \"Hello World\"\n",
        "print(doc)"
      ],
      "metadata": {
        "colab": {
          "base_uri": "https://localhost:8080/"
        },
        "id": "u9VyGN5UmJJh",
        "outputId": "416c319d-8a2c-4c13-e37c-be79a779060d"
      },
      "execution_count": 7,
      "outputs": [
        {
          "output_type": "stream",
          "name": "stdout",
          "text": [
            "<html>\n",
            "<head>\n",
            "<title>Hello World</title>\n",
            "</head>\n",
            "<body bgcolor=\"FFFFFF\">\n",
            "<center><img align=\"BOTTOM\" src=\"clouds.jpg\"/> </center>\n",
            "<hr/>\n",
            "<a href=\"http://somegreatsite.com\">Link Name</a>\n",
            "\n",
            "is a link to another nifty site\n",
            "\n",
            "<h1>This is a Header</h1>\n",
            "<h2>This is a Medium Header</h2>\n",
            "\n",
            "Send me mail at <a href=\"mailto:support@yourcompany.com\">\n",
            "\n",
            "support@yourcompany.com</a>.\n",
            "\n",
            "<p> This is a new paragraph!\n",
            "\n",
            "<p> <b color=\"red\">This is a new paragraph!</b>\n",
            "<br/> <b><i>This is a new sentence without a paragraph break, in bold italics.</i></b>\n",
            "<hr/>\n",
            "</p></p></body>\n",
            "</html>\n",
            "\n"
          ]
        }
      ]
    },
    {
      "cell_type": "code",
      "source": [
        "# Find all tags: gives a list of all tags\n",
        "\n",
        "p_tags = doc.find_all(\"p\")\n",
        "print(p_tags)"
      ],
      "metadata": {
        "colab": {
          "base_uri": "https://localhost:8080/"
        },
        "id": "JPveDdIumQOh",
        "outputId": "17a48a95-b10c-47e4-a464-104cfc69e992"
      },
      "execution_count": 8,
      "outputs": [
        {
          "output_type": "stream",
          "name": "stdout",
          "text": [
            "[<p> This is a new paragraph!\n",
            "\n",
            "<p> <b color=\"red\">This is a new paragraph!</b>\n",
            "<br/> <b><i>This is a new sentence without a paragraph break, in bold italics.</i></b>\n",
            "<hr/>\n",
            "</p></p>, <p> <b color=\"red\">This is a new paragraph!</b>\n",
            "<br/> <b><i>This is a new sentence without a paragraph break, in bold italics.</i></b>\n",
            "<hr/>\n",
            "</p>]\n"
          ]
        }
      ]
    },
    {
      "cell_type": "markdown",
      "source": [
        "###**Reading a remote file**"
      ],
      "metadata": {
        "id": "C7C3O0_Om75D"
      }
    },
    {
      "cell_type": "code",
      "source": [
        "!pip install beautifulsoup4\n",
        "!pip install requests"
      ],
      "metadata": {
        "colab": {
          "base_uri": "https://localhost:8080/"
        },
        "id": "aHHCkjA-m7b6",
        "outputId": "b8837db8-58ef-4848-d34e-e071998fb40a"
      },
      "execution_count": 9,
      "outputs": [
        {
          "output_type": "stream",
          "name": "stdout",
          "text": [
            "Requirement already satisfied: requests in /usr/local/lib/python3.10/dist-packages (2.31.0)\n",
            "Requirement already satisfied: charset-normalizer<4,>=2 in /usr/local/lib/python3.10/dist-packages (from requests) (3.2.0)\n",
            "Requirement already satisfied: idna<4,>=2.5 in /usr/local/lib/python3.10/dist-packages (from requests) (3.4)\n",
            "Requirement already satisfied: urllib3<3,>=1.21.1 in /usr/local/lib/python3.10/dist-packages (from requests) (2.0.4)\n",
            "Requirement already satisfied: certifi>=2017.4.17 in /usr/local/lib/python3.10/dist-packages (from requests) (2023.7.22)\n"
          ]
        }
      ]
    },
    {
      "cell_type": "code",
      "source": [
        "from bs4 import BeautifulSoup\n",
        "import requests"
      ],
      "metadata": {
        "id": "trpcrZZSnHPM"
      },
      "execution_count": 2,
      "outputs": []
    },
    {
      "cell_type": "code",
      "source": [
        "url = \"https://www.bookchor.com/\"\n",
        "\n",
        "# Many websites have BOT blocker to block this, so it wont work for them\n",
        "result = requests.get(url)\n",
        "print(result.text)"
      ],
      "metadata": {
        "id": "jAmvThZjnlHe"
      },
      "execution_count": null,
      "outputs": []
    },
    {
      "cell_type": "code",
      "source": [
        "doc = BeautifulSoup(result.text, \"html.parser\")\n",
        "print(doc.prettify())"
      ],
      "metadata": {
        "id": "Ku0t5OnCn_W5"
      },
      "execution_count": null,
      "outputs": []
    },
    {
      "cell_type": "code",
      "source": [
        "prices = doc.find_all(string=\"Rs. 399\")\n",
        "print(prices)"
      ],
      "metadata": {
        "colab": {
          "base_uri": "https://localhost:8080/"
        },
        "id": "kcVPrlkVoqj-",
        "outputId": "579757bf-a940-46c6-9d68-7303153c6512"
      },
      "execution_count": 20,
      "outputs": [
        {
          "output_type": "stream",
          "name": "stdout",
          "text": [
            "['Rs. 399', 'Rs. 399', 'Rs. 399', 'Rs. 399', 'Rs. 399', 'Rs. 399', 'Rs. 399', 'Rs. 399', 'Rs. 399', 'Rs. 399', 'Rs. 399', 'Rs. 399', 'Rs. 399', 'Rs. 399', 'Rs. 399', 'Rs. 399', 'Rs. 399', 'Rs. 399', 'Rs. 399', 'Rs. 399', 'Rs. 399']\n"
          ]
        }
      ]
    },
    {
      "cell_type": "code",
      "source": [
        "# .parent property allow us to get the hold of parent tag\n",
        "print(prices[0].parent.parent.parent)"
      ],
      "metadata": {
        "colab": {
          "base_uri": "https://localhost:8080/"
        },
        "id": "BeZKNlI7v12u",
        "outputId": "f4227d7c-4a37-4a87-af6d-7f1e9c9857fb"
      },
      "execution_count": 27,
      "outputs": [
        {
          "output_type": "stream",
          "name": "stdout",
          "text": [
            "<div class=\"product-item\">\n",
            "<div class=\"pi-img-wrapper\">\n",
            "<a href=\"https://www.bookchor.com/book/9781311313319/jane-austen-set-of-3-books\"><img alt=\"JANE AUSTEN SE...\" class=\"img-responsive center-block hidden-xs\" src=\"https://bc-img.s3.ap-south-1.amazonaws.com/images/cover/bc/9781311313319.JPG\" style=\"height: 220px;\"/></a>\n",
            "<a href=\"https://www.bookchor.com/book/9781311313319/jane-austen-set-of-3-books\"><img alt=\"JANE AUSTEN SE...\" class=\"img-responsive center-block hidden-lg hidden-md hidden-sm\" src=\"https://bc-img.s3.ap-south-1.amazonaws.com/images/cover/bc/9781311313319.JPG\" style=\"height: 150px; width:120px;\"/></a>\n",
            "</div>\n",
            "<h3><center><a href=\"https://www.bookchor.com/book/9781311313319/jane-austen-set-of-3-books\">JANE AUSTEN SE...</a><center></center></center></h3>\n",
            "<div class=\"pi-price-left\">\n",
            "<center>Rs. 399</center>\n",
            "</div>\n",
            "<div class=\"pi-price-right\">\n",
            "<s>Rs. 1009</s>\n",
            "</div>\n",
            "</div>\n"
          ]
        }
      ]
    },
    {
      "cell_type": "code",
      "source": [
        "# Getting name of book\n",
        "prices[0].parent.parent.parent.find(\"h3\")"
      ],
      "metadata": {
        "colab": {
          "base_uri": "https://localhost:8080/"
        },
        "id": "opWBvdRaw-0G",
        "outputId": "509eefa0-fdfb-429f-e2b9-57445854e3af"
      },
      "execution_count": 29,
      "outputs": [
        {
          "output_type": "execute_result",
          "data": {
            "text/plain": [
              "<h3><center><a href=\"https://www.bookchor.com/book/9781311313319/jane-austen-set-of-3-books\">JANE AUSTEN SE...</a><center></center></center></h3>"
            ]
          },
          "metadata": {},
          "execution_count": 29
        }
      ]
    },
    {
      "cell_type": "markdown",
      "source": [
        "###**Searching and Filtering**"
      ],
      "metadata": {
        "id": "JmHHtQnbyc3J"
      }
    },
    {
      "cell_type": "code",
      "source": [
        "from bs4 import BeautifulSoup\n",
        "\n",
        "with open(\"./html_files/index2.html\", \"r\") as f:\n",
        "  doc = BeautifulSoup(f, \"html.parser\")\n",
        "\n",
        "print(doc.prettify())"
      ],
      "metadata": {
        "colab": {
          "base_uri": "https://localhost:8080/"
        },
        "id": "KRalRPznybj8",
        "outputId": "b158264e-dc67-4d5c-b08b-f4fe98a9887c"
      },
      "execution_count": 37,
      "outputs": [
        {
          "output_type": "stream",
          "name": "stdout",
          "text": [
            "<!DOCTYPE html>\n",
            "<html>\n",
            " <head>\n",
            "  <title>\n",
            "   Educational registration form\n",
            "  </title>\n",
            "  <link crossorigin=\"anonymous\" href=\"https://use.fontawesome.com/releases/v5.4.1/css/all.css\" integrity=\"sha384-5sAR7xN1Nv6T6+dT2mhtzEpVJvfS3NScPQTrOxhwjIuvcA67KV2R5Jz6kr4abQsz\" rel=\"stylesheet\"/>\n",
            "  <link href=\"https://fonts.googleapis.com/css?family=Roboto:300,400,500,700\" rel=\"stylesheet\"/>\n",
            "  <style>\n",
            "   html, body {\n",
            "      min-height: 100%;\n",
            "      }\n",
            "      body, div, form, input, select, p { \n",
            "      padding: 0;\n",
            "      margin: 0;\n",
            "      outline: none;\n",
            "      font-family: Roboto, Arial, sans-serif;\n",
            "      font-size: 16px;\n",
            "      color: #eee;\n",
            "      }\n",
            "      body {\n",
            "      background: url(\"/uploads/media/default/0001/01/b5edc1bad4dc8c20291c8394527cb2c5b43ee13c.jpeg\") no-repeat center;\n",
            "      background-size: cover;\n",
            "      }\n",
            "      h1, h2 {\n",
            "      text-transform: uppercase;\n",
            "      font-weight: 400;\n",
            "      }\n",
            "      h2 {\n",
            "      margin: 0 0 0 8px;\n",
            "      }\n",
            "      .main-block {\n",
            "      display: flex;\n",
            "      flex-direction: column;\n",
            "      justify-content: center;\n",
            "      align-items: center;\n",
            "      height: 100%;\n",
            "      padding: 25px;\n",
            "      background: rgba(0, 0, 0, 0.5); \n",
            "      }\n",
            "      .left-part, form {\n",
            "      padding: 25px;\n",
            "      }\n",
            "      .left-part {\n",
            "      text-align: center;\n",
            "      }\n",
            "      .fa-graduation-cap {\n",
            "      font-size: 72px;\n",
            "      }\n",
            "      form {\n",
            "      background: rgba(0, 0, 0, 0.7); \n",
            "      }\n",
            "      .title {\n",
            "      display: flex;\n",
            "      align-items: center;\n",
            "      margin-bottom: 20px;\n",
            "      }\n",
            "      .info {\n",
            "      display: flex;\n",
            "      flex-direction: column;\n",
            "      }\n",
            "      input, select {\n",
            "      padding: 5px;\n",
            "      margin-bottom: 30px;\n",
            "      background: transparent;\n",
            "      border: none;\n",
            "      border-bottom: 1px solid #eee;\n",
            "      }\n",
            "      input::placeholder {\n",
            "      color: #eee;\n",
            "      }\n",
            "      option:focus {\n",
            "      border: none;\n",
            "      }\n",
            "      option {\n",
            "      background: black; \n",
            "      border: none;\n",
            "      }\n",
            "      .checkbox input {\n",
            "      margin: 0 10px 0 0;\n",
            "      vertical-align: middle;\n",
            "      }\n",
            "      .checkbox a {\n",
            "      color: #26a9e0;\n",
            "      }\n",
            "      .checkbox a:hover {\n",
            "      color: #85d6de;\n",
            "      }\n",
            "      .btn-item, button {\n",
            "      padding: 10px 5px;\n",
            "      margin-top: 20px;\n",
            "      border-radius: 5px; \n",
            "      border: none;\n",
            "      background: #26a9e0; \n",
            "      text-decoration: none;\n",
            "      font-size: 15px;\n",
            "      font-weight: 400;\n",
            "      color: #fff;\n",
            "      }\n",
            "      .btn-item {\n",
            "      display: inline-block;\n",
            "      margin: 20px 5px 0;\n",
            "      }\n",
            "      button {\n",
            "      width: 100%;\n",
            "      }\n",
            "      button:hover, .btn-item:hover {\n",
            "      background: #85d6de;\n",
            "      }\n",
            "      @media (min-width: 568px) {\n",
            "      html, body {\n",
            "      height: 100%;\n",
            "      }\n",
            "      .main-block {\n",
            "      flex-direction: row;\n",
            "      height: calc(100% - 50px);\n",
            "      }\n",
            "      .left-part, form {\n",
            "      flex: 1;\n",
            "      height: auto;\n",
            "      }\n",
            "      }\n",
            "  </style>\n",
            " </head>\n",
            " <body>\n",
            "  <div class=\"main-block\">\n",
            "   <div class=\"left-part\">\n",
            "    <i class=\"fas fa-graduation-cap\">\n",
            "    </i>\n",
            "    <h1>\n",
            "     Register to our courses\n",
            "    </h1>\n",
            "    <p>\n",
            "     W3docs provides free learning materials for programming languages like HTML, CSS, Java Script, PHP etc.\n",
            "    </p>\n",
            "    <div class=\"btn-group\">\n",
            "     <a class=\"btn-item\" href=\"https://www.w3docs.com/learn-html.html\">\n",
            "      Learn HTML\n",
            "     </a>\n",
            "     <a class=\"btn-item\" href=\"https://www.w3docs.com/quiz/#\">\n",
            "      Select Quiz\n",
            "     </a>\n",
            "    </div>\n",
            "    $2345\n",
            "   </div>\n",
            "   <form action=\"/\">\n",
            "    <div class=\"title\">\n",
            "     <i class=\"fas fa-pencil-alt\">\n",
            "     </i>\n",
            "     <h2>\n",
            "      Register here\n",
            "     </h2>\n",
            "    </div>\n",
            "    $123\n",
            "    <div class=\"info\">\n",
            "     <input class=\"fname\" name=\"name\" placeholder=\"Full name\" type=\"text\"/>\n",
            "     <input name=\"name\" placeholder=\"Email\" type=\"text\"/>\n",
            "     <input name=\"name\" placeholder=\"Phone number\" type=\"text\"/>\n",
            "     <input name=\"name\" placeholder=\"Password\" type=\"password\"/>\n",
            "     <select>\n",
            "      <option selected=\"\" value=\"course-type\">\n",
            "       Course type*\n",
            "      </option>\n",
            "      <option value=\"short-courses\">\n",
            "       Short courses\n",
            "      </option>\n",
            "      <option value=\"featured-courses\">\n",
            "       Featured courses\n",
            "      </option>\n",
            "      <option value=\"undergraduate\">\n",
            "       Undergraduate\n",
            "      </option>\n",
            "      <option value=\"diploma\">\n",
            "       Diploma\n",
            "      </option>\n",
            "      <option value=\"certificate\">\n",
            "       Certificate\n",
            "      </option>\n",
            "      <option value=\"masters-degree\">\n",
            "       Masters degree\n",
            "      </option>\n",
            "      <option value=\"postgraduate\">\n",
            "       Postgraduate\n",
            "      </option>\n",
            "     </select>\n",
            "    </div>\n",
            "    <div class=\"checkbox\">\n",
            "     <input name=\"checkbox\" type=\"checkbox\"/>\n",
            "     <span>\n",
            "      I agree to the\n",
            "      <a href=\"https://www.w3docs.com/privacy-policy\">\n",
            "       Privacy Poalicy for W3Docs.\n",
            "      </a>\n",
            "     </span>\n",
            "    </div>\n",
            "    <button href=\"/\" type=\"submit\">\n",
            "     Submit\n",
            "    </button>\n",
            "   </form>\n",
            "  </div>\n",
            " </body>\n",
            "</html>\n"
          ]
        }
      ]
    },
    {
      "cell_type": "code",
      "source": [
        "tag = doc.find(\"option\")\n",
        "print(tag)"
      ],
      "metadata": {
        "colab": {
          "base_uri": "https://localhost:8080/"
        },
        "id": "CUXNlQUSzo-z",
        "outputId": "3a10b274-5c18-4f37-b36f-9c0f5b7c606d"
      },
      "execution_count": 35,
      "outputs": [
        {
          "output_type": "stream",
          "name": "stdout",
          "text": [
            "<option color=\"blue\" selected=\"new value\" value=\"course-type\">Course type*</option>\n"
          ]
        }
      ]
    },
    {
      "cell_type": "code",
      "source": [
        "# Modifying value of an attribute\n",
        "\n",
        "tag[\"selected\"] = \"new value\"\n",
        "print(tag)"
      ],
      "metadata": {
        "colab": {
          "base_uri": "https://localhost:8080/"
        },
        "id": "D05CIS_uzLLv",
        "outputId": "91dbac6e-79e1-4bee-d40c-9f043c77af72"
      },
      "execution_count": 33,
      "outputs": [
        {
          "output_type": "stream",
          "name": "stdout",
          "text": [
            "<option selected=\"new value\" value=\"course-type\">Course type*</option>\n"
          ]
        }
      ]
    },
    {
      "cell_type": "code",
      "source": [
        "# Adding a new tag\n",
        "tag[\"color\"] = \"blue\"\n",
        "print(tag)"
      ],
      "metadata": {
        "colab": {
          "base_uri": "https://localhost:8080/"
        },
        "id": "nx_Bi5Ikzb6B",
        "outputId": "8fde60c3-9743-4bf4-fb7c-71c0bc185497"
      },
      "execution_count": 38,
      "outputs": [
        {
          "output_type": "stream",
          "name": "stdout",
          "text": [
            "<option color=\"blue\" selected=\"new value\" value=\"course-type\">Course type*</option>\n"
          ]
        }
      ]
    },
    {
      "cell_type": "code",
      "source": [
        "# get dictionary of all attributes\n",
        "print(tag.attrs)"
      ],
      "metadata": {
        "colab": {
          "base_uri": "https://localhost:8080/"
        },
        "id": "UeekhRHyz0Ys",
        "outputId": "f9d6d55c-64af-4d8d-a07e-192b225a19d6"
      },
      "execution_count": 39,
      "outputs": [
        {
          "output_type": "stream",
          "name": "stdout",
          "text": [
            "{'value': 'course-type', 'selected': 'new value', 'color': 'blue'}\n"
          ]
        }
      ]
    },
    {
      "cell_type": "code",
      "source": [
        "# Get multiple types of tags\n",
        "tags = doc.find_all([\"a\",\"h1\"])\n",
        "print(tags)"
      ],
      "metadata": {
        "colab": {
          "base_uri": "https://localhost:8080/"
        },
        "id": "ptvuetDf0VWH",
        "outputId": "16a78184-e6dd-487d-c7f9-e63497c01a71"
      },
      "execution_count": 41,
      "outputs": [
        {
          "output_type": "stream",
          "name": "stdout",
          "text": [
            "[<h1>Register to our courses</h1>, <a class=\"btn-item\" href=\"https://www.w3docs.com/learn-html.html\">Learn HTML</a>, <a class=\"btn-item\" href=\"https://www.w3docs.com/quiz/#\">Select Quiz</a>, <a href=\"https://www.w3docs.com/privacy-policy\">Privacy Poalicy for W3Docs.</a>]\n"
          ]
        }
      ]
    },
    {
      "cell_type": "code",
      "source": [
        "# Search for a combination of things\n",
        "tag2 = doc.find_all(\"option\", string = \"Undergraduate\")\n",
        "print(tag2)\n",
        "\n"
      ],
      "metadata": {
        "colab": {
          "base_uri": "https://localhost:8080/"
        },
        "id": "_-GFobjm0udy",
        "outputId": "96e36a87-7c14-4659-bf3e-4174beab9f64"
      },
      "execution_count": 43,
      "outputs": [
        {
          "output_type": "stream",
          "name": "stdout",
          "text": [
            "[<option value=\"undergraduate\">Undergraduate</option>]\n"
          ]
        }
      ]
    },
    {
      "cell_type": "code",
      "source": [
        "# Similarly we can also search for attributes properties\n",
        "tag3 = doc.find_all(\"option\", value = \"undergraduate\")\n",
        "print(tag3)"
      ],
      "metadata": {
        "colab": {
          "base_uri": "https://localhost:8080/"
        },
        "id": "dmv6hee71Gjt",
        "outputId": "08d5af11-3896-4384-8ea8-8ec545911341"
      },
      "execution_count": 45,
      "outputs": [
        {
          "output_type": "stream",
          "name": "stdout",
          "text": [
            "[<option value=\"undergraduate\">Undergraduate</option>]\n"
          ]
        }
      ]
    },
    {
      "cell_type": "code",
      "source": [
        "# Look for different class names\n",
        "button_tags = doc.find_all(class_=\"btn-item\")\n",
        "print(button_tags)"
      ],
      "metadata": {
        "colab": {
          "base_uri": "https://localhost:8080/"
        },
        "id": "yzO40jf01fBJ",
        "outputId": "2db0adbe-9bf3-410f-fbcb-afd5972f9b93"
      },
      "execution_count": 46,
      "outputs": [
        {
          "output_type": "stream",
          "name": "stdout",
          "text": [
            "[<a class=\"btn-item\" href=\"https://www.w3docs.com/learn-html.html\">Learn HTML</a>, <a class=\"btn-item\" href=\"https://www.w3docs.com/quiz/#\">Select Quiz</a>]\n"
          ]
        }
      ]
    },
    {
      "cell_type": "markdown",
      "source": [
        "###**Using Regular Expressions in Python**"
      ],
      "metadata": {
        "id": "dUbfra7Q1938"
      }
    },
    {
      "cell_type": "code",
      "source": [
        "from bs4 import BeautifulSoup\n",
        "import re\n",
        "\n",
        "tags = doc.find_all(string = re.compile(\"\\$.*\"))\n",
        "print(tags)"
      ],
      "metadata": {
        "colab": {
          "base_uri": "https://localhost:8080/"
        },
        "id": "yPtsiz4-19hV",
        "outputId": "16d621fb-58e1-43ca-d112-22162722f8f9"
      },
      "execution_count": 52,
      "outputs": [
        {
          "output_type": "stream",
          "name": "stdout",
          "text": [
            "['\\n        $2345\\n      ', '\\n        $123\\n        ']\n"
          ]
        }
      ]
    },
    {
      "cell_type": "code",
      "source": [
        "# We can also restrict to find first n results\n",
        "\n",
        "tags = doc.find_all(string = re.compile(\"\\$.*\"), limit = 1)\n",
        "print(tags)"
      ],
      "metadata": {
        "colab": {
          "base_uri": "https://localhost:8080/"
        },
        "id": "kDiluXvZ4-Ka",
        "outputId": "ff22a1b2-4853-48f5-8c4d-7fdf61999251"
      },
      "execution_count": 53,
      "outputs": [
        {
          "output_type": "stream",
          "name": "stdout",
          "text": [
            "['\\n        $2345\\n      ']\n"
          ]
        }
      ]
    },
    {
      "cell_type": "markdown",
      "source": [
        "###**Saving modified documents**"
      ],
      "metadata": {
        "id": "dysCQmMY5S1r"
      }
    },
    {
      "cell_type": "code",
      "source": [
        "tags = doc.find_all(\"input\", type=\"text\")\n",
        "for tag in tags:\n",
        "  tag[\"placeholder\"] = \"I changed you\"\n",
        "\n",
        "with open(\"changed.html\", \"w\") as file:\n",
        "  file.write(str(doc))"
      ],
      "metadata": {
        "id": "ZgAFsqcY5SjM"
      },
      "execution_count": 54,
      "outputs": []
    },
    {
      "cell_type": "markdown",
      "source": [
        "##**Navigating the HTML tree**"
      ],
      "metadata": {
        "id": "3NHYc9Ck7Y-O"
      }
    },
    {
      "cell_type": "code",
      "source": [
        "from bs4 import BeautifulSoup\n",
        "import requests\n",
        "\n",
        "url = \"https://coinmarketcap.com/\"\n",
        "result = requests.get(url)\n",
        "doc = BeautifulSoup(result.text, \"html.parser\")\n",
        "print(doc.prettify())"
      ],
      "metadata": {
        "id": "N-m1wsOW9rOE"
      },
      "execution_count": null,
      "outputs": []
    },
    {
      "cell_type": "code",
      "source": [
        "# Grab table body\n",
        "tbody = doc.tbody\n",
        "\n",
        "# Grab all table rows\n",
        "trows = tbody.contents\n",
        "print(trows)"
      ],
      "metadata": {
        "colab": {
          "base_uri": "https://localhost:8080/"
        },
        "id": "Z4K9dW8Y-3v1",
        "outputId": "41e55683-3088-4e1d-d47a-e7ab91ffb63b"
      },
      "execution_count": 61,
      "outputs": [
        {
          "output_type": "stream",
          "name": "stdout",
          "text": [
            "[<tr><td><span class=\"sc-c0b4ee1-2 bwyOyZ\"></span></td><td style=\"text-align:start\"><p class=\"sc-4984dd93-0 iWSjWE\" color=\"text2\" data-sensors-click=\"true\" font-size=\"14\">1</p></td><td style=\"text-align:start\"><div class=\"sc-aef7b723-0 LCOyB\" display=\"flex\"><a class=\"cmc-link\" href=\"/currencies/bitcoin/\"><div class=\"sc-aef7b723-0 sc-b585f443-0 hqAcrb\" data-sensors-click=\"true\"><img alt=\"BTC logo\" class=\"coin-logo\" decoding=\"async\" fetchpriority=\"low\" loading=\"lazy\" src=\"https://s2.coinmarketcap.com/static/img/coins/64x64/1.png\"/><div class=\"sc-aef7b723-0 sc-b585f443-1 dUXsZC hide-ranking-number\"><p class=\"sc-4984dd93-0 kKpPOn\" color=\"text\" data-sensors-click=\"true\" font-size=\"1\" font-weight=\"semibold\">Bitcoin</p><div class=\"sc-b585f443-2 SoolS\" data-nosnippet=\"true\"><p class=\"sc-4984dd93-0 iqdbQL coin-item-symbol\" color=\"text3\" data-sensors-click=\"true\" font-size=\"1\">BTC</p></div></div></div></a></div></td><td style=\"text-align:end\"><div class=\"sc-a0353bbc-0 gDrtaY\"><a class=\"cmc-link\" href=\"/currencies/bitcoin/#markets\"><span>$25,678.38</span></a></div></td><td style=\"text-align:end\"><span class=\"sc-d55c02b-0 gUnzUB\"><span class=\"icon-Caret-down\" style=\"width:12px;height:18px;display:inline-block\"></span>0.26%</span></td><td style=\"text-align:end\"><span class=\"sc-d55c02b-0 gUnzUB\"><span class=\"icon-Caret-down\" style=\"width:12px;height:18px;display:inline-block\"></span>0.88%</span></td><td style=\"text-align:end\"><span class=\"sc-d55c02b-0 gUnzUB\"><span class=\"icon-Caret-down\" style=\"width:12px;height:18px;display:inline-block\"></span>7.82%</span></td><td style=\"text-align:end\"><p class=\"sc-4984dd93-0 jZrMxO\" color=\"text\" data-sensors-click=\"true\" font-size=\"1\" style=\"white-space:nowrap\"><span class=\"sc-f8982b1f-0 jYSZLP\">$499.89B</span><span class=\"sc-f8982b1f-1 bOsKfy\" data-nosnippet=\"true\">$499,888,107,440</span></p></td><td style=\"text-align:end\"><div class=\"sc-aef7b723-0 sc-a0b7a456-0 iHWrYq\"><a class=\"cmc-link\" href=\"/currencies/bitcoin/#markets\"><p class=\"sc-4984dd93-0 jZrMxO font_weight_500\" color=\"text\" data-sensors-click=\"true\" font-size=\"1\">$11,724,953,099</p></a><div data-nosnippet=\"true\"><p class=\"sc-4984dd93-0 ihZPK\" color=\"text2\" data-sensors-click=\"true\" font-size=\"0\">456,841 BTC</p></div></div></td><td style=\"text-align:end\"><div class=\"sc-aef7b723-0 sc-e8f714de-0 cELvic\" data-sensors-click=\"true\" style=\"cursor:pointer\"><div class=\"sc-aef7b723-0 sc-e8f714de-1 hSniWt\"><p class=\"sc-4984dd93-0 WfVLk\" color=\"text\" data-sensors-click=\"true\" font-size=\"1\" font-weight=\"medium\">19,477,231 BTC</p></div><div class=\"sc-4ff2400b-0 hKysZR\" data-sensors-click=\"true\" width=\"160\"><div class=\"sc-4ff2400b-1 ldlrhl\" width=\"149\"></div></div></div></td><td style=\"text-align:end\"><a class=\"cmc-link\" href=\"/currencies/bitcoin/?period=7d\"><img alt=\"bitcoin-7d-price-graph\" class=\"sc-b28ea1c6-0 ewXAph\" loading=\"lazy\" src=\"https://s3.coinmarketcap.com/generated/sparklines/web/7d/2781/1.svg\"/></a></td></tr>, <tr><td><span class=\"sc-c0b4ee1-2 bwyOyZ\"></span></td><td style=\"text-align:start\"><p class=\"sc-4984dd93-0 iWSjWE\" color=\"text2\" data-sensors-click=\"true\" font-size=\"14\">2</p></td><td style=\"text-align:start\"><div class=\"sc-aef7b723-0 LCOyB\" display=\"flex\"><a class=\"cmc-link\" href=\"/currencies/ethereum/\"><div class=\"sc-aef7b723-0 sc-b585f443-0 hqAcrb\" data-sensors-click=\"true\"><img alt=\"ETH logo\" class=\"coin-logo\" decoding=\"async\" fetchpriority=\"low\" loading=\"lazy\" src=\"https://s2.coinmarketcap.com/static/img/coins/64x64/1027.png\"/><div class=\"sc-aef7b723-0 sc-b585f443-1 dUXsZC hide-ranking-number\"><p class=\"sc-4984dd93-0 kKpPOn\" color=\"text\" data-sensors-click=\"true\" font-size=\"1\" font-weight=\"semibold\">Ethereum</p><div class=\"sc-b585f443-2 SoolS\" data-nosnippet=\"true\"><p class=\"sc-4984dd93-0 iqdbQL coin-item-symbol\" color=\"text3\" data-sensors-click=\"true\" font-size=\"1\">ETH</p></div></div></div></a></div></td><td style=\"text-align:end\"><div class=\"sc-a0353bbc-0 gDrtaY\"><a class=\"cmc-link\" href=\"/currencies/ethereum/#markets\"><span>$1,630.40</span></a></div></td><td style=\"text-align:end\"><span class=\"sc-d55c02b-0 gUnzUB\"><span class=\"icon-Caret-down\" style=\"width:12px;height:18px;display:inline-block\"></span>0.40%</span></td><td style=\"text-align:end\"><span class=\"sc-d55c02b-0 gUnzUB\"><span class=\"icon-Caret-down\" style=\"width:12px;height:18px;display:inline-block\"></span>0.06%</span></td><td style=\"text-align:end\"><span class=\"sc-d55c02b-0 gUnzUB\"><span class=\"icon-Caret-down\" style=\"width:12px;height:18px;display:inline-block\"></span>6.28%</span></td><td style=\"text-align:end\"><p class=\"sc-4984dd93-0 jZrMxO\" color=\"text\" data-sensors-click=\"true\" font-size=\"1\" style=\"white-space:nowrap\"><span class=\"sc-f8982b1f-0 jYSZLP\">$196.03B</span><span class=\"sc-f8982b1f-1 bOsKfy\" data-nosnippet=\"true\">$196,032,926,771</span></p></td><td style=\"text-align:end\"><div class=\"sc-aef7b723-0 sc-a0b7a456-0 iHWrYq\"><a class=\"cmc-link\" href=\"/currencies/ethereum/#markets\"><p class=\"sc-4984dd93-0 jZrMxO font_weight_500\" color=\"text\" data-sensors-click=\"true\" font-size=\"1\">$4,758,101,592</p></a><div data-nosnippet=\"true\"><p class=\"sc-4984dd93-0 ihZPK\" color=\"text2\" data-sensors-click=\"true\" font-size=\"0\">2,917,930 ETH</p></div></div></td><td style=\"text-align:end\"><div class=\"sc-aef7b723-0 sc-e8f714de-0 cELvic\" data-sensors-click=\"true\" style=\"cursor:\"><div class=\"sc-aef7b723-0 sc-e8f714de-1 hSniWt\"><p class=\"sc-4984dd93-0 WfVLk\" color=\"text\" data-sensors-click=\"true\" font-size=\"1\" font-weight=\"medium\">120,218,194 ETH</p></div></div></td><td style=\"text-align:end\"><a class=\"cmc-link\" href=\"/currencies/ethereum/?period=7d\"><img alt=\"ethereum-7d-price-graph\" class=\"sc-b28ea1c6-0 ewXAph\" loading=\"lazy\" src=\"https://s3.coinmarketcap.com/generated/sparklines/web/7d/2781/1027.svg\"/></a></td></tr>, <tr><td><span class=\"sc-c0b4ee1-2 bwyOyZ\"></span></td><td style=\"text-align:start\"><p class=\"sc-4984dd93-0 iWSjWE\" color=\"text2\" data-sensors-click=\"true\" font-size=\"14\">3</p></td><td style=\"text-align:start\"><div class=\"sc-aef7b723-0 LCOyB\" display=\"flex\"><a class=\"cmc-link\" href=\"/currencies/tether/\"><div class=\"sc-aef7b723-0 sc-b585f443-0 hqAcrb\" data-sensors-click=\"true\"><img alt=\"USDT logo\" class=\"coin-logo\" decoding=\"async\" fetchpriority=\"low\" loading=\"lazy\" src=\"https://s2.coinmarketcap.com/static/img/coins/64x64/825.png\"/><div class=\"sc-aef7b723-0 sc-b585f443-1 dUXsZC hide-ranking-number\"><p class=\"sc-4984dd93-0 kKpPOn\" color=\"text\" data-sensors-click=\"true\" font-size=\"1\" font-weight=\"semibold\">Tether USDt</p><div class=\"sc-b585f443-2 SoolS\" data-nosnippet=\"true\"><p class=\"sc-4984dd93-0 iqdbQL coin-item-symbol\" color=\"text3\" data-sensors-click=\"true\" font-size=\"1\">USDT</p></div></div></div></a></div></td><td style=\"text-align:end\"><div class=\"sc-a0353bbc-0 gDrtaY\"><a class=\"cmc-link\" href=\"/currencies/tether/#markets\"><span>$0.9996</span></a></div></td><td style=\"text-align:end\"><span class=\"sc-d55c02b-0 iwhBxy\"><span class=\"icon-Caret-up\" style=\"width:12px;height:18px;display:inline-block\"></span>0.02%</span></td><td style=\"text-align:end\"><span class=\"sc-d55c02b-0 iwhBxy\"><span class=\"icon-Caret-up\" style=\"width:12px;height:18px;display:inline-block\"></span>0.00%</span></td><td style=\"text-align:end\"><span class=\"sc-d55c02b-0 gUnzUB\"><span class=\"icon-Caret-down\" style=\"width:12px;height:18px;display:inline-block\"></span>0.05%</span></td><td style=\"text-align:end\"><p class=\"sc-4984dd93-0 jZrMxO\" color=\"text\" data-sensors-click=\"true\" font-size=\"1\" style=\"white-space:nowrap\"><span class=\"sc-f8982b1f-0 jYSZLP\">$82.87B</span><span class=\"sc-f8982b1f-1 bOsKfy\" data-nosnippet=\"true\">$82,869,839,378</span></p></td><td style=\"text-align:end\"><div class=\"sc-aef7b723-0 sc-a0b7a456-0 iHWrYq\"><a class=\"cmc-link\" href=\"/currencies/tether/#markets\"><p class=\"sc-4984dd93-0 jZrMxO font_weight_500\" color=\"text\" data-sensors-click=\"true\" font-size=\"1\">$19,052,745,991</p></a><div data-nosnippet=\"true\"><p class=\"sc-4984dd93-0 ihZPK\" color=\"text2\" data-sensors-click=\"true\" font-size=\"0\">19,060,948,571 USDT</p></div></div></td><td style=\"text-align:end\"><div class=\"sc-aef7b723-0 sc-e8f714de-0 cELvic\" data-sensors-click=\"true\" style=\"cursor:\"><div class=\"sc-aef7b723-0 sc-e8f714de-1 hSniWt\"><p class=\"sc-4984dd93-0 WfVLk\" color=\"text\" data-sensors-click=\"true\" font-size=\"1\" font-weight=\"medium\">82,905,516,464 USDT</p></div></div></td><td style=\"text-align:end\"><a class=\"cmc-link\" href=\"/currencies/tether/?period=7d\"><img alt=\"tether-7d-price-graph\" class=\"sc-b28ea1c6-0 ewXAph\" loading=\"lazy\" src=\"https://s3.coinmarketcap.com/generated/sparklines/web/7d/2781/825.svg\"/></a></td></tr>, <tr><td><span class=\"sc-c0b4ee1-2 bwyOyZ\"></span></td><td style=\"text-align:start\"><p class=\"sc-4984dd93-0 iWSjWE\" color=\"text2\" data-sensors-click=\"true\" font-size=\"14\">4</p></td><td style=\"text-align:start\"><div class=\"sc-aef7b723-0 LCOyB\" display=\"flex\"><a class=\"cmc-link\" href=\"/currencies/bnb/\"><div class=\"sc-aef7b723-0 sc-b585f443-0 hqAcrb\" data-sensors-click=\"true\"><img alt=\"BNB logo\" class=\"coin-logo\" decoding=\"async\" fetchpriority=\"low\" loading=\"lazy\" src=\"https://s2.coinmarketcap.com/static/img/coins/64x64/1839.png\"/><div class=\"sc-aef7b723-0 sc-b585f443-1 dUXsZC hide-ranking-number\"><p class=\"sc-4984dd93-0 kKpPOn\" color=\"text\" data-sensors-click=\"true\" font-size=\"1\" font-weight=\"semibold\">BNB</p><div class=\"sc-b585f443-2 SoolS\" data-nosnippet=\"true\"><p class=\"sc-4984dd93-0 iqdbQL coin-item-symbol\" color=\"text3\" data-sensors-click=\"true\" font-size=\"1\">BNB</p></div></div></div></a></div></td><td style=\"text-align:end\"><div class=\"sc-a0353bbc-0 gDrtaY\"><a class=\"cmc-link\" href=\"/currencies/bnb/#markets\"><span>$214.41</span></a></div></td><td style=\"text-align:end\"><span class=\"sc-d55c02b-0 gUnzUB\"><span class=\"icon-Caret-down\" style=\"width:12px;height:18px;display:inline-block\"></span>0.36%</span></td><td style=\"text-align:end\"><span class=\"sc-d55c02b-0 gUnzUB\"><span class=\"icon-Caret-down\" style=\"width:12px;height:18px;display:inline-block\"></span>0.65%</span></td><td style=\"text-align:end\"><span class=\"sc-d55c02b-0 gUnzUB\"><span class=\"icon-Caret-down\" style=\"width:12px;height:18px;display:inline-block\"></span>5.75%</span></td><td style=\"text-align:end\"><p class=\"sc-4984dd93-0 jZrMxO\" color=\"text\" data-sensors-click=\"true\" font-size=\"1\" style=\"white-space:nowrap\"><span class=\"sc-f8982b1f-0 jYSZLP\">$33B</span><span class=\"sc-f8982b1f-1 bOsKfy\" data-nosnippet=\"true\">$32,997,205,875</span></p></td><td style=\"text-align:end\"><div class=\"sc-aef7b723-0 sc-a0b7a456-0 iHWrYq\"><a class=\"cmc-link\" href=\"/currencies/bnb/#markets\"><p class=\"sc-4984dd93-0 jZrMxO font_weight_500\" color=\"text\" data-sensors-click=\"true\" font-size=\"1\">$301,958,575</p></a><div data-nosnippet=\"true\"><p class=\"sc-4984dd93-0 ihZPK\" color=\"text2\" data-sensors-click=\"true\" font-size=\"0\">1,407,885 BNB</p></div></div></td><td style=\"text-align:end\"><div class=\"sc-aef7b723-0 sc-e8f714de-0 cELvic\" data-sensors-click=\"true\" style=\"cursor:\"><div class=\"sc-aef7b723-0 sc-e8f714de-1 hSniWt\"><p class=\"sc-4984dd93-0 WfVLk\" color=\"text\" data-sensors-click=\"true\" font-size=\"1\" font-weight=\"medium\">153,849,818 BNB</p></div></div></td><td style=\"text-align:end\"><a class=\"cmc-link\" href=\"/currencies/bnb/?period=7d\"><img alt=\"bnb-7d-price-graph\" class=\"sc-b28ea1c6-0 ewXAph\" loading=\"lazy\" src=\"https://s3.coinmarketcap.com/generated/sparklines/web/7d/2781/1839.svg\"/></a></td></tr>, <tr><td><span class=\"sc-c0b4ee1-2 bwyOyZ\"></span></td><td style=\"text-align:start\"><p class=\"sc-4984dd93-0 iWSjWE\" color=\"text2\" data-sensors-click=\"true\" font-size=\"14\">5</p></td><td style=\"text-align:start\"><div class=\"sc-aef7b723-0 LCOyB\" display=\"flex\"><a class=\"cmc-link\" href=\"/currencies/xrp/\"><div class=\"sc-aef7b723-0 sc-b585f443-0 hqAcrb\" data-sensors-click=\"true\"><img alt=\"XRP logo\" class=\"coin-logo\" decoding=\"async\" fetchpriority=\"low\" loading=\"lazy\" src=\"https://s2.coinmarketcap.com/static/img/coins/64x64/52.png\"/><div class=\"sc-aef7b723-0 sc-b585f443-1 dUXsZC hide-ranking-number\"><p class=\"sc-4984dd93-0 kKpPOn\" color=\"text\" data-sensors-click=\"true\" font-size=\"1\" font-weight=\"semibold\">XRP</p><div class=\"sc-b585f443-2 SoolS\" data-nosnippet=\"true\"><p class=\"sc-4984dd93-0 iqdbQL coin-item-symbol\" color=\"text3\" data-sensors-click=\"true\" font-size=\"1\">XRP</p></div></div></div></a></div></td><td style=\"text-align:end\"><div class=\"sc-a0353bbc-0 gDrtaY\"><a class=\"cmc-link\" href=\"/currencies/xrp/#markets\"><span>$0.5024</span></a></div></td><td style=\"text-align:end\"><span class=\"sc-d55c02b-0 gUnzUB\"><span class=\"icon-Caret-down\" style=\"width:12px;height:18px;display:inline-block\"></span>0.07%</span></td><td style=\"text-align:end\"><span class=\"sc-d55c02b-0 gUnzUB\"><span class=\"icon-Caret-down\" style=\"width:12px;height:18px;display:inline-block\"></span>1.35%</span></td><td style=\"text-align:end\"><span class=\"sc-d55c02b-0 gUnzUB\"><span class=\"icon-Caret-down\" style=\"width:12px;height:18px;display:inline-block\"></span>6.94%</span></td><td style=\"text-align:end\"><p class=\"sc-4984dd93-0 jZrMxO\" color=\"text\" data-sensors-click=\"true\" font-size=\"1\" style=\"white-space:nowrap\"><span class=\"sc-f8982b1f-0 jYSZLP\">$26.62B</span><span class=\"sc-f8982b1f-1 bOsKfy\" data-nosnippet=\"true\">$26,615,749,748</span></p></td><td style=\"text-align:end\"><div class=\"sc-aef7b723-0 sc-a0b7a456-0 iHWrYq\"><a class=\"cmc-link\" href=\"/currencies/xrp/#markets\"><p class=\"sc-4984dd93-0 jZrMxO font_weight_500\" color=\"text\" data-sensors-click=\"true\" font-size=\"1\">$781,647,785</p></a><div data-nosnippet=\"true\"><p class=\"sc-4984dd93-0 ihZPK\" color=\"text2\" data-sensors-click=\"true\" font-size=\"0\">1,555,841,951 XRP</p></div></div></td><td style=\"text-align:end\"><div class=\"sc-aef7b723-0 sc-e8f714de-0 cELvic\" data-sensors-click=\"true\" style=\"cursor:pointer\"><div class=\"sc-aef7b723-0 sc-e8f714de-1 hSniWt\"><p class=\"sc-4984dd93-0 WfVLk\" color=\"text\" data-sensors-click=\"true\" font-size=\"1\" font-weight=\"medium\">52,977,697,600 XRP</p></div><div class=\"sc-4ff2400b-0 hKysZR\" data-sensors-click=\"true\" width=\"160\"><div class=\"sc-4ff2400b-1 dNwJcE\" width=\"85\"></div></div></div></td><td style=\"text-align:end\"><a class=\"cmc-link\" href=\"/currencies/xrp/?period=7d\"><img alt=\"xrp-7d-price-graph\" class=\"sc-b28ea1c6-0 ewXAph\" loading=\"lazy\" src=\"https://s3.coinmarketcap.com/generated/sparklines/web/7d/2781/52.svg\"/></a></td></tr>, <tr><td><span class=\"sc-c0b4ee1-2 bwyOyZ\"></span></td><td style=\"text-align:start\"><p class=\"sc-4984dd93-0 iWSjWE\" color=\"text2\" data-sensors-click=\"true\" font-size=\"14\">6</p></td><td style=\"text-align:start\"><div class=\"sc-aef7b723-0 LCOyB\" display=\"flex\"><a class=\"cmc-link\" href=\"/currencies/usd-coin/\"><div class=\"sc-aef7b723-0 sc-b585f443-0 hqAcrb\" data-sensors-click=\"true\"><img alt=\"USDC logo\" class=\"coin-logo\" decoding=\"async\" fetchpriority=\"low\" loading=\"lazy\" src=\"https://s2.coinmarketcap.com/static/img/coins/64x64/3408.png\"/><div class=\"sc-aef7b723-0 sc-b585f443-1 dUXsZC hide-ranking-number\"><p class=\"sc-4984dd93-0 kKpPOn\" color=\"text\" data-sensors-click=\"true\" font-size=\"1\" font-weight=\"semibold\">USD Coin</p><div class=\"sc-b585f443-2 SoolS\" data-nosnippet=\"true\"><p class=\"sc-4984dd93-0 iqdbQL coin-item-symbol\" color=\"text3\" data-sensors-click=\"true\" font-size=\"1\">USDC</p></div></div></div></a></div></td><td style=\"text-align:end\"><div class=\"sc-a0353bbc-0 gDrtaY\"><a class=\"cmc-link\" href=\"/currencies/usd-coin/#markets\"><span>$1.00</span></a></div></td><td style=\"text-align:end\"><span class=\"sc-d55c02b-0 iwhBxy\"><span class=\"icon-Caret-up\" style=\"width:12px;height:18px;display:inline-block\"></span>0.01%</span></td><td style=\"text-align:end\"><span class=\"sc-d55c02b-0 iwhBxy\"><span class=\"icon-Caret-up\" style=\"width:12px;height:18px;display:inline-block\"></span>0.01%</span></td><td style=\"text-align:end\"><span class=\"sc-d55c02b-0 gUnzUB\"><span class=\"icon-Caret-down\" style=\"width:12px;height:18px;display:inline-block\"></span>0.00%</span></td><td style=\"text-align:end\"><p class=\"sc-4984dd93-0 jZrMxO\" color=\"text\" data-sensors-click=\"true\" font-size=\"1\" style=\"white-space:nowrap\"><span class=\"sc-f8982b1f-0 jYSZLP\">$25.99B</span><span class=\"sc-f8982b1f-1 bOsKfy\" data-nosnippet=\"true\">$25,989,645,435</span></p></td><td style=\"text-align:end\"><div class=\"sc-aef7b723-0 sc-a0b7a456-0 iHWrYq\"><a class=\"cmc-link\" href=\"/currencies/usd-coin/#markets\"><p class=\"sc-4984dd93-0 jZrMxO font_weight_500\" color=\"text\" data-sensors-click=\"true\" font-size=\"1\">$2,612,668,745</p></a><div data-nosnippet=\"true\"><p class=\"sc-4984dd93-0 ihZPK\" color=\"text2\" data-sensors-click=\"true\" font-size=\"0\">2,612,610,840 USDC</p></div></div></td><td style=\"text-align:end\"><div class=\"sc-aef7b723-0 sc-e8f714de-0 cELvic\" data-sensors-click=\"true\" style=\"cursor:\"><div class=\"sc-aef7b723-0 sc-e8f714de-1 hSniWt\"><p class=\"sc-4984dd93-0 WfVLk\" color=\"text\" data-sensors-click=\"true\" font-size=\"1\" font-weight=\"medium\">25,989,069,415 USDC</p></div></div></td><td style=\"text-align:end\"><a class=\"cmc-link\" href=\"/currencies/usd-coin/?period=7d\"><img alt=\"usd-coin-7d-price-graph\" class=\"sc-b28ea1c6-0 ewXAph\" loading=\"lazy\" src=\"https://s3.coinmarketcap.com/generated/sparklines/web/7d/2781/3408.svg\"/></a></td></tr>, <tr><td><span class=\"sc-c0b4ee1-2 bwyOyZ\"></span></td><td style=\"text-align:start\"><p class=\"sc-4984dd93-0 iWSjWE\" color=\"text2\" data-sensors-click=\"true\" font-size=\"14\">7</p></td><td style=\"text-align:start\"><div class=\"sc-aef7b723-0 LCOyB\" display=\"flex\"><a class=\"cmc-link\" href=\"/currencies/cardano/\"><div class=\"sc-aef7b723-0 sc-b585f443-0 hqAcrb\" data-sensors-click=\"true\"><img alt=\"ADA logo\" class=\"coin-logo\" decoding=\"async\" fetchpriority=\"low\" loading=\"lazy\" src=\"https://s2.coinmarketcap.com/static/img/coins/64x64/2010.png\"/><div class=\"sc-aef7b723-0 sc-b585f443-1 dUXsZC hide-ranking-number\"><p class=\"sc-4984dd93-0 kKpPOn\" color=\"text\" data-sensors-click=\"true\" font-size=\"1\" font-weight=\"semibold\">Cardano</p><div class=\"sc-b585f443-2 SoolS\" data-nosnippet=\"true\"><p class=\"sc-4984dd93-0 iqdbQL coin-item-symbol\" color=\"text3\" data-sensors-click=\"true\" font-size=\"1\">ADA</p></div></div></div></a></div></td><td style=\"text-align:end\"><div class=\"sc-a0353bbc-0 gDrtaY\"><a class=\"cmc-link\" href=\"/currencies/cardano/#markets\"><span>$0.2567</span></a></div></td><td style=\"text-align:end\"><span class=\"sc-d55c02b-0 gUnzUB\"><span class=\"icon-Caret-down\" style=\"width:12px;height:18px;display:inline-block\"></span>0.27%</span></td><td style=\"text-align:end\"><span class=\"sc-d55c02b-0 iwhBxy\"><span class=\"icon-Caret-up\" style=\"width:12px;height:18px;display:inline-block\"></span>0.30%</span></td><td style=\"text-align:end\"><span class=\"sc-d55c02b-0 gUnzUB\"><span class=\"icon-Caret-down\" style=\"width:12px;height:18px;display:inline-block\"></span>7.16%</span></td><td style=\"text-align:end\"><p class=\"sc-4984dd93-0 jZrMxO\" color=\"text\" data-sensors-click=\"true\" font-size=\"1\" style=\"white-space:nowrap\"><span class=\"sc-f8982b1f-0 jYSZLP\">$9B</span><span class=\"sc-f8982b1f-1 bOsKfy\" data-nosnippet=\"true\">$9,004,615,982</span></p></td><td style=\"text-align:end\"><div class=\"sc-aef7b723-0 sc-a0b7a456-0 iHWrYq\"><a class=\"cmc-link\" href=\"/currencies/cardano/#markets\"><p class=\"sc-4984dd93-0 jZrMxO font_weight_500\" color=\"text\" data-sensors-click=\"true\" font-size=\"1\">$93,964,988</p></a><div data-nosnippet=\"true\"><p class=\"sc-4984dd93-0 ihZPK\" color=\"text2\" data-sensors-click=\"true\" font-size=\"0\">366,079,134 ADA</p></div></div></td><td style=\"text-align:end\"><div class=\"sc-aef7b723-0 sc-e8f714de-0 cELvic\" data-sensors-click=\"true\" style=\"cursor:pointer\"><div class=\"sc-aef7b723-0 sc-e8f714de-1 hSniWt\"><p class=\"sc-4984dd93-0 WfVLk\" color=\"text\" data-sensors-click=\"true\" font-size=\"1\" font-weight=\"medium\">35,081,173,115 ADA</p></div><div class=\"sc-4ff2400b-0 hKysZR\" data-sensors-click=\"true\" width=\"160\"><div class=\"sc-4ff2400b-1 ldlvUL\" width=\"125\"></div></div></div></td><td style=\"text-align:end\"><a class=\"cmc-link\" href=\"/currencies/cardano/?period=7d\"><img alt=\"cardano-7d-price-graph\" class=\"sc-b28ea1c6-0 ewXAph\" loading=\"lazy\" src=\"https://s3.coinmarketcap.com/generated/sparklines/web/7d/2781/2010.svg\"/></a></td></tr>, <tr><td><span class=\"sc-c0b4ee1-2 bwyOyZ\"></span></td><td style=\"text-align:start\"><p class=\"sc-4984dd93-0 iWSjWE\" color=\"text2\" data-sensors-click=\"true\" font-size=\"14\">8</p></td><td style=\"text-align:start\"><div class=\"sc-aef7b723-0 LCOyB\" display=\"flex\"><a class=\"cmc-link\" href=\"/currencies/dogecoin/\"><div class=\"sc-aef7b723-0 sc-b585f443-0 hqAcrb\" data-sensors-click=\"true\"><img alt=\"DOGE logo\" class=\"coin-logo\" decoding=\"async\" fetchpriority=\"low\" loading=\"lazy\" src=\"https://s2.coinmarketcap.com/static/img/coins/64x64/74.png\"/><div class=\"sc-aef7b723-0 sc-b585f443-1 dUXsZC hide-ranking-number\"><p class=\"sc-4984dd93-0 kKpPOn\" color=\"text\" data-sensors-click=\"true\" font-size=\"1\" font-weight=\"semibold\">Dogecoin</p><div class=\"sc-b585f443-2 SoolS\" data-nosnippet=\"true\"><p class=\"sc-4984dd93-0 iqdbQL coin-item-symbol\" color=\"text3\" data-sensors-click=\"true\" font-size=\"1\">DOGE</p></div></div></div></a></div></td><td style=\"text-align:end\"><div class=\"sc-a0353bbc-0 gDrtaY\"><a class=\"cmc-link\" href=\"/currencies/dogecoin/#markets\"><span>$0.06376</span></a></div></td><td style=\"text-align:end\"><span class=\"sc-d55c02b-0 gUnzUB\"><span class=\"icon-Caret-down\" style=\"width:12px;height:18px;display:inline-block\"></span>0.42%</span></td><td style=\"text-align:end\"><span class=\"sc-d55c02b-0 iwhBxy\"><span class=\"icon-Caret-up\" style=\"width:12px;height:18px;display:inline-block\"></span>0.92%</span></td><td style=\"text-align:end\"><span class=\"sc-d55c02b-0 gUnzUB\"><span class=\"icon-Caret-down\" style=\"width:12px;height:18px;display:inline-block\"></span>5.01%</span></td><td style=\"text-align:end\"><p class=\"sc-4984dd93-0 jZrMxO\" color=\"text\" data-sensors-click=\"true\" font-size=\"1\" style=\"white-space:nowrap\"><span class=\"sc-f8982b1f-0 jYSZLP\">$8.98B</span><span class=\"sc-f8982b1f-1 bOsKfy\" data-nosnippet=\"true\">$8,982,699,614</span></p></td><td style=\"text-align:end\"><div class=\"sc-aef7b723-0 sc-a0b7a456-0 iHWrYq\"><a class=\"cmc-link\" href=\"/currencies/dogecoin/#markets\"><p class=\"sc-4984dd93-0 jZrMxO font_weight_500\" color=\"text\" data-sensors-click=\"true\" font-size=\"1\">$219,826,295</p></a><div data-nosnippet=\"true\"><p class=\"sc-4984dd93-0 ihZPK\" color=\"text2\" data-sensors-click=\"true\" font-size=\"0\">3,447,778,748 DOGE</p></div></div></td><td style=\"text-align:end\"><div class=\"sc-aef7b723-0 sc-e8f714de-0 cELvic\" data-sensors-click=\"true\" style=\"cursor:\"><div class=\"sc-aef7b723-0 sc-e8f714de-1 hSniWt\"><p class=\"sc-4984dd93-0 WfVLk\" color=\"text\" data-sensors-click=\"true\" font-size=\"1\" font-weight=\"medium\">140,885,606,384 DOGE</p></div></div></td><td style=\"text-align:end\"><a class=\"cmc-link\" href=\"/currencies/dogecoin/?period=7d\"><img alt=\"dogecoin-7d-price-graph\" class=\"sc-b28ea1c6-0 ewXAph\" loading=\"lazy\" src=\"https://s3.coinmarketcap.com/generated/sparklines/web/7d/2781/74.svg\"/></a></td></tr>, <tr><td><span class=\"sc-c0b4ee1-2 bwyOyZ\"></span></td><td style=\"text-align:start\"><p class=\"sc-4984dd93-0 iWSjWE\" color=\"text2\" data-sensors-click=\"true\" font-size=\"14\">9</p></td><td style=\"text-align:start\"><div class=\"sc-aef7b723-0 LCOyB\" display=\"flex\"><a class=\"cmc-link\" href=\"/currencies/solana/\"><div class=\"sc-aef7b723-0 sc-b585f443-0 hqAcrb\" data-sensors-click=\"true\"><img alt=\"SOL logo\" class=\"coin-logo\" decoding=\"async\" fetchpriority=\"low\" loading=\"lazy\" src=\"https://s2.coinmarketcap.com/static/img/coins/64x64/5426.png\"/><div class=\"sc-aef7b723-0 sc-b585f443-1 dUXsZC hide-ranking-number\"><p class=\"sc-4984dd93-0 kKpPOn\" color=\"text\" data-sensors-click=\"true\" font-size=\"1\" font-weight=\"semibold\">Solana</p><div class=\"sc-b585f443-2 SoolS\" data-nosnippet=\"true\"><p class=\"sc-4984dd93-0 iqdbQL coin-item-symbol\" color=\"text3\" data-sensors-click=\"true\" font-size=\"1\">SOL</p></div></div></div></a></div></td><td style=\"text-align:end\"><div class=\"sc-a0353bbc-0 gDrtaY\"><a class=\"cmc-link\" href=\"/currencies/solana/#markets\"><span>$20.24</span></a></div></td><td style=\"text-align:end\"><span class=\"sc-d55c02b-0 gUnzUB\"><span class=\"icon-Caret-down\" style=\"width:12px;height:18px;display:inline-block\"></span>0.58%</span></td><td style=\"text-align:end\"><span class=\"sc-d55c02b-0 iwhBxy\"><span class=\"icon-Caret-up\" style=\"width:12px;height:18px;display:inline-block\"></span>4.12%</span></td><td style=\"text-align:end\"><span class=\"sc-d55c02b-0 gUnzUB\"><span class=\"icon-Caret-down\" style=\"width:12px;height:18px;display:inline-block\"></span>6.51%</span></td><td style=\"text-align:end\"><p class=\"sc-4984dd93-0 jZrMxO\" color=\"text\" data-sensors-click=\"true\" font-size=\"1\" style=\"white-space:nowrap\"><span class=\"sc-f8982b1f-0 jYSZLP\">$8.27B</span><span class=\"sc-f8982b1f-1 bOsKfy\" data-nosnippet=\"true\">$8,272,968,386</span></p></td><td style=\"text-align:end\"><div class=\"sc-aef7b723-0 sc-a0b7a456-0 iHWrYq\"><a class=\"cmc-link\" href=\"/currencies/solana/#markets\"><p class=\"sc-4984dd93-0 jZrMxO font_weight_500\" color=\"text\" data-sensors-click=\"true\" font-size=\"1\">$377,012,694</p></a><div data-nosnippet=\"true\"><p class=\"sc-4984dd93-0 ihZPK\" color=\"text2\" data-sensors-click=\"true\" font-size=\"0\">18,631,051 SOL</p></div></div></td><td style=\"text-align:end\"><div class=\"sc-aef7b723-0 sc-e8f714de-0 cELvic\" data-sensors-click=\"true\" style=\"cursor:\"><div class=\"sc-aef7b723-0 sc-e8f714de-1 hSniWt\"><p class=\"sc-4984dd93-0 WfVLk\" color=\"text\" data-sensors-click=\"true\" font-size=\"1\" font-weight=\"medium\">408,829,994 SOL</p></div></div></td><td style=\"text-align:end\"><a class=\"cmc-link\" href=\"/currencies/solana/?period=7d\"><img alt=\"solana-7d-price-graph\" class=\"sc-b28ea1c6-0 ewXAph\" loading=\"lazy\" src=\"https://s3.coinmarketcap.com/generated/sparklines/web/7d/2781/5426.svg\"/></a></td></tr>, <tr><td><span class=\"sc-c0b4ee1-2 bwyOyZ\"></span></td><td style=\"text-align:start\"><p class=\"sc-4984dd93-0 iWSjWE\" color=\"text2\" data-sensors-click=\"true\" font-size=\"14\">10</p></td><td style=\"text-align:start\"><div class=\"sc-aef7b723-0 LCOyB\" display=\"flex\"><a class=\"cmc-link\" href=\"/currencies/tron/\"><div class=\"sc-aef7b723-0 sc-b585f443-0 hqAcrb\" data-sensors-click=\"true\"><img alt=\"TRX logo\" class=\"coin-logo\" decoding=\"async\" fetchpriority=\"low\" loading=\"lazy\" src=\"https://s2.coinmarketcap.com/static/img/coins/64x64/1958.png\"/><div class=\"sc-aef7b723-0 sc-b585f443-1 dUXsZC hide-ranking-number\"><p class=\"sc-4984dd93-0 kKpPOn\" color=\"text\" data-sensors-click=\"true\" font-size=\"1\" font-weight=\"semibold\">TRON</p><div class=\"sc-b585f443-2 SoolS\" data-nosnippet=\"true\"><p class=\"sc-4984dd93-0 iqdbQL coin-item-symbol\" color=\"text3\" data-sensors-click=\"true\" font-size=\"1\">TRX</p></div></div></div></a></div></td><td style=\"text-align:end\"><div class=\"sc-a0353bbc-0 gDrtaY\"><a class=\"cmc-link\" href=\"/currencies/tron/#markets\"><span>$0.07723</span></a></div></td><td style=\"text-align:end\"><span class=\"sc-d55c02b-0 gUnzUB\"><span class=\"icon-Caret-down\" style=\"width:12px;height:18px;display:inline-block\"></span>0.21%</span></td><td style=\"text-align:end\"><span class=\"sc-d55c02b-0 gUnzUB\"><span class=\"icon-Caret-down\" style=\"width:12px;height:18px;display:inline-block\"></span>0.16%</span></td><td style=\"text-align:end\"><span class=\"sc-d55c02b-0 gUnzUB\"><span class=\"icon-Caret-down\" style=\"width:12px;height:18px;display:inline-block\"></span>0.22%</span></td><td style=\"text-align:end\"><p class=\"sc-4984dd93-0 jZrMxO\" color=\"text\" data-sensors-click=\"true\" font-size=\"1\" style=\"white-space:nowrap\"><span class=\"sc-f8982b1f-0 jYSZLP\">$6.9B</span><span class=\"sc-f8982b1f-1 bOsKfy\" data-nosnippet=\"true\">$6,895,233,901</span></p></td><td style=\"text-align:end\"><div class=\"sc-aef7b723-0 sc-a0b7a456-0 iHWrYq\"><a class=\"cmc-link\" href=\"/currencies/tron/#markets\"><p class=\"sc-4984dd93-0 jZrMxO font_weight_500\" color=\"text\" data-sensors-click=\"true\" font-size=\"1\">$142,619,826</p></a><div data-nosnippet=\"true\"><p class=\"sc-4984dd93-0 ihZPK\" color=\"text2\" data-sensors-click=\"true\" font-size=\"0\">1,846,734,252 TRX</p></div></div></td><td style=\"text-align:end\"><div class=\"sc-aef7b723-0 sc-e8f714de-0 cELvic\" data-sensors-click=\"true\" style=\"cursor:\"><div class=\"sc-aef7b723-0 sc-e8f714de-1 hSniWt\"><p class=\"sc-4984dd93-0 WfVLk\" color=\"text\" data-sensors-click=\"true\" font-size=\"1\" font-weight=\"medium\">89,283,972,278 TRX</p></div></div></td><td style=\"text-align:end\"><a class=\"cmc-link\" href=\"/currencies/tron/?period=7d\"><img alt=\"tron-7d-price-graph\" class=\"sc-b28ea1c6-0 ewXAph\" loading=\"lazy\" src=\"https://s3.coinmarketcap.com/generated/sparklines/web/7d/2781/1958.svg\"/></a></td></tr>, <tr class=\"sc-428ddaf3-0 bKFMfg\"><td><span></span></td><td><span></span></td><td><a class=\"cmc-link\" href=\"/currencies/toncoin/\"><span class=\"circle\"></span><span>Toncoin</span><span class=\"crypto-symbol\">TON</span></a></td><td><span>$<!-- -->1.79</span></td><td><span></span></td></tr>, <tr class=\"sc-428ddaf3-0 bKFMfg\"><td><span></span></td><td><span></span></td><td><a class=\"cmc-link\" href=\"/currencies/multi-collateral-dai/\"><span class=\"circle\"></span><span>Dai</span><span class=\"crypto-symbol\">DAI</span></a></td><td><span>$<!-- -->1.00</span></td><td><span></span></td></tr>, <tr class=\"sc-428ddaf3-0 bKFMfg\"><td><span></span></td><td><span></span></td><td><a class=\"cmc-link\" href=\"/currencies/polygon/\"><span class=\"circle\"></span><span>Polygon</span><span class=\"crypto-symbol\">MATIC</span></a></td><td><span>$<!-- -->0.56</span></td><td><span></span></td></tr>, <tr class=\"sc-428ddaf3-0 bKFMfg\"><td><span></span></td><td><span></span></td><td><a class=\"cmc-link\" href=\"/currencies/polkadot-new/\"><span class=\"circle\"></span><span>Polkadot</span><span class=\"crypto-symbol\">DOT</span></a></td><td><span>$<!-- -->4.24</span></td><td><span></span></td></tr>, <tr class=\"sc-428ddaf3-0 bKFMfg\"><td><span></span></td><td><span></span></td><td><a class=\"cmc-link\" href=\"/currencies/litecoin/\"><span class=\"circle\"></span><span>Litecoin</span><span class=\"crypto-symbol\">LTC</span></a></td><td><span>$<!-- -->63.05</span></td><td><span></span></td></tr>, <tr class=\"sc-428ddaf3-0 bKFMfg\"><td><span></span></td><td><span></span></td><td><a class=\"cmc-link\" href=\"/currencies/shiba-inu/\"><span class=\"circle\"></span><span>Shiba Inu</span><span class=\"crypto-symbol\">SHIB</span></a></td><td><span>$<!-- -->0.00</span></td><td><span></span></td></tr>, <tr class=\"sc-428ddaf3-0 bKFMfg\"><td><span></span></td><td><span></span></td><td><a class=\"cmc-link\" href=\"/currencies/wrapped-bitcoin/\"><span class=\"circle\"></span><span>Wrapped Bitcoin</span><span class=\"crypto-symbol\">WBTC</span></a></td><td><span>$<!-- -->25742.12</span></td><td><span></span></td></tr>, <tr class=\"sc-428ddaf3-0 bKFMfg\"><td><span></span></td><td><span></span></td><td><a class=\"cmc-link\" href=\"/currencies/bitcoin-cash/\"><span class=\"circle\"></span><span>Bitcoin Cash</span><span class=\"crypto-symbol\">BCH</span></a></td><td><span>$<!-- -->190.12</span></td><td><span></span></td></tr>, <tr class=\"sc-428ddaf3-0 bKFMfg\"><td><span></span></td><td><span></span></td><td><a class=\"cmc-link\" href=\"/currencies/avalanche/\"><span class=\"circle\"></span><span>Avalanche</span><span class=\"crypto-symbol\">AVAX</span></a></td><td><span>$<!-- -->9.86</span></td><td><span></span></td></tr>, <tr class=\"sc-428ddaf3-0 bKFMfg\"><td><span></span></td><td><span></span></td><td><a class=\"cmc-link\" href=\"/currencies/unus-sed-leo/\"><span class=\"circle\"></span><span>UNUS SED LEO</span><span class=\"crypto-symbol\">LEO</span></a></td><td><span>$<!-- -->3.67</span></td><td><span></span></td></tr>, <tr class=\"sc-428ddaf3-0 bKFMfg\"><td><span></span></td><td><span></span></td><td><a class=\"cmc-link\" href=\"/currencies/stellar/\"><span class=\"circle\"></span><span>Stellar</span><span class=\"crypto-symbol\">XLM</span></a></td><td><span>$<!-- -->0.12</span></td><td><span></span></td></tr>, <tr class=\"sc-428ddaf3-0 bKFMfg\"><td><span></span></td><td><span></span></td><td><a class=\"cmc-link\" href=\"/currencies/chainlink/\"><span class=\"circle\"></span><span>Chainlink</span><span class=\"crypto-symbol\">LINK</span></a></td><td><span>$<!-- -->6.11</span></td><td><span></span></td></tr>, <tr class=\"sc-428ddaf3-0 bKFMfg\"><td><span></span></td><td><span></span></td><td><a class=\"cmc-link\" href=\"/currencies/trueusd/\"><span class=\"circle\"></span><span>TrueUSD</span><span class=\"crypto-symbol\">TUSD</span></a></td><td><span>$<!-- -->1.00</span></td><td><span></span></td></tr>, <tr class=\"sc-428ddaf3-0 bKFMfg\"><td><span></span></td><td><span></span></td><td><a class=\"cmc-link\" href=\"/currencies/binance-usd/\"><span class=\"circle\"></span><span>Binance USD</span><span class=\"crypto-symbol\">BUSD</span></a></td><td><span>$<!-- -->1.00</span></td><td><span></span></td></tr>, <tr class=\"sc-428ddaf3-0 bKFMfg\"><td><span></span></td><td><span></span></td><td><a class=\"cmc-link\" href=\"/currencies/monero/\"><span class=\"circle\"></span><span>Monero</span><span class=\"crypto-symbol\">XMR</span></a></td><td><span>$<!-- -->139.27</span></td><td><span></span></td></tr>, <tr class=\"sc-428ddaf3-0 bKFMfg\"><td><span></span></td><td><span></span></td><td><a class=\"cmc-link\" href=\"/currencies/okb/\"><span class=\"circle\"></span><span>OKB</span><span class=\"crypto-symbol\">OKB</span></a></td><td><span>$<!-- -->42.07</span></td><td><span></span></td></tr>, <tr class=\"sc-428ddaf3-0 bKFMfg\"><td><span></span></td><td><span></span></td><td><a class=\"cmc-link\" href=\"/currencies/uniswap/\"><span class=\"circle\"></span><span>Uniswap</span><span class=\"crypto-symbol\">UNI</span></a></td><td><span>$<!-- -->4.35</span></td><td><span></span></td></tr>, <tr class=\"sc-428ddaf3-0 bKFMfg\"><td><span></span></td><td><span></span></td><td><a class=\"cmc-link\" href=\"/currencies/cosmos/\"><span class=\"circle\"></span><span>Cosmos</span><span class=\"crypto-symbol\">ATOM</span></a></td><td><span>$<!-- -->6.78</span></td><td><span></span></td></tr>, <tr class=\"sc-428ddaf3-0 bKFMfg\"><td><span></span></td><td><span></span></td><td><a class=\"cmc-link\" href=\"/currencies/ethereum-classic/\"><span class=\"circle\"></span><span>Ethereum Classic</span><span class=\"crypto-symbol\">ETC</span></a></td><td><span>$<!-- -->15.34</span></td><td><span></span></td></tr>, <tr class=\"sc-428ddaf3-0 bKFMfg\"><td><span></span></td><td><span></span></td><td><a class=\"cmc-link\" href=\"/currencies/hedera/\"><span class=\"circle\"></span><span>Hedera</span><span class=\"crypto-symbol\">HBAR</span></a></td><td><span>$<!-- -->0.05</span></td><td><span></span></td></tr>, <tr class=\"sc-428ddaf3-0 bKFMfg\"><td><span></span></td><td><span></span></td><td><a class=\"cmc-link\" href=\"/currencies/internet-computer/\"><span class=\"circle\"></span><span>Internet Computer</span><span class=\"crypto-symbol\">ICP</span></a></td><td><span>$<!-- -->3.27</span></td><td><span></span></td></tr>, <tr class=\"sc-428ddaf3-0 bKFMfg\"><td><span></span></td><td><span></span></td><td><a class=\"cmc-link\" href=\"/currencies/filecoin/\"><span class=\"circle\"></span><span>Filecoin</span><span class=\"crypto-symbol\">FIL</span></a></td><td><span>$<!-- -->3.23</span></td><td><span></span></td></tr>, <tr class=\"sc-428ddaf3-0 bKFMfg\"><td><span></span></td><td><span></span></td><td><a class=\"cmc-link\" href=\"/currencies/lido-dao/\"><span class=\"circle\"></span><span>Lido DAO</span><span class=\"crypto-symbol\">LDO</span></a></td><td><span>$<!-- -->1.56</span></td><td><span></span></td></tr>, <tr class=\"sc-428ddaf3-0 bKFMfg\"><td><span></span></td><td><span></span></td><td><a class=\"cmc-link\" href=\"/currencies/mantle/\"><span class=\"circle\"></span><span>Mantle</span><span class=\"crypto-symbol\">MNT</span></a></td><td><span>$<!-- -->0.43</span></td><td><span></span></td></tr>, <tr class=\"sc-428ddaf3-0 bKFMfg\"><td><span></span></td><td><span></span></td><td><a class=\"cmc-link\" href=\"/currencies/cronos/\"><span class=\"circle\"></span><span>Cronos</span><span class=\"crypto-symbol\">CRO</span></a></td><td><span>$<!-- -->0.05</span></td><td><span></span></td></tr>, <tr class=\"sc-428ddaf3-0 bKFMfg\"><td><span></span></td><td><span></span></td><td><a class=\"cmc-link\" href=\"/currencies/aptos/\"><span class=\"circle\"></span><span>Aptos</span><span class=\"crypto-symbol\">APT</span></a></td><td><span>$<!-- -->5.49</span></td><td><span></span></td></tr>, <tr class=\"sc-428ddaf3-0 bKFMfg\"><td><span></span></td><td><span></span></td><td><a class=\"cmc-link\" href=\"/currencies/quant/\"><span class=\"circle\"></span><span>Quant</span><span class=\"crypto-symbol\">QNT</span></a></td><td><span>$<!-- -->98.57</span></td><td><span></span></td></tr>, <tr class=\"sc-428ddaf3-0 bKFMfg\"><td><span></span></td><td><span></span></td><td><a class=\"cmc-link\" href=\"/currencies/arbitrum/\"><span class=\"circle\"></span><span>Arbitrum</span><span class=\"crypto-symbol\">ARB</span></a></td><td><span>$<!-- -->0.90</span></td><td><span></span></td></tr>, <tr class=\"sc-428ddaf3-0 bKFMfg\"><td><span></span></td><td><span></span></td><td><a class=\"cmc-link\" href=\"/currencies/vechain/\"><span class=\"circle\"></span><span>VeChain</span><span class=\"crypto-symbol\">VET</span></a></td><td><span>$<!-- -->0.02</span></td><td><span></span></td></tr>, <tr class=\"sc-428ddaf3-0 bKFMfg\"><td><span></span></td><td><span></span></td><td><a class=\"cmc-link\" href=\"/currencies/maker/\"><span class=\"circle\"></span><span>Maker</span><span class=\"crypto-symbol\">MKR</span></a></td><td><span>$<!-- -->1127.22</span></td><td><span></span></td></tr>, <tr class=\"sc-428ddaf3-0 bKFMfg\"><td><span></span></td><td><span></span></td><td><a class=\"cmc-link\" href=\"/currencies/optimism-ethereum/\"><span class=\"circle\"></span><span>Optimism</span><span class=\"crypto-symbol\">OP</span></a></td><td><span>$<!-- -->1.33</span></td><td><span></span></td></tr>, <tr class=\"sc-428ddaf3-0 bKFMfg\"><td><span></span></td><td><span></span></td><td><a class=\"cmc-link\" href=\"/currencies/near-protocol/\"><span class=\"circle\"></span><span>NEAR Protocol</span><span class=\"crypto-symbol\">NEAR</span></a></td><td><span>$<!-- -->1.12</span></td><td><span></span></td></tr>, <tr class=\"sc-428ddaf3-0 bKFMfg\"><td><span></span></td><td><span></span></td><td><a class=\"cmc-link\" href=\"/currencies/aave/\"><span class=\"circle\"></span><span>Aave</span><span class=\"crypto-symbol\">AAVE</span></a></td><td><span>$<!-- -->55.30</span></td><td><span></span></td></tr>, <tr class=\"sc-428ddaf3-0 bKFMfg\"><td><span></span></td><td><span></span></td><td><a class=\"cmc-link\" href=\"/currencies/the-graph/\"><span class=\"circle\"></span><span>The Graph</span><span class=\"crypto-symbol\">GRT</span></a></td><td><span>$<!-- -->0.09</span></td><td><span></span></td></tr>, <tr class=\"sc-428ddaf3-0 bKFMfg\"><td><span></span></td><td><span></span></td><td><a class=\"cmc-link\" href=\"/currencies/xdc-network/\"><span class=\"circle\"></span><span>XDC Network</span><span class=\"crypto-symbol\">XDC</span></a></td><td><span>$<!-- -->0.06</span></td><td><span></span></td></tr>, <tr class=\"sc-428ddaf3-0 bKFMfg\"><td><span></span></td><td><span></span></td><td><a class=\"cmc-link\" href=\"/currencies/algorand/\"><span class=\"circle\"></span><span>Algorand</span><span class=\"crypto-symbol\">ALGO</span></a></td><td><span>$<!-- -->0.09</span></td><td><span></span></td></tr>, <tr class=\"sc-428ddaf3-0 bKFMfg\"><td><span></span></td><td><span></span></td><td><a class=\"cmc-link\" href=\"/currencies/usdd/\"><span class=\"circle\"></span><span>USDD</span><span class=\"crypto-symbol\">USDD</span></a></td><td><span>$<!-- -->1.00</span></td><td><span></span></td></tr>, <tr class=\"sc-428ddaf3-0 bKFMfg\"><td><span></span></td><td><span></span></td><td><a class=\"cmc-link\" href=\"/currencies/stacks/\"><span class=\"circle\"></span><span>Stacks</span><span class=\"crypto-symbol\">STX</span></a></td><td><span>$<!-- -->0.47</span></td><td><span></span></td></tr>, <tr class=\"sc-428ddaf3-0 bKFMfg\"><td><span></span></td><td><span></span></td><td><a class=\"cmc-link\" href=\"/currencies/tezos/\"><span class=\"circle\"></span><span>Tezos</span><span class=\"crypto-symbol\">XTZ</span></a></td><td><span>$<!-- -->0.70</span></td><td><span></span></td></tr>, <tr class=\"sc-428ddaf3-0 bKFMfg\"><td><span></span></td><td><span></span></td><td><a class=\"cmc-link\" href=\"/currencies/multiversx-egld/\"><span class=\"circle\"></span><span>MultiversX</span><span class=\"crypto-symbol\">EGLD</span></a></td><td><span>$<!-- -->25.07</span></td><td><span></span></td></tr>, <tr class=\"sc-428ddaf3-0 bKFMfg\"><td><span></span></td><td><span></span></td><td><a class=\"cmc-link\" href=\"/currencies/eos/\"><span class=\"circle\"></span><span>EOS</span><span class=\"crypto-symbol\">EOS</span></a></td><td><span>$<!-- -->0.59</span></td><td><span></span></td></tr>, <tr class=\"sc-428ddaf3-0 bKFMfg\"><td><span></span></td><td><span></span></td><td><a class=\"cmc-link\" href=\"/currencies/axie-infinity/\"><span class=\"circle\"></span><span>Axie Infinity</span><span class=\"crypto-symbol\">AXS</span></a></td><td><span>$<!-- -->4.54</span></td><td><span></span></td></tr>, <tr class=\"sc-428ddaf3-0 bKFMfg\"><td><span></span></td><td><span></span></td><td><a class=\"cmc-link\" href=\"/currencies/the-sandbox/\"><span class=\"circle\"></span><span>The Sandbox</span><span class=\"crypto-symbol\">SAND</span></a></td><td><span>$<!-- -->0.31</span></td><td><span></span></td></tr>, <tr class=\"sc-428ddaf3-0 bKFMfg\"><td><span></span></td><td><span></span></td><td><a class=\"cmc-link\" href=\"/currencies/theta-network/\"><span class=\"circle\"></span><span>Theta Network</span><span class=\"crypto-symbol\">THETA</span></a></td><td><span>$<!-- -->0.62</span></td><td><span></span></td></tr>, <tr class=\"sc-428ddaf3-0 bKFMfg\"><td><span></span></td><td><span></span></td><td><a class=\"cmc-link\" href=\"/currencies/immutable-x/\"><span class=\"circle\"></span><span>Immutable</span><span class=\"crypto-symbol\">IMX</span></a></td><td><span>$<!-- -->0.55</span></td><td><span></span></td></tr>, <tr class=\"sc-428ddaf3-0 bKFMfg\"><td><span></span></td><td><span></span></td><td><a class=\"cmc-link\" href=\"/currencies/synthetix/\"><span class=\"circle\"></span><span>Synthetix</span><span class=\"crypto-symbol\">SNX</span></a></td><td><span>$<!-- -->2.27</span></td><td><span></span></td></tr>, <tr class=\"sc-428ddaf3-0 bKFMfg\"><td><span></span></td><td><span></span></td><td><a class=\"cmc-link\" href=\"/currencies/bitcoin-sv/\"><span class=\"circle\"></span><span>Bitcoin SV</span><span class=\"crypto-symbol\">BSV</span></a></td><td><span>$<!-- -->30.47</span></td><td><span></span></td></tr>, <tr class=\"sc-428ddaf3-0 bKFMfg\"><td><span></span></td><td><span></span></td><td><a class=\"cmc-link\" href=\"/currencies/injective/\"><span class=\"circle\"></span><span>Injective</span><span class=\"crypto-symbol\">INJ</span></a></td><td><span>$<!-- -->6.85</span></td><td><span></span></td></tr>, <tr class=\"sc-428ddaf3-0 bKFMfg\"><td><span></span></td><td><span></span></td><td><a class=\"cmc-link\" href=\"/currencies/fantom/\"><span class=\"circle\"></span><span>Fantom</span><span class=\"crypto-symbol\">FTM</span></a></td><td><span>$<!-- -->0.20</span></td><td><span></span></td></tr>, <tr class=\"sc-428ddaf3-0 bKFMfg\"><td><span></span></td><td><span></span></td><td><a class=\"cmc-link\" href=\"/currencies/decentraland/\"><span class=\"circle\"></span><span>Decentraland</span><span class=\"crypto-symbol\">MANA</span></a></td><td><span>$<!-- -->0.29</span></td><td><span></span></td></tr>, <tr class=\"sc-428ddaf3-0 bKFMfg\"><td><span></span></td><td><span></span></td><td><a class=\"cmc-link\" href=\"/currencies/neo/\"><span class=\"circle\"></span><span>Neo</span><span class=\"crypto-symbol\">NEO</span></a></td><td><span>$<!-- -->7.47</span></td><td><span></span></td></tr>, <tr class=\"sc-428ddaf3-0 bKFMfg\"><td><span></span></td><td><span></span></td><td><a class=\"cmc-link\" href=\"/currencies/thorchain/\"><span class=\"circle\"></span><span>THORChain</span><span class=\"crypto-symbol\">RUNE</span></a></td><td><span>$<!-- -->1.50</span></td><td><span></span></td></tr>, <tr class=\"sc-428ddaf3-0 bKFMfg\"><td><span></span></td><td><span></span></td><td><a class=\"cmc-link\" href=\"/currencies/render/\"><span class=\"circle\"></span><span>Render</span><span class=\"crypto-symbol\">RNDR</span></a></td><td><span>$<!-- -->1.35</span></td><td><span></span></td></tr>, <tr class=\"sc-428ddaf3-0 bKFMfg\"><td><span></span></td><td><span></span></td><td><a class=\"cmc-link\" href=\"/currencies/paxos-standard/\"><span class=\"circle\"></span><span>Pax Dollar</span><span class=\"crypto-symbol\">USDP</span></a></td><td><span>$<!-- -->1.00</span></td><td><span></span></td></tr>, <tr class=\"sc-428ddaf3-0 bKFMfg\"><td><span></span></td><td><span></span></td><td><a class=\"cmc-link\" href=\"/currencies/apecoin-ape/\"><span class=\"circle\"></span><span>ApeCoin</span><span class=\"crypto-symbol\">APE</span></a></td><td><span>$<!-- -->1.35</span></td><td><span></span></td></tr>, <tr class=\"sc-428ddaf3-0 bKFMfg\"><td><span></span></td><td><span></span></td><td><a class=\"cmc-link\" href=\"/currencies/kava/\"><span class=\"circle\"></span><span>Kava</span><span class=\"crypto-symbol\">KAVA</span></a></td><td><span>$<!-- -->0.66</span></td><td><span></span></td></tr>, <tr class=\"sc-428ddaf3-0 bKFMfg\"><td><span></span></td><td><span></span></td><td><a class=\"cmc-link\" href=\"/currencies/pax-gold/\"><span class=\"circle\"></span><span>PAX Gold</span><span class=\"crypto-symbol\">PAXG</span></a></td><td><span>$<!-- -->1909.06</span></td><td><span></span></td></tr>, <tr class=\"sc-428ddaf3-0 bKFMfg\"><td><span></span></td><td><span></span></td><td><a class=\"cmc-link\" href=\"/currencies/tether-gold/\"><span class=\"circle\"></span><span>Tether Gold</span><span class=\"crypto-symbol\">XAUt</span></a></td><td><span>$<!-- -->1929.09</span></td><td><span></span></td></tr>, <tr class=\"sc-428ddaf3-0 bKFMfg\"><td><span></span></td><td><span></span></td><td><a class=\"cmc-link\" href=\"/currencies/iota/\"><span class=\"circle\"></span><span>IOTA</span><span class=\"crypto-symbol\">MIOTA</span></a></td><td><span>$<!-- -->0.17</span></td><td><span></span></td></tr>, <tr class=\"sc-428ddaf3-0 bKFMfg\"><td><span></span></td><td><span></span></td><td><a class=\"cmc-link\" href=\"/currencies/rocket-pool/\"><span class=\"circle\"></span><span>Rocket Pool</span><span class=\"crypto-symbol\">RPL</span></a></td><td><span>$<!-- -->23.24</span></td><td><span></span></td></tr>, <tr class=\"sc-428ddaf3-0 bKFMfg\"><td><span></span></td><td><span></span></td><td><a class=\"cmc-link\" href=\"/currencies/ecash/\"><span class=\"circle\"></span><span>eCash</span><span class=\"crypto-symbol\">XEC</span></a></td><td><span>$<!-- -->0.00</span></td><td><span></span></td></tr>, <tr class=\"sc-428ddaf3-0 bKFMfg\"><td><span></span></td><td><span></span></td><td><a class=\"cmc-link\" href=\"/currencies/flow/\"><span class=\"circle\"></span><span>Flow</span><span class=\"crypto-symbol\">FLOW</span></a></td><td><span>$<!-- -->0.44</span></td><td><span></span></td></tr>, <tr class=\"sc-428ddaf3-0 bKFMfg\"><td><span></span></td><td><span></span></td><td><a class=\"cmc-link\" href=\"/currencies/chiliz/\"><span class=\"circle\"></span><span>Chiliz</span><span class=\"crypto-symbol\">CHZ</span></a></td><td><span>$<!-- -->0.06</span></td><td><span></span></td></tr>, <tr class=\"sc-428ddaf3-0 bKFMfg\"><td><span></span></td><td><span></span></td><td><a class=\"cmc-link\" href=\"/currencies/klaytn/\"><span class=\"circle\"></span><span>Klaytn</span><span class=\"crypto-symbol\">KLAY</span></a></td><td><span>$<!-- -->0.13</span></td><td><span></span></td></tr>, <tr class=\"sc-428ddaf3-0 bKFMfg\"><td><span></span></td><td><span></span></td><td><a class=\"cmc-link\" href=\"/currencies/conflux-network/\"><span class=\"circle\"></span><span>Conflux</span><span class=\"crypto-symbol\">CFX</span></a></td><td><span>$<!-- -->0.13</span></td><td><span></span></td></tr>, <tr class=\"sc-428ddaf3-0 bKFMfg\"><td><span></span></td><td><span></span></td><td><a class=\"cmc-link\" href=\"/currencies/zcash/\"><span class=\"circle\"></span><span>Zcash</span><span class=\"crypto-symbol\">ZEC</span></a></td><td><span>$<!-- -->24.59</span></td><td><span></span></td></tr>, <tr class=\"sc-428ddaf3-0 bKFMfg\"><td><span></span></td><td><span></span></td><td><a class=\"cmc-link\" href=\"/currencies/frax-share/\"><span class=\"circle\"></span><span>Frax Share</span><span class=\"crypto-symbol\">FXS</span></a></td><td><span>$<!-- -->5.43</span></td><td><span></span></td></tr>, <tr class=\"sc-428ddaf3-0 bKFMfg\"><td><span></span></td><td><span></span></td><td><a class=\"cmc-link\" href=\"/currencies/casper/\"><span class=\"circle\"></span><span>Casper</span><span class=\"crypto-symbol\">CSPR</span></a></td><td><span>$<!-- -->0.03</span></td><td><span></span></td></tr>, <tr class=\"sc-428ddaf3-0 bKFMfg\"><td><span></span></td><td><span></span></td><td><a class=\"cmc-link\" href=\"/currencies/bittorrent-new/\"><span class=\"circle\"></span><span>BitTorrent(New)</span><span class=\"crypto-symbol\">BTT</span></a></td><td><span>$<!-- -->0.00</span></td><td><span></span></td></tr>, <tr class=\"sc-428ddaf3-0 bKFMfg\"><td><span></span></td><td><span></span></td><td><a class=\"cmc-link\" href=\"/currencies/huobi-token/\"><span class=\"circle\"></span><span>Huobi Token</span><span class=\"crypto-symbol\">HT</span></a></td><td><span>$<!-- -->2.38</span></td><td><span></span></td></tr>, <tr class=\"sc-428ddaf3-0 bKFMfg\"><td><span></span></td><td><span></span></td><td><a class=\"cmc-link\" href=\"/currencies/curve-dao-token/\"><span class=\"circle\"></span><span>Curve DAO Token</span><span class=\"crypto-symbol\">CRV</span></a></td><td><span>$<!-- -->0.44</span></td><td><span></span></td></tr>, <tr class=\"sc-428ddaf3-0 bKFMfg\"><td><span></span></td><td><span></span></td><td><a class=\"cmc-link\" href=\"/currencies/sui/\"><span class=\"circle\"></span><span>Sui</span><span class=\"crypto-symbol\">SUI</span></a></td><td><span>$<!-- -->0.48</span></td><td><span></span></td></tr>, <tr class=\"sc-428ddaf3-0 bKFMfg\"><td><span></span></td><td><span></span></td><td><a class=\"cmc-link\" href=\"/currencies/kucoin-token/\"><span class=\"circle\"></span><span>KuCoin Token</span><span class=\"crypto-symbol\">KCS</span></a></td><td><span>$<!-- -->3.95</span></td><td><span></span></td></tr>, <tr class=\"sc-428ddaf3-0 bKFMfg\"><td><span></span></td><td><span></span></td><td><a class=\"cmc-link\" href=\"/currencies/gatetoken/\"><span class=\"circle\"></span><span>GateToken</span><span class=\"crypto-symbol\">GT</span></a></td><td><span>$<!-- -->3.92</span></td><td><span></span></td></tr>, <tr class=\"sc-428ddaf3-0 bKFMfg\"><td><span></span></td><td><span></span></td><td><a class=\"cmc-link\" href=\"/currencies/gala/\"><span class=\"circle\"></span><span>Gala</span><span class=\"crypto-symbol\">GALA</span></a></td><td><span>$<!-- -->0.02</span></td><td><span></span></td></tr>, <tr class=\"sc-428ddaf3-0 bKFMfg\"><td><span></span></td><td><span></span></td><td><a class=\"cmc-link\" href=\"/currencies/mina/\"><span class=\"circle\"></span><span>Mina</span><span class=\"crypto-symbol\">MINA</span></a></td><td><span>$<!-- -->0.38</span></td><td><span></span></td></tr>, <tr class=\"sc-428ddaf3-0 bKFMfg\"><td><span></span></td><td><span></span></td><td><a class=\"cmc-link\" href=\"/currencies/terra-luna/\"><span class=\"circle\"></span><span>Terra Classic</span><span class=\"crypto-symbol\">LUNC</span></a></td><td><span>$<!-- -->0.00</span></td><td><span></span></td></tr>, <tr class=\"sc-428ddaf3-0 bKFMfg\"><td><span></span></td><td><span></span></td><td><a class=\"cmc-link\" href=\"/currencies/trust-wallet-token/\"><span class=\"circle\"></span><span>Trust Wallet Token</span><span class=\"crypto-symbol\">TWT</span></a></td><td><span>$<!-- -->0.80</span></td><td><span></span></td></tr>, <tr class=\"sc-428ddaf3-0 bKFMfg\"><td><span></span></td><td><span></span></td><td><a class=\"cmc-link\" href=\"/currencies/dydx/\"><span class=\"circle\"></span><span>dYdX</span><span class=\"crypto-symbol\">DYDX</span></a></td><td><span>$<!-- -->2.10</span></td><td><span></span></td></tr>, <tr class=\"sc-428ddaf3-0 bKFMfg\"><td><span></span></td><td><span></span></td><td><a class=\"cmc-link\" href=\"/currencies/nexo/\"><span class=\"circle\"></span><span>Nexo</span><span class=\"crypto-symbol\">NEXO</span></a></td><td><span>$<!-- -->0.58</span></td><td><span></span></td></tr>, <tr class=\"sc-428ddaf3-0 bKFMfg\"><td><span></span></td><td><span></span></td><td><a class=\"cmc-link\" href=\"/currencies/compound/\"><span class=\"circle\"></span><span>Compound</span><span class=\"crypto-symbol\">COMP</span></a></td><td><span>$<!-- -->40.03</span></td><td><span></span></td></tr>, <tr class=\"sc-428ddaf3-0 bKFMfg\"><td><span></span></td><td><span></span></td><td><a class=\"cmc-link\" href=\"/currencies/pepe/\"><span class=\"circle\"></span><span>Pepe</span><span class=\"crypto-symbol\">PEPE</span></a></td><td><span>$<!-- -->0.00</span></td><td><span></span></td></tr>, <tr class=\"sc-428ddaf3-0 bKFMfg\"><td><span></span></td><td><span></span></td><td><a class=\"cmc-link\" href=\"/currencies/gemini-dollar/\"><span class=\"circle\"></span><span>Gemini Dollar</span><span class=\"crypto-symbol\">GUSD</span></a></td><td><span>$<!-- -->1.00</span></td><td><span></span></td></tr>, <tr class=\"sc-428ddaf3-0 bKFMfg\"><td><span></span></td><td><span></span></td><td><a class=\"cmc-link\" href=\"/currencies/apenft/\"><span class=\"circle\"></span><span>APENFT</span><span class=\"crypto-symbol\">NFT</span></a></td><td><span>$<!-- -->0.00</span></td><td><span></span></td></tr>, <tr class=\"sc-428ddaf3-0 bKFMfg\"><td><span></span></td><td><span></span></td><td><a class=\"cmc-link\" href=\"/currencies/flare/\"><span class=\"circle\"></span><span>Flare</span><span class=\"crypto-symbol\">FLR</span></a></td><td><span>$<!-- -->0.01</span></td><td><span></span></td></tr>, <tr class=\"sc-428ddaf3-0 bKFMfg\"><td><span></span></td><td><span></span></td><td><a class=\"cmc-link\" href=\"/currencies/dash/\"><span class=\"circle\"></span><span>Dash</span><span class=\"crypto-symbol\">DASH</span></a></td><td><span>$<!-- -->25.71</span></td><td><span></span></td></tr>, <tr class=\"sc-428ddaf3-0 bKFMfg\"><td><span></span></td><td><span></span></td><td><a class=\"cmc-link\" href=\"/currencies/safepal/\"><span class=\"circle\"></span><span>SafePal</span><span class=\"crypto-symbol\">SFP</span></a></td><td><span>$<!-- -->0.59</span></td><td><span></span></td></tr>, <tr class=\"sc-428ddaf3-0 bKFMfg\"><td><span></span></td><td><span></span></td><td><a class=\"cmc-link\" href=\"/currencies/astar/\"><span class=\"circle\"></span><span>Astar</span><span class=\"crypto-symbol\">ASTR</span></a></td><td><span>$<!-- -->0.06</span></td><td><span></span></td></tr>, <tr class=\"sc-428ddaf3-0 bKFMfg\"><td><span></span></td><td><span></span></td><td><a class=\"cmc-link\" href=\"/currencies/gmx/\"><span class=\"circle\"></span><span>GMX</span><span class=\"crypto-symbol\">GMX</span></a></td><td><span>$<!-- -->32.38</span></td><td><span></span></td></tr>, <tr class=\"sc-428ddaf3-0 bKFMfg\"><td><span></span></td><td><span></span></td><td><a class=\"cmc-link\" href=\"/currencies/wootrade/\"><span class=\"circle\"></span><span>WOO Network</span><span class=\"crypto-symbol\">WOO</span></a></td><td><span>$<!-- -->0.16</span></td><td><span></span></td></tr>]\n"
          ]
        }
      ]
    },
    {
      "cell_type": "code",
      "source": [
        "# Get siblings of a tag\n",
        "print(trows[0].next_sibling)"
      ],
      "metadata": {
        "colab": {
          "base_uri": "https://localhost:8080/"
        },
        "id": "jioukkbt_M0i",
        "outputId": "38293083-9ecc-48e7-af52-8bee3c9f2099"
      },
      "execution_count": 62,
      "outputs": [
        {
          "output_type": "stream",
          "name": "stdout",
          "text": [
            "<tr><td><span class=\"sc-c0b4ee1-2 bwyOyZ\"></span></td><td style=\"text-align:start\"><p class=\"sc-4984dd93-0 iWSjWE\" color=\"text2\" data-sensors-click=\"true\" font-size=\"14\">2</p></td><td style=\"text-align:start\"><div class=\"sc-aef7b723-0 LCOyB\" display=\"flex\"><a class=\"cmc-link\" href=\"/currencies/ethereum/\"><div class=\"sc-aef7b723-0 sc-b585f443-0 hqAcrb\" data-sensors-click=\"true\"><img alt=\"ETH logo\" class=\"coin-logo\" decoding=\"async\" fetchpriority=\"low\" loading=\"lazy\" src=\"https://s2.coinmarketcap.com/static/img/coins/64x64/1027.png\"/><div class=\"sc-aef7b723-0 sc-b585f443-1 dUXsZC hide-ranking-number\"><p class=\"sc-4984dd93-0 kKpPOn\" color=\"text\" data-sensors-click=\"true\" font-size=\"1\" font-weight=\"semibold\">Ethereum</p><div class=\"sc-b585f443-2 SoolS\" data-nosnippet=\"true\"><p class=\"sc-4984dd93-0 iqdbQL coin-item-symbol\" color=\"text3\" data-sensors-click=\"true\" font-size=\"1\">ETH</p></div></div></div></a></div></td><td style=\"text-align:end\"><div class=\"sc-a0353bbc-0 gDrtaY\"><a class=\"cmc-link\" href=\"/currencies/ethereum/#markets\"><span>$1,630.40</span></a></div></td><td style=\"text-align:end\"><span class=\"sc-d55c02b-0 gUnzUB\"><span class=\"icon-Caret-down\" style=\"width:12px;height:18px;display:inline-block\"></span>0.40%</span></td><td style=\"text-align:end\"><span class=\"sc-d55c02b-0 gUnzUB\"><span class=\"icon-Caret-down\" style=\"width:12px;height:18px;display:inline-block\"></span>0.06%</span></td><td style=\"text-align:end\"><span class=\"sc-d55c02b-0 gUnzUB\"><span class=\"icon-Caret-down\" style=\"width:12px;height:18px;display:inline-block\"></span>6.28%</span></td><td style=\"text-align:end\"><p class=\"sc-4984dd93-0 jZrMxO\" color=\"text\" data-sensors-click=\"true\" font-size=\"1\" style=\"white-space:nowrap\"><span class=\"sc-f8982b1f-0 jYSZLP\">$196.03B</span><span class=\"sc-f8982b1f-1 bOsKfy\" data-nosnippet=\"true\">$196,032,926,771</span></p></td><td style=\"text-align:end\"><div class=\"sc-aef7b723-0 sc-a0b7a456-0 iHWrYq\"><a class=\"cmc-link\" href=\"/currencies/ethereum/#markets\"><p class=\"sc-4984dd93-0 jZrMxO font_weight_500\" color=\"text\" data-sensors-click=\"true\" font-size=\"1\">$4,758,101,592</p></a><div data-nosnippet=\"true\"><p class=\"sc-4984dd93-0 ihZPK\" color=\"text2\" data-sensors-click=\"true\" font-size=\"0\">2,917,930 ETH</p></div></div></td><td style=\"text-align:end\"><div class=\"sc-aef7b723-0 sc-e8f714de-0 cELvic\" data-sensors-click=\"true\" style=\"cursor:\"><div class=\"sc-aef7b723-0 sc-e8f714de-1 hSniWt\"><p class=\"sc-4984dd93-0 WfVLk\" color=\"text\" data-sensors-click=\"true\" font-size=\"1\" font-weight=\"medium\">120,218,194 ETH</p></div></div></td><td style=\"text-align:end\"><a class=\"cmc-link\" href=\"/currencies/ethereum/?period=7d\"><img alt=\"ethereum-7d-price-graph\" class=\"sc-b28ea1c6-0 ewXAph\" loading=\"lazy\" src=\"https://s3.coinmarketcap.com/generated/sparklines/web/7d/2781/1027.svg\"/></a></td></tr>\n"
          ]
        }
      ]
    },
    {
      "cell_type": "code",
      "source": [
        "# Similarly we can get previous sibling\n",
        "print(trows[1].previous_sibling)"
      ],
      "metadata": {
        "colab": {
          "base_uri": "https://localhost:8080/"
        },
        "id": "NN4txVsY_Uzb",
        "outputId": "6c64d70c-0425-40bf-eda0-eee7be5a9d3f"
      },
      "execution_count": 64,
      "outputs": [
        {
          "output_type": "stream",
          "name": "stdout",
          "text": [
            "<tr><td><span class=\"sc-c0b4ee1-2 bwyOyZ\"></span></td><td style=\"text-align:start\"><p class=\"sc-4984dd93-0 iWSjWE\" color=\"text2\" data-sensors-click=\"true\" font-size=\"14\">1</p></td><td style=\"text-align:start\"><div class=\"sc-aef7b723-0 LCOyB\" display=\"flex\"><a class=\"cmc-link\" href=\"/currencies/bitcoin/\"><div class=\"sc-aef7b723-0 sc-b585f443-0 hqAcrb\" data-sensors-click=\"true\"><img alt=\"BTC logo\" class=\"coin-logo\" decoding=\"async\" fetchpriority=\"low\" loading=\"lazy\" src=\"https://s2.coinmarketcap.com/static/img/coins/64x64/1.png\"/><div class=\"sc-aef7b723-0 sc-b585f443-1 dUXsZC hide-ranking-number\"><p class=\"sc-4984dd93-0 kKpPOn\" color=\"text\" data-sensors-click=\"true\" font-size=\"1\" font-weight=\"semibold\">Bitcoin</p><div class=\"sc-b585f443-2 SoolS\" data-nosnippet=\"true\"><p class=\"sc-4984dd93-0 iqdbQL coin-item-symbol\" color=\"text3\" data-sensors-click=\"true\" font-size=\"1\">BTC</p></div></div></div></a></div></td><td style=\"text-align:end\"><div class=\"sc-a0353bbc-0 gDrtaY\"><a class=\"cmc-link\" href=\"/currencies/bitcoin/#markets\"><span>$25,678.38</span></a></div></td><td style=\"text-align:end\"><span class=\"sc-d55c02b-0 gUnzUB\"><span class=\"icon-Caret-down\" style=\"width:12px;height:18px;display:inline-block\"></span>0.26%</span></td><td style=\"text-align:end\"><span class=\"sc-d55c02b-0 gUnzUB\"><span class=\"icon-Caret-down\" style=\"width:12px;height:18px;display:inline-block\"></span>0.88%</span></td><td style=\"text-align:end\"><span class=\"sc-d55c02b-0 gUnzUB\"><span class=\"icon-Caret-down\" style=\"width:12px;height:18px;display:inline-block\"></span>7.82%</span></td><td style=\"text-align:end\"><p class=\"sc-4984dd93-0 jZrMxO\" color=\"text\" data-sensors-click=\"true\" font-size=\"1\" style=\"white-space:nowrap\"><span class=\"sc-f8982b1f-0 jYSZLP\">$499.89B</span><span class=\"sc-f8982b1f-1 bOsKfy\" data-nosnippet=\"true\">$499,888,107,440</span></p></td><td style=\"text-align:end\"><div class=\"sc-aef7b723-0 sc-a0b7a456-0 iHWrYq\"><a class=\"cmc-link\" href=\"/currencies/bitcoin/#markets\"><p class=\"sc-4984dd93-0 jZrMxO font_weight_500\" color=\"text\" data-sensors-click=\"true\" font-size=\"1\">$11,724,953,099</p></a><div data-nosnippet=\"true\"><p class=\"sc-4984dd93-0 ihZPK\" color=\"text2\" data-sensors-click=\"true\" font-size=\"0\">456,841 BTC</p></div></div></td><td style=\"text-align:end\"><div class=\"sc-aef7b723-0 sc-e8f714de-0 cELvic\" data-sensors-click=\"true\" style=\"cursor:pointer\"><div class=\"sc-aef7b723-0 sc-e8f714de-1 hSniWt\"><p class=\"sc-4984dd93-0 WfVLk\" color=\"text\" data-sensors-click=\"true\" font-size=\"1\" font-weight=\"medium\">19,477,231 BTC</p></div><div class=\"sc-4ff2400b-0 hKysZR\" data-sensors-click=\"true\" width=\"160\"><div class=\"sc-4ff2400b-1 ldlrhl\" width=\"149\"></div></div></div></td><td style=\"text-align:end\"><a class=\"cmc-link\" href=\"/currencies/bitcoin/?period=7d\"><img alt=\"bitcoin-7d-price-graph\" class=\"sc-b28ea1c6-0 ewXAph\" loading=\"lazy\" src=\"https://s3.coinmarketcap.com/generated/sparklines/web/7d/2781/1.svg\"/></a></td></tr>\n"
          ]
        }
      ]
    },
    {
      "cell_type": "code",
      "source": [
        "# We can also get next siblings, it gives a generator object, so we need to convert it into a list\n",
        "print(list(trows[0].next_siblings))"
      ],
      "metadata": {
        "colab": {
          "base_uri": "https://localhost:8080/"
        },
        "id": "vy7iOwuqARPo",
        "outputId": "60e298c3-9b71-47ac-fcfa-7728a43bca65"
      },
      "execution_count": 68,
      "outputs": [
        {
          "output_type": "stream",
          "name": "stdout",
          "text": [
            "[<tr><td><span class=\"sc-c0b4ee1-2 bwyOyZ\"></span></td><td style=\"text-align:start\"><p class=\"sc-4984dd93-0 iWSjWE\" color=\"text2\" data-sensors-click=\"true\" font-size=\"14\">2</p></td><td style=\"text-align:start\"><div class=\"sc-aef7b723-0 LCOyB\" display=\"flex\"><a class=\"cmc-link\" href=\"/currencies/ethereum/\"><div class=\"sc-aef7b723-0 sc-b585f443-0 hqAcrb\" data-sensors-click=\"true\"><img alt=\"ETH logo\" class=\"coin-logo\" decoding=\"async\" fetchpriority=\"low\" loading=\"lazy\" src=\"https://s2.coinmarketcap.com/static/img/coins/64x64/1027.png\"/><div class=\"sc-aef7b723-0 sc-b585f443-1 dUXsZC hide-ranking-number\"><p class=\"sc-4984dd93-0 kKpPOn\" color=\"text\" data-sensors-click=\"true\" font-size=\"1\" font-weight=\"semibold\">Ethereum</p><div class=\"sc-b585f443-2 SoolS\" data-nosnippet=\"true\"><p class=\"sc-4984dd93-0 iqdbQL coin-item-symbol\" color=\"text3\" data-sensors-click=\"true\" font-size=\"1\">ETH</p></div></div></div></a></div></td><td style=\"text-align:end\"><div class=\"sc-a0353bbc-0 gDrtaY\"><a class=\"cmc-link\" href=\"/currencies/ethereum/#markets\"><span>$1,630.40</span></a></div></td><td style=\"text-align:end\"><span class=\"sc-d55c02b-0 gUnzUB\"><span class=\"icon-Caret-down\" style=\"width:12px;height:18px;display:inline-block\"></span>0.40%</span></td><td style=\"text-align:end\"><span class=\"sc-d55c02b-0 gUnzUB\"><span class=\"icon-Caret-down\" style=\"width:12px;height:18px;display:inline-block\"></span>0.06%</span></td><td style=\"text-align:end\"><span class=\"sc-d55c02b-0 gUnzUB\"><span class=\"icon-Caret-down\" style=\"width:12px;height:18px;display:inline-block\"></span>6.28%</span></td><td style=\"text-align:end\"><p class=\"sc-4984dd93-0 jZrMxO\" color=\"text\" data-sensors-click=\"true\" font-size=\"1\" style=\"white-space:nowrap\"><span class=\"sc-f8982b1f-0 jYSZLP\">$196.03B</span><span class=\"sc-f8982b1f-1 bOsKfy\" data-nosnippet=\"true\">$196,032,926,771</span></p></td><td style=\"text-align:end\"><div class=\"sc-aef7b723-0 sc-a0b7a456-0 iHWrYq\"><a class=\"cmc-link\" href=\"/currencies/ethereum/#markets\"><p class=\"sc-4984dd93-0 jZrMxO font_weight_500\" color=\"text\" data-sensors-click=\"true\" font-size=\"1\">$4,758,101,592</p></a><div data-nosnippet=\"true\"><p class=\"sc-4984dd93-0 ihZPK\" color=\"text2\" data-sensors-click=\"true\" font-size=\"0\">2,917,930 ETH</p></div></div></td><td style=\"text-align:end\"><div class=\"sc-aef7b723-0 sc-e8f714de-0 cELvic\" data-sensors-click=\"true\" style=\"cursor:\"><div class=\"sc-aef7b723-0 sc-e8f714de-1 hSniWt\"><p class=\"sc-4984dd93-0 WfVLk\" color=\"text\" data-sensors-click=\"true\" font-size=\"1\" font-weight=\"medium\">120,218,194 ETH</p></div></div></td><td style=\"text-align:end\"><a class=\"cmc-link\" href=\"/currencies/ethereum/?period=7d\"><img alt=\"ethereum-7d-price-graph\" class=\"sc-b28ea1c6-0 ewXAph\" loading=\"lazy\" src=\"https://s3.coinmarketcap.com/generated/sparklines/web/7d/2781/1027.svg\"/></a></td></tr>, <tr><td><span class=\"sc-c0b4ee1-2 bwyOyZ\"></span></td><td style=\"text-align:start\"><p class=\"sc-4984dd93-0 iWSjWE\" color=\"text2\" data-sensors-click=\"true\" font-size=\"14\">3</p></td><td style=\"text-align:start\"><div class=\"sc-aef7b723-0 LCOyB\" display=\"flex\"><a class=\"cmc-link\" href=\"/currencies/tether/\"><div class=\"sc-aef7b723-0 sc-b585f443-0 hqAcrb\" data-sensors-click=\"true\"><img alt=\"USDT logo\" class=\"coin-logo\" decoding=\"async\" fetchpriority=\"low\" loading=\"lazy\" src=\"https://s2.coinmarketcap.com/static/img/coins/64x64/825.png\"/><div class=\"sc-aef7b723-0 sc-b585f443-1 dUXsZC hide-ranking-number\"><p class=\"sc-4984dd93-0 kKpPOn\" color=\"text\" data-sensors-click=\"true\" font-size=\"1\" font-weight=\"semibold\">Tether USDt</p><div class=\"sc-b585f443-2 SoolS\" data-nosnippet=\"true\"><p class=\"sc-4984dd93-0 iqdbQL coin-item-symbol\" color=\"text3\" data-sensors-click=\"true\" font-size=\"1\">USDT</p></div></div></div></a></div></td><td style=\"text-align:end\"><div class=\"sc-a0353bbc-0 gDrtaY\"><a class=\"cmc-link\" href=\"/currencies/tether/#markets\"><span>$0.9996</span></a></div></td><td style=\"text-align:end\"><span class=\"sc-d55c02b-0 iwhBxy\"><span class=\"icon-Caret-up\" style=\"width:12px;height:18px;display:inline-block\"></span>0.02%</span></td><td style=\"text-align:end\"><span class=\"sc-d55c02b-0 iwhBxy\"><span class=\"icon-Caret-up\" style=\"width:12px;height:18px;display:inline-block\"></span>0.00%</span></td><td style=\"text-align:end\"><span class=\"sc-d55c02b-0 gUnzUB\"><span class=\"icon-Caret-down\" style=\"width:12px;height:18px;display:inline-block\"></span>0.05%</span></td><td style=\"text-align:end\"><p class=\"sc-4984dd93-0 jZrMxO\" color=\"text\" data-sensors-click=\"true\" font-size=\"1\" style=\"white-space:nowrap\"><span class=\"sc-f8982b1f-0 jYSZLP\">$82.87B</span><span class=\"sc-f8982b1f-1 bOsKfy\" data-nosnippet=\"true\">$82,869,839,378</span></p></td><td style=\"text-align:end\"><div class=\"sc-aef7b723-0 sc-a0b7a456-0 iHWrYq\"><a class=\"cmc-link\" href=\"/currencies/tether/#markets\"><p class=\"sc-4984dd93-0 jZrMxO font_weight_500\" color=\"text\" data-sensors-click=\"true\" font-size=\"1\">$19,052,745,991</p></a><div data-nosnippet=\"true\"><p class=\"sc-4984dd93-0 ihZPK\" color=\"text2\" data-sensors-click=\"true\" font-size=\"0\">19,060,948,571 USDT</p></div></div></td><td style=\"text-align:end\"><div class=\"sc-aef7b723-0 sc-e8f714de-0 cELvic\" data-sensors-click=\"true\" style=\"cursor:\"><div class=\"sc-aef7b723-0 sc-e8f714de-1 hSniWt\"><p class=\"sc-4984dd93-0 WfVLk\" color=\"text\" data-sensors-click=\"true\" font-size=\"1\" font-weight=\"medium\">82,905,516,464 USDT</p></div></div></td><td style=\"text-align:end\"><a class=\"cmc-link\" href=\"/currencies/tether/?period=7d\"><img alt=\"tether-7d-price-graph\" class=\"sc-b28ea1c6-0 ewXAph\" loading=\"lazy\" src=\"https://s3.coinmarketcap.com/generated/sparklines/web/7d/2781/825.svg\"/></a></td></tr>, <tr><td><span class=\"sc-c0b4ee1-2 bwyOyZ\"></span></td><td style=\"text-align:start\"><p class=\"sc-4984dd93-0 iWSjWE\" color=\"text2\" data-sensors-click=\"true\" font-size=\"14\">4</p></td><td style=\"text-align:start\"><div class=\"sc-aef7b723-0 LCOyB\" display=\"flex\"><a class=\"cmc-link\" href=\"/currencies/bnb/\"><div class=\"sc-aef7b723-0 sc-b585f443-0 hqAcrb\" data-sensors-click=\"true\"><img alt=\"BNB logo\" class=\"coin-logo\" decoding=\"async\" fetchpriority=\"low\" loading=\"lazy\" src=\"https://s2.coinmarketcap.com/static/img/coins/64x64/1839.png\"/><div class=\"sc-aef7b723-0 sc-b585f443-1 dUXsZC hide-ranking-number\"><p class=\"sc-4984dd93-0 kKpPOn\" color=\"text\" data-sensors-click=\"true\" font-size=\"1\" font-weight=\"semibold\">BNB</p><div class=\"sc-b585f443-2 SoolS\" data-nosnippet=\"true\"><p class=\"sc-4984dd93-0 iqdbQL coin-item-symbol\" color=\"text3\" data-sensors-click=\"true\" font-size=\"1\">BNB</p></div></div></div></a></div></td><td style=\"text-align:end\"><div class=\"sc-a0353bbc-0 gDrtaY\"><a class=\"cmc-link\" href=\"/currencies/bnb/#markets\"><span>$214.41</span></a></div></td><td style=\"text-align:end\"><span class=\"sc-d55c02b-0 gUnzUB\"><span class=\"icon-Caret-down\" style=\"width:12px;height:18px;display:inline-block\"></span>0.36%</span></td><td style=\"text-align:end\"><span class=\"sc-d55c02b-0 gUnzUB\"><span class=\"icon-Caret-down\" style=\"width:12px;height:18px;display:inline-block\"></span>0.65%</span></td><td style=\"text-align:end\"><span class=\"sc-d55c02b-0 gUnzUB\"><span class=\"icon-Caret-down\" style=\"width:12px;height:18px;display:inline-block\"></span>5.75%</span></td><td style=\"text-align:end\"><p class=\"sc-4984dd93-0 jZrMxO\" color=\"text\" data-sensors-click=\"true\" font-size=\"1\" style=\"white-space:nowrap\"><span class=\"sc-f8982b1f-0 jYSZLP\">$33B</span><span class=\"sc-f8982b1f-1 bOsKfy\" data-nosnippet=\"true\">$32,997,205,875</span></p></td><td style=\"text-align:end\"><div class=\"sc-aef7b723-0 sc-a0b7a456-0 iHWrYq\"><a class=\"cmc-link\" href=\"/currencies/bnb/#markets\"><p class=\"sc-4984dd93-0 jZrMxO font_weight_500\" color=\"text\" data-sensors-click=\"true\" font-size=\"1\">$301,958,575</p></a><div data-nosnippet=\"true\"><p class=\"sc-4984dd93-0 ihZPK\" color=\"text2\" data-sensors-click=\"true\" font-size=\"0\">1,407,885 BNB</p></div></div></td><td style=\"text-align:end\"><div class=\"sc-aef7b723-0 sc-e8f714de-0 cELvic\" data-sensors-click=\"true\" style=\"cursor:\"><div class=\"sc-aef7b723-0 sc-e8f714de-1 hSniWt\"><p class=\"sc-4984dd93-0 WfVLk\" color=\"text\" data-sensors-click=\"true\" font-size=\"1\" font-weight=\"medium\">153,849,818 BNB</p></div></div></td><td style=\"text-align:end\"><a class=\"cmc-link\" href=\"/currencies/bnb/?period=7d\"><img alt=\"bnb-7d-price-graph\" class=\"sc-b28ea1c6-0 ewXAph\" loading=\"lazy\" src=\"https://s3.coinmarketcap.com/generated/sparklines/web/7d/2781/1839.svg\"/></a></td></tr>, <tr><td><span class=\"sc-c0b4ee1-2 bwyOyZ\"></span></td><td style=\"text-align:start\"><p class=\"sc-4984dd93-0 iWSjWE\" color=\"text2\" data-sensors-click=\"true\" font-size=\"14\">5</p></td><td style=\"text-align:start\"><div class=\"sc-aef7b723-0 LCOyB\" display=\"flex\"><a class=\"cmc-link\" href=\"/currencies/xrp/\"><div class=\"sc-aef7b723-0 sc-b585f443-0 hqAcrb\" data-sensors-click=\"true\"><img alt=\"XRP logo\" class=\"coin-logo\" decoding=\"async\" fetchpriority=\"low\" loading=\"lazy\" src=\"https://s2.coinmarketcap.com/static/img/coins/64x64/52.png\"/><div class=\"sc-aef7b723-0 sc-b585f443-1 dUXsZC hide-ranking-number\"><p class=\"sc-4984dd93-0 kKpPOn\" color=\"text\" data-sensors-click=\"true\" font-size=\"1\" font-weight=\"semibold\">XRP</p><div class=\"sc-b585f443-2 SoolS\" data-nosnippet=\"true\"><p class=\"sc-4984dd93-0 iqdbQL coin-item-symbol\" color=\"text3\" data-sensors-click=\"true\" font-size=\"1\">XRP</p></div></div></div></a></div></td><td style=\"text-align:end\"><div class=\"sc-a0353bbc-0 gDrtaY\"><a class=\"cmc-link\" href=\"/currencies/xrp/#markets\"><span>$0.5024</span></a></div></td><td style=\"text-align:end\"><span class=\"sc-d55c02b-0 gUnzUB\"><span class=\"icon-Caret-down\" style=\"width:12px;height:18px;display:inline-block\"></span>0.07%</span></td><td style=\"text-align:end\"><span class=\"sc-d55c02b-0 gUnzUB\"><span class=\"icon-Caret-down\" style=\"width:12px;height:18px;display:inline-block\"></span>1.35%</span></td><td style=\"text-align:end\"><span class=\"sc-d55c02b-0 gUnzUB\"><span class=\"icon-Caret-down\" style=\"width:12px;height:18px;display:inline-block\"></span>6.94%</span></td><td style=\"text-align:end\"><p class=\"sc-4984dd93-0 jZrMxO\" color=\"text\" data-sensors-click=\"true\" font-size=\"1\" style=\"white-space:nowrap\"><span class=\"sc-f8982b1f-0 jYSZLP\">$26.62B</span><span class=\"sc-f8982b1f-1 bOsKfy\" data-nosnippet=\"true\">$26,615,749,748</span></p></td><td style=\"text-align:end\"><div class=\"sc-aef7b723-0 sc-a0b7a456-0 iHWrYq\"><a class=\"cmc-link\" href=\"/currencies/xrp/#markets\"><p class=\"sc-4984dd93-0 jZrMxO font_weight_500\" color=\"text\" data-sensors-click=\"true\" font-size=\"1\">$781,647,785</p></a><div data-nosnippet=\"true\"><p class=\"sc-4984dd93-0 ihZPK\" color=\"text2\" data-sensors-click=\"true\" font-size=\"0\">1,555,841,951 XRP</p></div></div></td><td style=\"text-align:end\"><div class=\"sc-aef7b723-0 sc-e8f714de-0 cELvic\" data-sensors-click=\"true\" style=\"cursor:pointer\"><div class=\"sc-aef7b723-0 sc-e8f714de-1 hSniWt\"><p class=\"sc-4984dd93-0 WfVLk\" color=\"text\" data-sensors-click=\"true\" font-size=\"1\" font-weight=\"medium\">52,977,697,600 XRP</p></div><div class=\"sc-4ff2400b-0 hKysZR\" data-sensors-click=\"true\" width=\"160\"><div class=\"sc-4ff2400b-1 dNwJcE\" width=\"85\"></div></div></div></td><td style=\"text-align:end\"><a class=\"cmc-link\" href=\"/currencies/xrp/?period=7d\"><img alt=\"xrp-7d-price-graph\" class=\"sc-b28ea1c6-0 ewXAph\" loading=\"lazy\" src=\"https://s3.coinmarketcap.com/generated/sparklines/web/7d/2781/52.svg\"/></a></td></tr>, <tr><td><span class=\"sc-c0b4ee1-2 bwyOyZ\"></span></td><td style=\"text-align:start\"><p class=\"sc-4984dd93-0 iWSjWE\" color=\"text2\" data-sensors-click=\"true\" font-size=\"14\">6</p></td><td style=\"text-align:start\"><div class=\"sc-aef7b723-0 LCOyB\" display=\"flex\"><a class=\"cmc-link\" href=\"/currencies/usd-coin/\"><div class=\"sc-aef7b723-0 sc-b585f443-0 hqAcrb\" data-sensors-click=\"true\"><img alt=\"USDC logo\" class=\"coin-logo\" decoding=\"async\" fetchpriority=\"low\" loading=\"lazy\" src=\"https://s2.coinmarketcap.com/static/img/coins/64x64/3408.png\"/><div class=\"sc-aef7b723-0 sc-b585f443-1 dUXsZC hide-ranking-number\"><p class=\"sc-4984dd93-0 kKpPOn\" color=\"text\" data-sensors-click=\"true\" font-size=\"1\" font-weight=\"semibold\">USD Coin</p><div class=\"sc-b585f443-2 SoolS\" data-nosnippet=\"true\"><p class=\"sc-4984dd93-0 iqdbQL coin-item-symbol\" color=\"text3\" data-sensors-click=\"true\" font-size=\"1\">USDC</p></div></div></div></a></div></td><td style=\"text-align:end\"><div class=\"sc-a0353bbc-0 gDrtaY\"><a class=\"cmc-link\" href=\"/currencies/usd-coin/#markets\"><span>$1.00</span></a></div></td><td style=\"text-align:end\"><span class=\"sc-d55c02b-0 iwhBxy\"><span class=\"icon-Caret-up\" style=\"width:12px;height:18px;display:inline-block\"></span>0.01%</span></td><td style=\"text-align:end\"><span class=\"sc-d55c02b-0 iwhBxy\"><span class=\"icon-Caret-up\" style=\"width:12px;height:18px;display:inline-block\"></span>0.01%</span></td><td style=\"text-align:end\"><span class=\"sc-d55c02b-0 gUnzUB\"><span class=\"icon-Caret-down\" style=\"width:12px;height:18px;display:inline-block\"></span>0.00%</span></td><td style=\"text-align:end\"><p class=\"sc-4984dd93-0 jZrMxO\" color=\"text\" data-sensors-click=\"true\" font-size=\"1\" style=\"white-space:nowrap\"><span class=\"sc-f8982b1f-0 jYSZLP\">$25.99B</span><span class=\"sc-f8982b1f-1 bOsKfy\" data-nosnippet=\"true\">$25,989,645,435</span></p></td><td style=\"text-align:end\"><div class=\"sc-aef7b723-0 sc-a0b7a456-0 iHWrYq\"><a class=\"cmc-link\" href=\"/currencies/usd-coin/#markets\"><p class=\"sc-4984dd93-0 jZrMxO font_weight_500\" color=\"text\" data-sensors-click=\"true\" font-size=\"1\">$2,612,668,745</p></a><div data-nosnippet=\"true\"><p class=\"sc-4984dd93-0 ihZPK\" color=\"text2\" data-sensors-click=\"true\" font-size=\"0\">2,612,610,840 USDC</p></div></div></td><td style=\"text-align:end\"><div class=\"sc-aef7b723-0 sc-e8f714de-0 cELvic\" data-sensors-click=\"true\" style=\"cursor:\"><div class=\"sc-aef7b723-0 sc-e8f714de-1 hSniWt\"><p class=\"sc-4984dd93-0 WfVLk\" color=\"text\" data-sensors-click=\"true\" font-size=\"1\" font-weight=\"medium\">25,989,069,415 USDC</p></div></div></td><td style=\"text-align:end\"><a class=\"cmc-link\" href=\"/currencies/usd-coin/?period=7d\"><img alt=\"usd-coin-7d-price-graph\" class=\"sc-b28ea1c6-0 ewXAph\" loading=\"lazy\" src=\"https://s3.coinmarketcap.com/generated/sparklines/web/7d/2781/3408.svg\"/></a></td></tr>, <tr><td><span class=\"sc-c0b4ee1-2 bwyOyZ\"></span></td><td style=\"text-align:start\"><p class=\"sc-4984dd93-0 iWSjWE\" color=\"text2\" data-sensors-click=\"true\" font-size=\"14\">7</p></td><td style=\"text-align:start\"><div class=\"sc-aef7b723-0 LCOyB\" display=\"flex\"><a class=\"cmc-link\" href=\"/currencies/cardano/\"><div class=\"sc-aef7b723-0 sc-b585f443-0 hqAcrb\" data-sensors-click=\"true\"><img alt=\"ADA logo\" class=\"coin-logo\" decoding=\"async\" fetchpriority=\"low\" loading=\"lazy\" src=\"https://s2.coinmarketcap.com/static/img/coins/64x64/2010.png\"/><div class=\"sc-aef7b723-0 sc-b585f443-1 dUXsZC hide-ranking-number\"><p class=\"sc-4984dd93-0 kKpPOn\" color=\"text\" data-sensors-click=\"true\" font-size=\"1\" font-weight=\"semibold\">Cardano</p><div class=\"sc-b585f443-2 SoolS\" data-nosnippet=\"true\"><p class=\"sc-4984dd93-0 iqdbQL coin-item-symbol\" color=\"text3\" data-sensors-click=\"true\" font-size=\"1\">ADA</p></div></div></div></a></div></td><td style=\"text-align:end\"><div class=\"sc-a0353bbc-0 gDrtaY\"><a class=\"cmc-link\" href=\"/currencies/cardano/#markets\"><span>$0.2567</span></a></div></td><td style=\"text-align:end\"><span class=\"sc-d55c02b-0 gUnzUB\"><span class=\"icon-Caret-down\" style=\"width:12px;height:18px;display:inline-block\"></span>0.27%</span></td><td style=\"text-align:end\"><span class=\"sc-d55c02b-0 iwhBxy\"><span class=\"icon-Caret-up\" style=\"width:12px;height:18px;display:inline-block\"></span>0.30%</span></td><td style=\"text-align:end\"><span class=\"sc-d55c02b-0 gUnzUB\"><span class=\"icon-Caret-down\" style=\"width:12px;height:18px;display:inline-block\"></span>7.16%</span></td><td style=\"text-align:end\"><p class=\"sc-4984dd93-0 jZrMxO\" color=\"text\" data-sensors-click=\"true\" font-size=\"1\" style=\"white-space:nowrap\"><span class=\"sc-f8982b1f-0 jYSZLP\">$9B</span><span class=\"sc-f8982b1f-1 bOsKfy\" data-nosnippet=\"true\">$9,004,615,982</span></p></td><td style=\"text-align:end\"><div class=\"sc-aef7b723-0 sc-a0b7a456-0 iHWrYq\"><a class=\"cmc-link\" href=\"/currencies/cardano/#markets\"><p class=\"sc-4984dd93-0 jZrMxO font_weight_500\" color=\"text\" data-sensors-click=\"true\" font-size=\"1\">$93,964,988</p></a><div data-nosnippet=\"true\"><p class=\"sc-4984dd93-0 ihZPK\" color=\"text2\" data-sensors-click=\"true\" font-size=\"0\">366,079,134 ADA</p></div></div></td><td style=\"text-align:end\"><div class=\"sc-aef7b723-0 sc-e8f714de-0 cELvic\" data-sensors-click=\"true\" style=\"cursor:pointer\"><div class=\"sc-aef7b723-0 sc-e8f714de-1 hSniWt\"><p class=\"sc-4984dd93-0 WfVLk\" color=\"text\" data-sensors-click=\"true\" font-size=\"1\" font-weight=\"medium\">35,081,173,115 ADA</p></div><div class=\"sc-4ff2400b-0 hKysZR\" data-sensors-click=\"true\" width=\"160\"><div class=\"sc-4ff2400b-1 ldlvUL\" width=\"125\"></div></div></div></td><td style=\"text-align:end\"><a class=\"cmc-link\" href=\"/currencies/cardano/?period=7d\"><img alt=\"cardano-7d-price-graph\" class=\"sc-b28ea1c6-0 ewXAph\" loading=\"lazy\" src=\"https://s3.coinmarketcap.com/generated/sparklines/web/7d/2781/2010.svg\"/></a></td></tr>, <tr><td><span class=\"sc-c0b4ee1-2 bwyOyZ\"></span></td><td style=\"text-align:start\"><p class=\"sc-4984dd93-0 iWSjWE\" color=\"text2\" data-sensors-click=\"true\" font-size=\"14\">8</p></td><td style=\"text-align:start\"><div class=\"sc-aef7b723-0 LCOyB\" display=\"flex\"><a class=\"cmc-link\" href=\"/currencies/dogecoin/\"><div class=\"sc-aef7b723-0 sc-b585f443-0 hqAcrb\" data-sensors-click=\"true\"><img alt=\"DOGE logo\" class=\"coin-logo\" decoding=\"async\" fetchpriority=\"low\" loading=\"lazy\" src=\"https://s2.coinmarketcap.com/static/img/coins/64x64/74.png\"/><div class=\"sc-aef7b723-0 sc-b585f443-1 dUXsZC hide-ranking-number\"><p class=\"sc-4984dd93-0 kKpPOn\" color=\"text\" data-sensors-click=\"true\" font-size=\"1\" font-weight=\"semibold\">Dogecoin</p><div class=\"sc-b585f443-2 SoolS\" data-nosnippet=\"true\"><p class=\"sc-4984dd93-0 iqdbQL coin-item-symbol\" color=\"text3\" data-sensors-click=\"true\" font-size=\"1\">DOGE</p></div></div></div></a></div></td><td style=\"text-align:end\"><div class=\"sc-a0353bbc-0 gDrtaY\"><a class=\"cmc-link\" href=\"/currencies/dogecoin/#markets\"><span>$0.06376</span></a></div></td><td style=\"text-align:end\"><span class=\"sc-d55c02b-0 gUnzUB\"><span class=\"icon-Caret-down\" style=\"width:12px;height:18px;display:inline-block\"></span>0.42%</span></td><td style=\"text-align:end\"><span class=\"sc-d55c02b-0 iwhBxy\"><span class=\"icon-Caret-up\" style=\"width:12px;height:18px;display:inline-block\"></span>0.92%</span></td><td style=\"text-align:end\"><span class=\"sc-d55c02b-0 gUnzUB\"><span class=\"icon-Caret-down\" style=\"width:12px;height:18px;display:inline-block\"></span>5.01%</span></td><td style=\"text-align:end\"><p class=\"sc-4984dd93-0 jZrMxO\" color=\"text\" data-sensors-click=\"true\" font-size=\"1\" style=\"white-space:nowrap\"><span class=\"sc-f8982b1f-0 jYSZLP\">$8.98B</span><span class=\"sc-f8982b1f-1 bOsKfy\" data-nosnippet=\"true\">$8,982,699,614</span></p></td><td style=\"text-align:end\"><div class=\"sc-aef7b723-0 sc-a0b7a456-0 iHWrYq\"><a class=\"cmc-link\" href=\"/currencies/dogecoin/#markets\"><p class=\"sc-4984dd93-0 jZrMxO font_weight_500\" color=\"text\" data-sensors-click=\"true\" font-size=\"1\">$219,826,295</p></a><div data-nosnippet=\"true\"><p class=\"sc-4984dd93-0 ihZPK\" color=\"text2\" data-sensors-click=\"true\" font-size=\"0\">3,447,778,748 DOGE</p></div></div></td><td style=\"text-align:end\"><div class=\"sc-aef7b723-0 sc-e8f714de-0 cELvic\" data-sensors-click=\"true\" style=\"cursor:\"><div class=\"sc-aef7b723-0 sc-e8f714de-1 hSniWt\"><p class=\"sc-4984dd93-0 WfVLk\" color=\"text\" data-sensors-click=\"true\" font-size=\"1\" font-weight=\"medium\">140,885,606,384 DOGE</p></div></div></td><td style=\"text-align:end\"><a class=\"cmc-link\" href=\"/currencies/dogecoin/?period=7d\"><img alt=\"dogecoin-7d-price-graph\" class=\"sc-b28ea1c6-0 ewXAph\" loading=\"lazy\" src=\"https://s3.coinmarketcap.com/generated/sparklines/web/7d/2781/74.svg\"/></a></td></tr>, <tr><td><span class=\"sc-c0b4ee1-2 bwyOyZ\"></span></td><td style=\"text-align:start\"><p class=\"sc-4984dd93-0 iWSjWE\" color=\"text2\" data-sensors-click=\"true\" font-size=\"14\">9</p></td><td style=\"text-align:start\"><div class=\"sc-aef7b723-0 LCOyB\" display=\"flex\"><a class=\"cmc-link\" href=\"/currencies/solana/\"><div class=\"sc-aef7b723-0 sc-b585f443-0 hqAcrb\" data-sensors-click=\"true\"><img alt=\"SOL logo\" class=\"coin-logo\" decoding=\"async\" fetchpriority=\"low\" loading=\"lazy\" src=\"https://s2.coinmarketcap.com/static/img/coins/64x64/5426.png\"/><div class=\"sc-aef7b723-0 sc-b585f443-1 dUXsZC hide-ranking-number\"><p class=\"sc-4984dd93-0 kKpPOn\" color=\"text\" data-sensors-click=\"true\" font-size=\"1\" font-weight=\"semibold\">Solana</p><div class=\"sc-b585f443-2 SoolS\" data-nosnippet=\"true\"><p class=\"sc-4984dd93-0 iqdbQL coin-item-symbol\" color=\"text3\" data-sensors-click=\"true\" font-size=\"1\">SOL</p></div></div></div></a></div></td><td style=\"text-align:end\"><div class=\"sc-a0353bbc-0 gDrtaY\"><a class=\"cmc-link\" href=\"/currencies/solana/#markets\"><span>$20.24</span></a></div></td><td style=\"text-align:end\"><span class=\"sc-d55c02b-0 gUnzUB\"><span class=\"icon-Caret-down\" style=\"width:12px;height:18px;display:inline-block\"></span>0.58%</span></td><td style=\"text-align:end\"><span class=\"sc-d55c02b-0 iwhBxy\"><span class=\"icon-Caret-up\" style=\"width:12px;height:18px;display:inline-block\"></span>4.12%</span></td><td style=\"text-align:end\"><span class=\"sc-d55c02b-0 gUnzUB\"><span class=\"icon-Caret-down\" style=\"width:12px;height:18px;display:inline-block\"></span>6.51%</span></td><td style=\"text-align:end\"><p class=\"sc-4984dd93-0 jZrMxO\" color=\"text\" data-sensors-click=\"true\" font-size=\"1\" style=\"white-space:nowrap\"><span class=\"sc-f8982b1f-0 jYSZLP\">$8.27B</span><span class=\"sc-f8982b1f-1 bOsKfy\" data-nosnippet=\"true\">$8,272,968,386</span></p></td><td style=\"text-align:end\"><div class=\"sc-aef7b723-0 sc-a0b7a456-0 iHWrYq\"><a class=\"cmc-link\" href=\"/currencies/solana/#markets\"><p class=\"sc-4984dd93-0 jZrMxO font_weight_500\" color=\"text\" data-sensors-click=\"true\" font-size=\"1\">$377,012,694</p></a><div data-nosnippet=\"true\"><p class=\"sc-4984dd93-0 ihZPK\" color=\"text2\" data-sensors-click=\"true\" font-size=\"0\">18,631,051 SOL</p></div></div></td><td style=\"text-align:end\"><div class=\"sc-aef7b723-0 sc-e8f714de-0 cELvic\" data-sensors-click=\"true\" style=\"cursor:\"><div class=\"sc-aef7b723-0 sc-e8f714de-1 hSniWt\"><p class=\"sc-4984dd93-0 WfVLk\" color=\"text\" data-sensors-click=\"true\" font-size=\"1\" font-weight=\"medium\">408,829,994 SOL</p></div></div></td><td style=\"text-align:end\"><a class=\"cmc-link\" href=\"/currencies/solana/?period=7d\"><img alt=\"solana-7d-price-graph\" class=\"sc-b28ea1c6-0 ewXAph\" loading=\"lazy\" src=\"https://s3.coinmarketcap.com/generated/sparklines/web/7d/2781/5426.svg\"/></a></td></tr>, <tr><td><span class=\"sc-c0b4ee1-2 bwyOyZ\"></span></td><td style=\"text-align:start\"><p class=\"sc-4984dd93-0 iWSjWE\" color=\"text2\" data-sensors-click=\"true\" font-size=\"14\">10</p></td><td style=\"text-align:start\"><div class=\"sc-aef7b723-0 LCOyB\" display=\"flex\"><a class=\"cmc-link\" href=\"/currencies/tron/\"><div class=\"sc-aef7b723-0 sc-b585f443-0 hqAcrb\" data-sensors-click=\"true\"><img alt=\"TRX logo\" class=\"coin-logo\" decoding=\"async\" fetchpriority=\"low\" loading=\"lazy\" src=\"https://s2.coinmarketcap.com/static/img/coins/64x64/1958.png\"/><div class=\"sc-aef7b723-0 sc-b585f443-1 dUXsZC hide-ranking-number\"><p class=\"sc-4984dd93-0 kKpPOn\" color=\"text\" data-sensors-click=\"true\" font-size=\"1\" font-weight=\"semibold\">TRON</p><div class=\"sc-b585f443-2 SoolS\" data-nosnippet=\"true\"><p class=\"sc-4984dd93-0 iqdbQL coin-item-symbol\" color=\"text3\" data-sensors-click=\"true\" font-size=\"1\">TRX</p></div></div></div></a></div></td><td style=\"text-align:end\"><div class=\"sc-a0353bbc-0 gDrtaY\"><a class=\"cmc-link\" href=\"/currencies/tron/#markets\"><span>$0.07723</span></a></div></td><td style=\"text-align:end\"><span class=\"sc-d55c02b-0 gUnzUB\"><span class=\"icon-Caret-down\" style=\"width:12px;height:18px;display:inline-block\"></span>0.21%</span></td><td style=\"text-align:end\"><span class=\"sc-d55c02b-0 gUnzUB\"><span class=\"icon-Caret-down\" style=\"width:12px;height:18px;display:inline-block\"></span>0.16%</span></td><td style=\"text-align:end\"><span class=\"sc-d55c02b-0 gUnzUB\"><span class=\"icon-Caret-down\" style=\"width:12px;height:18px;display:inline-block\"></span>0.22%</span></td><td style=\"text-align:end\"><p class=\"sc-4984dd93-0 jZrMxO\" color=\"text\" data-sensors-click=\"true\" font-size=\"1\" style=\"white-space:nowrap\"><span class=\"sc-f8982b1f-0 jYSZLP\">$6.9B</span><span class=\"sc-f8982b1f-1 bOsKfy\" data-nosnippet=\"true\">$6,895,233,901</span></p></td><td style=\"text-align:end\"><div class=\"sc-aef7b723-0 sc-a0b7a456-0 iHWrYq\"><a class=\"cmc-link\" href=\"/currencies/tron/#markets\"><p class=\"sc-4984dd93-0 jZrMxO font_weight_500\" color=\"text\" data-sensors-click=\"true\" font-size=\"1\">$142,619,826</p></a><div data-nosnippet=\"true\"><p class=\"sc-4984dd93-0 ihZPK\" color=\"text2\" data-sensors-click=\"true\" font-size=\"0\">1,846,734,252 TRX</p></div></div></td><td style=\"text-align:end\"><div class=\"sc-aef7b723-0 sc-e8f714de-0 cELvic\" data-sensors-click=\"true\" style=\"cursor:\"><div class=\"sc-aef7b723-0 sc-e8f714de-1 hSniWt\"><p class=\"sc-4984dd93-0 WfVLk\" color=\"text\" data-sensors-click=\"true\" font-size=\"1\" font-weight=\"medium\">89,283,972,278 TRX</p></div></div></td><td style=\"text-align:end\"><a class=\"cmc-link\" href=\"/currencies/tron/?period=7d\"><img alt=\"tron-7d-price-graph\" class=\"sc-b28ea1c6-0 ewXAph\" loading=\"lazy\" src=\"https://s3.coinmarketcap.com/generated/sparklines/web/7d/2781/1958.svg\"/></a></td></tr>, <tr class=\"sc-428ddaf3-0 bKFMfg\"><td><span></span></td><td><span></span></td><td><a class=\"cmc-link\" href=\"/currencies/toncoin/\"><span class=\"circle\"></span><span>Toncoin</span><span class=\"crypto-symbol\">TON</span></a></td><td><span>$<!-- -->1.79</span></td><td><span></span></td></tr>, <tr class=\"sc-428ddaf3-0 bKFMfg\"><td><span></span></td><td><span></span></td><td><a class=\"cmc-link\" href=\"/currencies/multi-collateral-dai/\"><span class=\"circle\"></span><span>Dai</span><span class=\"crypto-symbol\">DAI</span></a></td><td><span>$<!-- -->1.00</span></td><td><span></span></td></tr>, <tr class=\"sc-428ddaf3-0 bKFMfg\"><td><span></span></td><td><span></span></td><td><a class=\"cmc-link\" href=\"/currencies/polygon/\"><span class=\"circle\"></span><span>Polygon</span><span class=\"crypto-symbol\">MATIC</span></a></td><td><span>$<!-- -->0.56</span></td><td><span></span></td></tr>, <tr class=\"sc-428ddaf3-0 bKFMfg\"><td><span></span></td><td><span></span></td><td><a class=\"cmc-link\" href=\"/currencies/polkadot-new/\"><span class=\"circle\"></span><span>Polkadot</span><span class=\"crypto-symbol\">DOT</span></a></td><td><span>$<!-- -->4.24</span></td><td><span></span></td></tr>, <tr class=\"sc-428ddaf3-0 bKFMfg\"><td><span></span></td><td><span></span></td><td><a class=\"cmc-link\" href=\"/currencies/litecoin/\"><span class=\"circle\"></span><span>Litecoin</span><span class=\"crypto-symbol\">LTC</span></a></td><td><span>$<!-- -->63.05</span></td><td><span></span></td></tr>, <tr class=\"sc-428ddaf3-0 bKFMfg\"><td><span></span></td><td><span></span></td><td><a class=\"cmc-link\" href=\"/currencies/shiba-inu/\"><span class=\"circle\"></span><span>Shiba Inu</span><span class=\"crypto-symbol\">SHIB</span></a></td><td><span>$<!-- -->0.00</span></td><td><span></span></td></tr>, <tr class=\"sc-428ddaf3-0 bKFMfg\"><td><span></span></td><td><span></span></td><td><a class=\"cmc-link\" href=\"/currencies/wrapped-bitcoin/\"><span class=\"circle\"></span><span>Wrapped Bitcoin</span><span class=\"crypto-symbol\">WBTC</span></a></td><td><span>$<!-- -->25742.12</span></td><td><span></span></td></tr>, <tr class=\"sc-428ddaf3-0 bKFMfg\"><td><span></span></td><td><span></span></td><td><a class=\"cmc-link\" href=\"/currencies/bitcoin-cash/\"><span class=\"circle\"></span><span>Bitcoin Cash</span><span class=\"crypto-symbol\">BCH</span></a></td><td><span>$<!-- -->190.12</span></td><td><span></span></td></tr>, <tr class=\"sc-428ddaf3-0 bKFMfg\"><td><span></span></td><td><span></span></td><td><a class=\"cmc-link\" href=\"/currencies/avalanche/\"><span class=\"circle\"></span><span>Avalanche</span><span class=\"crypto-symbol\">AVAX</span></a></td><td><span>$<!-- -->9.86</span></td><td><span></span></td></tr>, <tr class=\"sc-428ddaf3-0 bKFMfg\"><td><span></span></td><td><span></span></td><td><a class=\"cmc-link\" href=\"/currencies/unus-sed-leo/\"><span class=\"circle\"></span><span>UNUS SED LEO</span><span class=\"crypto-symbol\">LEO</span></a></td><td><span>$<!-- -->3.67</span></td><td><span></span></td></tr>, <tr class=\"sc-428ddaf3-0 bKFMfg\"><td><span></span></td><td><span></span></td><td><a class=\"cmc-link\" href=\"/currencies/stellar/\"><span class=\"circle\"></span><span>Stellar</span><span class=\"crypto-symbol\">XLM</span></a></td><td><span>$<!-- -->0.12</span></td><td><span></span></td></tr>, <tr class=\"sc-428ddaf3-0 bKFMfg\"><td><span></span></td><td><span></span></td><td><a class=\"cmc-link\" href=\"/currencies/chainlink/\"><span class=\"circle\"></span><span>Chainlink</span><span class=\"crypto-symbol\">LINK</span></a></td><td><span>$<!-- -->6.11</span></td><td><span></span></td></tr>, <tr class=\"sc-428ddaf3-0 bKFMfg\"><td><span></span></td><td><span></span></td><td><a class=\"cmc-link\" href=\"/currencies/trueusd/\"><span class=\"circle\"></span><span>TrueUSD</span><span class=\"crypto-symbol\">TUSD</span></a></td><td><span>$<!-- -->1.00</span></td><td><span></span></td></tr>, <tr class=\"sc-428ddaf3-0 bKFMfg\"><td><span></span></td><td><span></span></td><td><a class=\"cmc-link\" href=\"/currencies/binance-usd/\"><span class=\"circle\"></span><span>Binance USD</span><span class=\"crypto-symbol\">BUSD</span></a></td><td><span>$<!-- -->1.00</span></td><td><span></span></td></tr>, <tr class=\"sc-428ddaf3-0 bKFMfg\"><td><span></span></td><td><span></span></td><td><a class=\"cmc-link\" href=\"/currencies/monero/\"><span class=\"circle\"></span><span>Monero</span><span class=\"crypto-symbol\">XMR</span></a></td><td><span>$<!-- -->139.27</span></td><td><span></span></td></tr>, <tr class=\"sc-428ddaf3-0 bKFMfg\"><td><span></span></td><td><span></span></td><td><a class=\"cmc-link\" href=\"/currencies/okb/\"><span class=\"circle\"></span><span>OKB</span><span class=\"crypto-symbol\">OKB</span></a></td><td><span>$<!-- -->42.07</span></td><td><span></span></td></tr>, <tr class=\"sc-428ddaf3-0 bKFMfg\"><td><span></span></td><td><span></span></td><td><a class=\"cmc-link\" href=\"/currencies/uniswap/\"><span class=\"circle\"></span><span>Uniswap</span><span class=\"crypto-symbol\">UNI</span></a></td><td><span>$<!-- -->4.35</span></td><td><span></span></td></tr>, <tr class=\"sc-428ddaf3-0 bKFMfg\"><td><span></span></td><td><span></span></td><td><a class=\"cmc-link\" href=\"/currencies/cosmos/\"><span class=\"circle\"></span><span>Cosmos</span><span class=\"crypto-symbol\">ATOM</span></a></td><td><span>$<!-- -->6.78</span></td><td><span></span></td></tr>, <tr class=\"sc-428ddaf3-0 bKFMfg\"><td><span></span></td><td><span></span></td><td><a class=\"cmc-link\" href=\"/currencies/ethereum-classic/\"><span class=\"circle\"></span><span>Ethereum Classic</span><span class=\"crypto-symbol\">ETC</span></a></td><td><span>$<!-- -->15.34</span></td><td><span></span></td></tr>, <tr class=\"sc-428ddaf3-0 bKFMfg\"><td><span></span></td><td><span></span></td><td><a class=\"cmc-link\" href=\"/currencies/hedera/\"><span class=\"circle\"></span><span>Hedera</span><span class=\"crypto-symbol\">HBAR</span></a></td><td><span>$<!-- -->0.05</span></td><td><span></span></td></tr>, <tr class=\"sc-428ddaf3-0 bKFMfg\"><td><span></span></td><td><span></span></td><td><a class=\"cmc-link\" href=\"/currencies/internet-computer/\"><span class=\"circle\"></span><span>Internet Computer</span><span class=\"crypto-symbol\">ICP</span></a></td><td><span>$<!-- -->3.27</span></td><td><span></span></td></tr>, <tr class=\"sc-428ddaf3-0 bKFMfg\"><td><span></span></td><td><span></span></td><td><a class=\"cmc-link\" href=\"/currencies/filecoin/\"><span class=\"circle\"></span><span>Filecoin</span><span class=\"crypto-symbol\">FIL</span></a></td><td><span>$<!-- -->3.23</span></td><td><span></span></td></tr>, <tr class=\"sc-428ddaf3-0 bKFMfg\"><td><span></span></td><td><span></span></td><td><a class=\"cmc-link\" href=\"/currencies/lido-dao/\"><span class=\"circle\"></span><span>Lido DAO</span><span class=\"crypto-symbol\">LDO</span></a></td><td><span>$<!-- -->1.56</span></td><td><span></span></td></tr>, <tr class=\"sc-428ddaf3-0 bKFMfg\"><td><span></span></td><td><span></span></td><td><a class=\"cmc-link\" href=\"/currencies/mantle/\"><span class=\"circle\"></span><span>Mantle</span><span class=\"crypto-symbol\">MNT</span></a></td><td><span>$<!-- -->0.43</span></td><td><span></span></td></tr>, <tr class=\"sc-428ddaf3-0 bKFMfg\"><td><span></span></td><td><span></span></td><td><a class=\"cmc-link\" href=\"/currencies/cronos/\"><span class=\"circle\"></span><span>Cronos</span><span class=\"crypto-symbol\">CRO</span></a></td><td><span>$<!-- -->0.05</span></td><td><span></span></td></tr>, <tr class=\"sc-428ddaf3-0 bKFMfg\"><td><span></span></td><td><span></span></td><td><a class=\"cmc-link\" href=\"/currencies/aptos/\"><span class=\"circle\"></span><span>Aptos</span><span class=\"crypto-symbol\">APT</span></a></td><td><span>$<!-- -->5.49</span></td><td><span></span></td></tr>, <tr class=\"sc-428ddaf3-0 bKFMfg\"><td><span></span></td><td><span></span></td><td><a class=\"cmc-link\" href=\"/currencies/quant/\"><span class=\"circle\"></span><span>Quant</span><span class=\"crypto-symbol\">QNT</span></a></td><td><span>$<!-- -->98.57</span></td><td><span></span></td></tr>, <tr class=\"sc-428ddaf3-0 bKFMfg\"><td><span></span></td><td><span></span></td><td><a class=\"cmc-link\" href=\"/currencies/arbitrum/\"><span class=\"circle\"></span><span>Arbitrum</span><span class=\"crypto-symbol\">ARB</span></a></td><td><span>$<!-- -->0.90</span></td><td><span></span></td></tr>, <tr class=\"sc-428ddaf3-0 bKFMfg\"><td><span></span></td><td><span></span></td><td><a class=\"cmc-link\" href=\"/currencies/vechain/\"><span class=\"circle\"></span><span>VeChain</span><span class=\"crypto-symbol\">VET</span></a></td><td><span>$<!-- -->0.02</span></td><td><span></span></td></tr>, <tr class=\"sc-428ddaf3-0 bKFMfg\"><td><span></span></td><td><span></span></td><td><a class=\"cmc-link\" href=\"/currencies/maker/\"><span class=\"circle\"></span><span>Maker</span><span class=\"crypto-symbol\">MKR</span></a></td><td><span>$<!-- -->1127.22</span></td><td><span></span></td></tr>, <tr class=\"sc-428ddaf3-0 bKFMfg\"><td><span></span></td><td><span></span></td><td><a class=\"cmc-link\" href=\"/currencies/optimism-ethereum/\"><span class=\"circle\"></span><span>Optimism</span><span class=\"crypto-symbol\">OP</span></a></td><td><span>$<!-- -->1.33</span></td><td><span></span></td></tr>, <tr class=\"sc-428ddaf3-0 bKFMfg\"><td><span></span></td><td><span></span></td><td><a class=\"cmc-link\" href=\"/currencies/near-protocol/\"><span class=\"circle\"></span><span>NEAR Protocol</span><span class=\"crypto-symbol\">NEAR</span></a></td><td><span>$<!-- -->1.12</span></td><td><span></span></td></tr>, <tr class=\"sc-428ddaf3-0 bKFMfg\"><td><span></span></td><td><span></span></td><td><a class=\"cmc-link\" href=\"/currencies/aave/\"><span class=\"circle\"></span><span>Aave</span><span class=\"crypto-symbol\">AAVE</span></a></td><td><span>$<!-- -->55.30</span></td><td><span></span></td></tr>, <tr class=\"sc-428ddaf3-0 bKFMfg\"><td><span></span></td><td><span></span></td><td><a class=\"cmc-link\" href=\"/currencies/the-graph/\"><span class=\"circle\"></span><span>The Graph</span><span class=\"crypto-symbol\">GRT</span></a></td><td><span>$<!-- -->0.09</span></td><td><span></span></td></tr>, <tr class=\"sc-428ddaf3-0 bKFMfg\"><td><span></span></td><td><span></span></td><td><a class=\"cmc-link\" href=\"/currencies/xdc-network/\"><span class=\"circle\"></span><span>XDC Network</span><span class=\"crypto-symbol\">XDC</span></a></td><td><span>$<!-- -->0.06</span></td><td><span></span></td></tr>, <tr class=\"sc-428ddaf3-0 bKFMfg\"><td><span></span></td><td><span></span></td><td><a class=\"cmc-link\" href=\"/currencies/algorand/\"><span class=\"circle\"></span><span>Algorand</span><span class=\"crypto-symbol\">ALGO</span></a></td><td><span>$<!-- -->0.09</span></td><td><span></span></td></tr>, <tr class=\"sc-428ddaf3-0 bKFMfg\"><td><span></span></td><td><span></span></td><td><a class=\"cmc-link\" href=\"/currencies/usdd/\"><span class=\"circle\"></span><span>USDD</span><span class=\"crypto-symbol\">USDD</span></a></td><td><span>$<!-- -->1.00</span></td><td><span></span></td></tr>, <tr class=\"sc-428ddaf3-0 bKFMfg\"><td><span></span></td><td><span></span></td><td><a class=\"cmc-link\" href=\"/currencies/stacks/\"><span class=\"circle\"></span><span>Stacks</span><span class=\"crypto-symbol\">STX</span></a></td><td><span>$<!-- -->0.47</span></td><td><span></span></td></tr>, <tr class=\"sc-428ddaf3-0 bKFMfg\"><td><span></span></td><td><span></span></td><td><a class=\"cmc-link\" href=\"/currencies/tezos/\"><span class=\"circle\"></span><span>Tezos</span><span class=\"crypto-symbol\">XTZ</span></a></td><td><span>$<!-- -->0.70</span></td><td><span></span></td></tr>, <tr class=\"sc-428ddaf3-0 bKFMfg\"><td><span></span></td><td><span></span></td><td><a class=\"cmc-link\" href=\"/currencies/multiversx-egld/\"><span class=\"circle\"></span><span>MultiversX</span><span class=\"crypto-symbol\">EGLD</span></a></td><td><span>$<!-- -->25.07</span></td><td><span></span></td></tr>, <tr class=\"sc-428ddaf3-0 bKFMfg\"><td><span></span></td><td><span></span></td><td><a class=\"cmc-link\" href=\"/currencies/eos/\"><span class=\"circle\"></span><span>EOS</span><span class=\"crypto-symbol\">EOS</span></a></td><td><span>$<!-- -->0.59</span></td><td><span></span></td></tr>, <tr class=\"sc-428ddaf3-0 bKFMfg\"><td><span></span></td><td><span></span></td><td><a class=\"cmc-link\" href=\"/currencies/axie-infinity/\"><span class=\"circle\"></span><span>Axie Infinity</span><span class=\"crypto-symbol\">AXS</span></a></td><td><span>$<!-- -->4.54</span></td><td><span></span></td></tr>, <tr class=\"sc-428ddaf3-0 bKFMfg\"><td><span></span></td><td><span></span></td><td><a class=\"cmc-link\" href=\"/currencies/the-sandbox/\"><span class=\"circle\"></span><span>The Sandbox</span><span class=\"crypto-symbol\">SAND</span></a></td><td><span>$<!-- -->0.31</span></td><td><span></span></td></tr>, <tr class=\"sc-428ddaf3-0 bKFMfg\"><td><span></span></td><td><span></span></td><td><a class=\"cmc-link\" href=\"/currencies/theta-network/\"><span class=\"circle\"></span><span>Theta Network</span><span class=\"crypto-symbol\">THETA</span></a></td><td><span>$<!-- -->0.62</span></td><td><span></span></td></tr>, <tr class=\"sc-428ddaf3-0 bKFMfg\"><td><span></span></td><td><span></span></td><td><a class=\"cmc-link\" href=\"/currencies/immutable-x/\"><span class=\"circle\"></span><span>Immutable</span><span class=\"crypto-symbol\">IMX</span></a></td><td><span>$<!-- -->0.55</span></td><td><span></span></td></tr>, <tr class=\"sc-428ddaf3-0 bKFMfg\"><td><span></span></td><td><span></span></td><td><a class=\"cmc-link\" href=\"/currencies/synthetix/\"><span class=\"circle\"></span><span>Synthetix</span><span class=\"crypto-symbol\">SNX</span></a></td><td><span>$<!-- -->2.27</span></td><td><span></span></td></tr>, <tr class=\"sc-428ddaf3-0 bKFMfg\"><td><span></span></td><td><span></span></td><td><a class=\"cmc-link\" href=\"/currencies/bitcoin-sv/\"><span class=\"circle\"></span><span>Bitcoin SV</span><span class=\"crypto-symbol\">BSV</span></a></td><td><span>$<!-- -->30.47</span></td><td><span></span></td></tr>, <tr class=\"sc-428ddaf3-0 bKFMfg\"><td><span></span></td><td><span></span></td><td><a class=\"cmc-link\" href=\"/currencies/injective/\"><span class=\"circle\"></span><span>Injective</span><span class=\"crypto-symbol\">INJ</span></a></td><td><span>$<!-- -->6.85</span></td><td><span></span></td></tr>, <tr class=\"sc-428ddaf3-0 bKFMfg\"><td><span></span></td><td><span></span></td><td><a class=\"cmc-link\" href=\"/currencies/fantom/\"><span class=\"circle\"></span><span>Fantom</span><span class=\"crypto-symbol\">FTM</span></a></td><td><span>$<!-- -->0.20</span></td><td><span></span></td></tr>, <tr class=\"sc-428ddaf3-0 bKFMfg\"><td><span></span></td><td><span></span></td><td><a class=\"cmc-link\" href=\"/currencies/decentraland/\"><span class=\"circle\"></span><span>Decentraland</span><span class=\"crypto-symbol\">MANA</span></a></td><td><span>$<!-- -->0.29</span></td><td><span></span></td></tr>, <tr class=\"sc-428ddaf3-0 bKFMfg\"><td><span></span></td><td><span></span></td><td><a class=\"cmc-link\" href=\"/currencies/neo/\"><span class=\"circle\"></span><span>Neo</span><span class=\"crypto-symbol\">NEO</span></a></td><td><span>$<!-- -->7.47</span></td><td><span></span></td></tr>, <tr class=\"sc-428ddaf3-0 bKFMfg\"><td><span></span></td><td><span></span></td><td><a class=\"cmc-link\" href=\"/currencies/thorchain/\"><span class=\"circle\"></span><span>THORChain</span><span class=\"crypto-symbol\">RUNE</span></a></td><td><span>$<!-- -->1.50</span></td><td><span></span></td></tr>, <tr class=\"sc-428ddaf3-0 bKFMfg\"><td><span></span></td><td><span></span></td><td><a class=\"cmc-link\" href=\"/currencies/render/\"><span class=\"circle\"></span><span>Render</span><span class=\"crypto-symbol\">RNDR</span></a></td><td><span>$<!-- -->1.35</span></td><td><span></span></td></tr>, <tr class=\"sc-428ddaf3-0 bKFMfg\"><td><span></span></td><td><span></span></td><td><a class=\"cmc-link\" href=\"/currencies/paxos-standard/\"><span class=\"circle\"></span><span>Pax Dollar</span><span class=\"crypto-symbol\">USDP</span></a></td><td><span>$<!-- -->1.00</span></td><td><span></span></td></tr>, <tr class=\"sc-428ddaf3-0 bKFMfg\"><td><span></span></td><td><span></span></td><td><a class=\"cmc-link\" href=\"/currencies/apecoin-ape/\"><span class=\"circle\"></span><span>ApeCoin</span><span class=\"crypto-symbol\">APE</span></a></td><td><span>$<!-- -->1.35</span></td><td><span></span></td></tr>, <tr class=\"sc-428ddaf3-0 bKFMfg\"><td><span></span></td><td><span></span></td><td><a class=\"cmc-link\" href=\"/currencies/kava/\"><span class=\"circle\"></span><span>Kava</span><span class=\"crypto-symbol\">KAVA</span></a></td><td><span>$<!-- -->0.66</span></td><td><span></span></td></tr>, <tr class=\"sc-428ddaf3-0 bKFMfg\"><td><span></span></td><td><span></span></td><td><a class=\"cmc-link\" href=\"/currencies/pax-gold/\"><span class=\"circle\"></span><span>PAX Gold</span><span class=\"crypto-symbol\">PAXG</span></a></td><td><span>$<!-- -->1909.06</span></td><td><span></span></td></tr>, <tr class=\"sc-428ddaf3-0 bKFMfg\"><td><span></span></td><td><span></span></td><td><a class=\"cmc-link\" href=\"/currencies/tether-gold/\"><span class=\"circle\"></span><span>Tether Gold</span><span class=\"crypto-symbol\">XAUt</span></a></td><td><span>$<!-- -->1929.09</span></td><td><span></span></td></tr>, <tr class=\"sc-428ddaf3-0 bKFMfg\"><td><span></span></td><td><span></span></td><td><a class=\"cmc-link\" href=\"/currencies/iota/\"><span class=\"circle\"></span><span>IOTA</span><span class=\"crypto-symbol\">MIOTA</span></a></td><td><span>$<!-- -->0.17</span></td><td><span></span></td></tr>, <tr class=\"sc-428ddaf3-0 bKFMfg\"><td><span></span></td><td><span></span></td><td><a class=\"cmc-link\" href=\"/currencies/rocket-pool/\"><span class=\"circle\"></span><span>Rocket Pool</span><span class=\"crypto-symbol\">RPL</span></a></td><td><span>$<!-- -->23.24</span></td><td><span></span></td></tr>, <tr class=\"sc-428ddaf3-0 bKFMfg\"><td><span></span></td><td><span></span></td><td><a class=\"cmc-link\" href=\"/currencies/ecash/\"><span class=\"circle\"></span><span>eCash</span><span class=\"crypto-symbol\">XEC</span></a></td><td><span>$<!-- -->0.00</span></td><td><span></span></td></tr>, <tr class=\"sc-428ddaf3-0 bKFMfg\"><td><span></span></td><td><span></span></td><td><a class=\"cmc-link\" href=\"/currencies/flow/\"><span class=\"circle\"></span><span>Flow</span><span class=\"crypto-symbol\">FLOW</span></a></td><td><span>$<!-- -->0.44</span></td><td><span></span></td></tr>, <tr class=\"sc-428ddaf3-0 bKFMfg\"><td><span></span></td><td><span></span></td><td><a class=\"cmc-link\" href=\"/currencies/chiliz/\"><span class=\"circle\"></span><span>Chiliz</span><span class=\"crypto-symbol\">CHZ</span></a></td><td><span>$<!-- -->0.06</span></td><td><span></span></td></tr>, <tr class=\"sc-428ddaf3-0 bKFMfg\"><td><span></span></td><td><span></span></td><td><a class=\"cmc-link\" href=\"/currencies/klaytn/\"><span class=\"circle\"></span><span>Klaytn</span><span class=\"crypto-symbol\">KLAY</span></a></td><td><span>$<!-- -->0.13</span></td><td><span></span></td></tr>, <tr class=\"sc-428ddaf3-0 bKFMfg\"><td><span></span></td><td><span></span></td><td><a class=\"cmc-link\" href=\"/currencies/conflux-network/\"><span class=\"circle\"></span><span>Conflux</span><span class=\"crypto-symbol\">CFX</span></a></td><td><span>$<!-- -->0.13</span></td><td><span></span></td></tr>, <tr class=\"sc-428ddaf3-0 bKFMfg\"><td><span></span></td><td><span></span></td><td><a class=\"cmc-link\" href=\"/currencies/zcash/\"><span class=\"circle\"></span><span>Zcash</span><span class=\"crypto-symbol\">ZEC</span></a></td><td><span>$<!-- -->24.59</span></td><td><span></span></td></tr>, <tr class=\"sc-428ddaf3-0 bKFMfg\"><td><span></span></td><td><span></span></td><td><a class=\"cmc-link\" href=\"/currencies/frax-share/\"><span class=\"circle\"></span><span>Frax Share</span><span class=\"crypto-symbol\">FXS</span></a></td><td><span>$<!-- -->5.43</span></td><td><span></span></td></tr>, <tr class=\"sc-428ddaf3-0 bKFMfg\"><td><span></span></td><td><span></span></td><td><a class=\"cmc-link\" href=\"/currencies/casper/\"><span class=\"circle\"></span><span>Casper</span><span class=\"crypto-symbol\">CSPR</span></a></td><td><span>$<!-- -->0.03</span></td><td><span></span></td></tr>, <tr class=\"sc-428ddaf3-0 bKFMfg\"><td><span></span></td><td><span></span></td><td><a class=\"cmc-link\" href=\"/currencies/bittorrent-new/\"><span class=\"circle\"></span><span>BitTorrent(New)</span><span class=\"crypto-symbol\">BTT</span></a></td><td><span>$<!-- -->0.00</span></td><td><span></span></td></tr>, <tr class=\"sc-428ddaf3-0 bKFMfg\"><td><span></span></td><td><span></span></td><td><a class=\"cmc-link\" href=\"/currencies/huobi-token/\"><span class=\"circle\"></span><span>Huobi Token</span><span class=\"crypto-symbol\">HT</span></a></td><td><span>$<!-- -->2.38</span></td><td><span></span></td></tr>, <tr class=\"sc-428ddaf3-0 bKFMfg\"><td><span></span></td><td><span></span></td><td><a class=\"cmc-link\" href=\"/currencies/curve-dao-token/\"><span class=\"circle\"></span><span>Curve DAO Token</span><span class=\"crypto-symbol\">CRV</span></a></td><td><span>$<!-- -->0.44</span></td><td><span></span></td></tr>, <tr class=\"sc-428ddaf3-0 bKFMfg\"><td><span></span></td><td><span></span></td><td><a class=\"cmc-link\" href=\"/currencies/sui/\"><span class=\"circle\"></span><span>Sui</span><span class=\"crypto-symbol\">SUI</span></a></td><td><span>$<!-- -->0.48</span></td><td><span></span></td></tr>, <tr class=\"sc-428ddaf3-0 bKFMfg\"><td><span></span></td><td><span></span></td><td><a class=\"cmc-link\" href=\"/currencies/kucoin-token/\"><span class=\"circle\"></span><span>KuCoin Token</span><span class=\"crypto-symbol\">KCS</span></a></td><td><span>$<!-- -->3.95</span></td><td><span></span></td></tr>, <tr class=\"sc-428ddaf3-0 bKFMfg\"><td><span></span></td><td><span></span></td><td><a class=\"cmc-link\" href=\"/currencies/gatetoken/\"><span class=\"circle\"></span><span>GateToken</span><span class=\"crypto-symbol\">GT</span></a></td><td><span>$<!-- -->3.92</span></td><td><span></span></td></tr>, <tr class=\"sc-428ddaf3-0 bKFMfg\"><td><span></span></td><td><span></span></td><td><a class=\"cmc-link\" href=\"/currencies/gala/\"><span class=\"circle\"></span><span>Gala</span><span class=\"crypto-symbol\">GALA</span></a></td><td><span>$<!-- -->0.02</span></td><td><span></span></td></tr>, <tr class=\"sc-428ddaf3-0 bKFMfg\"><td><span></span></td><td><span></span></td><td><a class=\"cmc-link\" href=\"/currencies/mina/\"><span class=\"circle\"></span><span>Mina</span><span class=\"crypto-symbol\">MINA</span></a></td><td><span>$<!-- -->0.38</span></td><td><span></span></td></tr>, <tr class=\"sc-428ddaf3-0 bKFMfg\"><td><span></span></td><td><span></span></td><td><a class=\"cmc-link\" href=\"/currencies/terra-luna/\"><span class=\"circle\"></span><span>Terra Classic</span><span class=\"crypto-symbol\">LUNC</span></a></td><td><span>$<!-- -->0.00</span></td><td><span></span></td></tr>, <tr class=\"sc-428ddaf3-0 bKFMfg\"><td><span></span></td><td><span></span></td><td><a class=\"cmc-link\" href=\"/currencies/trust-wallet-token/\"><span class=\"circle\"></span><span>Trust Wallet Token</span><span class=\"crypto-symbol\">TWT</span></a></td><td><span>$<!-- -->0.80</span></td><td><span></span></td></tr>, <tr class=\"sc-428ddaf3-0 bKFMfg\"><td><span></span></td><td><span></span></td><td><a class=\"cmc-link\" href=\"/currencies/dydx/\"><span class=\"circle\"></span><span>dYdX</span><span class=\"crypto-symbol\">DYDX</span></a></td><td><span>$<!-- -->2.10</span></td><td><span></span></td></tr>, <tr class=\"sc-428ddaf3-0 bKFMfg\"><td><span></span></td><td><span></span></td><td><a class=\"cmc-link\" href=\"/currencies/nexo/\"><span class=\"circle\"></span><span>Nexo</span><span class=\"crypto-symbol\">NEXO</span></a></td><td><span>$<!-- -->0.58</span></td><td><span></span></td></tr>, <tr class=\"sc-428ddaf3-0 bKFMfg\"><td><span></span></td><td><span></span></td><td><a class=\"cmc-link\" href=\"/currencies/compound/\"><span class=\"circle\"></span><span>Compound</span><span class=\"crypto-symbol\">COMP</span></a></td><td><span>$<!-- -->40.03</span></td><td><span></span></td></tr>, <tr class=\"sc-428ddaf3-0 bKFMfg\"><td><span></span></td><td><span></span></td><td><a class=\"cmc-link\" href=\"/currencies/pepe/\"><span class=\"circle\"></span><span>Pepe</span><span class=\"crypto-symbol\">PEPE</span></a></td><td><span>$<!-- -->0.00</span></td><td><span></span></td></tr>, <tr class=\"sc-428ddaf3-0 bKFMfg\"><td><span></span></td><td><span></span></td><td><a class=\"cmc-link\" href=\"/currencies/gemini-dollar/\"><span class=\"circle\"></span><span>Gemini Dollar</span><span class=\"crypto-symbol\">GUSD</span></a></td><td><span>$<!-- -->1.00</span></td><td><span></span></td></tr>, <tr class=\"sc-428ddaf3-0 bKFMfg\"><td><span></span></td><td><span></span></td><td><a class=\"cmc-link\" href=\"/currencies/apenft/\"><span class=\"circle\"></span><span>APENFT</span><span class=\"crypto-symbol\">NFT</span></a></td><td><span>$<!-- -->0.00</span></td><td><span></span></td></tr>, <tr class=\"sc-428ddaf3-0 bKFMfg\"><td><span></span></td><td><span></span></td><td><a class=\"cmc-link\" href=\"/currencies/flare/\"><span class=\"circle\"></span><span>Flare</span><span class=\"crypto-symbol\">FLR</span></a></td><td><span>$<!-- -->0.01</span></td><td><span></span></td></tr>, <tr class=\"sc-428ddaf3-0 bKFMfg\"><td><span></span></td><td><span></span></td><td><a class=\"cmc-link\" href=\"/currencies/dash/\"><span class=\"circle\"></span><span>Dash</span><span class=\"crypto-symbol\">DASH</span></a></td><td><span>$<!-- -->25.71</span></td><td><span></span></td></tr>, <tr class=\"sc-428ddaf3-0 bKFMfg\"><td><span></span></td><td><span></span></td><td><a class=\"cmc-link\" href=\"/currencies/safepal/\"><span class=\"circle\"></span><span>SafePal</span><span class=\"crypto-symbol\">SFP</span></a></td><td><span>$<!-- -->0.59</span></td><td><span></span></td></tr>, <tr class=\"sc-428ddaf3-0 bKFMfg\"><td><span></span></td><td><span></span></td><td><a class=\"cmc-link\" href=\"/currencies/astar/\"><span class=\"circle\"></span><span>Astar</span><span class=\"crypto-symbol\">ASTR</span></a></td><td><span>$<!-- -->0.06</span></td><td><span></span></td></tr>, <tr class=\"sc-428ddaf3-0 bKFMfg\"><td><span></span></td><td><span></span></td><td><a class=\"cmc-link\" href=\"/currencies/gmx/\"><span class=\"circle\"></span><span>GMX</span><span class=\"crypto-symbol\">GMX</span></a></td><td><span>$<!-- -->32.38</span></td><td><span></span></td></tr>, <tr class=\"sc-428ddaf3-0 bKFMfg\"><td><span></span></td><td><span></span></td><td><a class=\"cmc-link\" href=\"/currencies/wootrade/\"><span class=\"circle\"></span><span>WOO Network</span><span class=\"crypto-symbol\">WOO</span></a></td><td><span>$<!-- -->0.16</span></td><td><span></span></td></tr>]\n"
          ]
        }
      ]
    },
    {
      "cell_type": "code",
      "source": [
        "# Get name of parent tag\n",
        "# Without name property it gives entire tbody tag\n",
        "\n",
        "print(trows[0].parent.name)"
      ],
      "metadata": {
        "colab": {
          "base_uri": "https://localhost:8080/"
        },
        "id": "SfDuVlhLAvKj",
        "outputId": "eb74826b-028a-4524-f248-6c751f4961d0"
      },
      "execution_count": 70,
      "outputs": [
        {
          "output_type": "stream",
          "name": "stdout",
          "text": [
            "tbody\n"
          ]
        }
      ]
    },
    {
      "cell_type": "code",
      "source": [
        "# We can also get all decendants of a tag, gives generator element so we need to convert it into list\n",
        "print(list(trows[0].descendants))\n",
        "\n",
        "# .descendants give everything that comes after or inside this tag"
      ],
      "metadata": {
        "colab": {
          "base_uri": "https://localhost:8080/"
        },
        "id": "vdyxom0pAp-b",
        "outputId": "ed08657a-8f87-4e9b-bdf0-9c26527b9d3e"
      },
      "execution_count": 72,
      "outputs": [
        {
          "output_type": "stream",
          "name": "stdout",
          "text": [
            "[<td><span class=\"sc-c0b4ee1-2 bwyOyZ\"></span></td>, <span class=\"sc-c0b4ee1-2 bwyOyZ\"></span>, <td style=\"text-align:start\"><p class=\"sc-4984dd93-0 iWSjWE\" color=\"text2\" data-sensors-click=\"true\" font-size=\"14\">1</p></td>, <p class=\"sc-4984dd93-0 iWSjWE\" color=\"text2\" data-sensors-click=\"true\" font-size=\"14\">1</p>, '1', <td style=\"text-align:start\"><div class=\"sc-aef7b723-0 LCOyB\" display=\"flex\"><a class=\"cmc-link\" href=\"/currencies/bitcoin/\"><div class=\"sc-aef7b723-0 sc-b585f443-0 hqAcrb\" data-sensors-click=\"true\"><img alt=\"BTC logo\" class=\"coin-logo\" decoding=\"async\" fetchpriority=\"low\" loading=\"lazy\" src=\"https://s2.coinmarketcap.com/static/img/coins/64x64/1.png\"/><div class=\"sc-aef7b723-0 sc-b585f443-1 dUXsZC hide-ranking-number\"><p class=\"sc-4984dd93-0 kKpPOn\" color=\"text\" data-sensors-click=\"true\" font-size=\"1\" font-weight=\"semibold\">Bitcoin</p><div class=\"sc-b585f443-2 SoolS\" data-nosnippet=\"true\"><p class=\"sc-4984dd93-0 iqdbQL coin-item-symbol\" color=\"text3\" data-sensors-click=\"true\" font-size=\"1\">BTC</p></div></div></div></a></div></td>, <div class=\"sc-aef7b723-0 LCOyB\" display=\"flex\"><a class=\"cmc-link\" href=\"/currencies/bitcoin/\"><div class=\"sc-aef7b723-0 sc-b585f443-0 hqAcrb\" data-sensors-click=\"true\"><img alt=\"BTC logo\" class=\"coin-logo\" decoding=\"async\" fetchpriority=\"low\" loading=\"lazy\" src=\"https://s2.coinmarketcap.com/static/img/coins/64x64/1.png\"/><div class=\"sc-aef7b723-0 sc-b585f443-1 dUXsZC hide-ranking-number\"><p class=\"sc-4984dd93-0 kKpPOn\" color=\"text\" data-sensors-click=\"true\" font-size=\"1\" font-weight=\"semibold\">Bitcoin</p><div class=\"sc-b585f443-2 SoolS\" data-nosnippet=\"true\"><p class=\"sc-4984dd93-0 iqdbQL coin-item-symbol\" color=\"text3\" data-sensors-click=\"true\" font-size=\"1\">BTC</p></div></div></div></a></div>, <a class=\"cmc-link\" href=\"/currencies/bitcoin/\"><div class=\"sc-aef7b723-0 sc-b585f443-0 hqAcrb\" data-sensors-click=\"true\"><img alt=\"BTC logo\" class=\"coin-logo\" decoding=\"async\" fetchpriority=\"low\" loading=\"lazy\" src=\"https://s2.coinmarketcap.com/static/img/coins/64x64/1.png\"/><div class=\"sc-aef7b723-0 sc-b585f443-1 dUXsZC hide-ranking-number\"><p class=\"sc-4984dd93-0 kKpPOn\" color=\"text\" data-sensors-click=\"true\" font-size=\"1\" font-weight=\"semibold\">Bitcoin</p><div class=\"sc-b585f443-2 SoolS\" data-nosnippet=\"true\"><p class=\"sc-4984dd93-0 iqdbQL coin-item-symbol\" color=\"text3\" data-sensors-click=\"true\" font-size=\"1\">BTC</p></div></div></div></a>, <div class=\"sc-aef7b723-0 sc-b585f443-0 hqAcrb\" data-sensors-click=\"true\"><img alt=\"BTC logo\" class=\"coin-logo\" decoding=\"async\" fetchpriority=\"low\" loading=\"lazy\" src=\"https://s2.coinmarketcap.com/static/img/coins/64x64/1.png\"/><div class=\"sc-aef7b723-0 sc-b585f443-1 dUXsZC hide-ranking-number\"><p class=\"sc-4984dd93-0 kKpPOn\" color=\"text\" data-sensors-click=\"true\" font-size=\"1\" font-weight=\"semibold\">Bitcoin</p><div class=\"sc-b585f443-2 SoolS\" data-nosnippet=\"true\"><p class=\"sc-4984dd93-0 iqdbQL coin-item-symbol\" color=\"text3\" data-sensors-click=\"true\" font-size=\"1\">BTC</p></div></div></div>, <img alt=\"BTC logo\" class=\"coin-logo\" decoding=\"async\" fetchpriority=\"low\" loading=\"lazy\" src=\"https://s2.coinmarketcap.com/static/img/coins/64x64/1.png\"/>, <div class=\"sc-aef7b723-0 sc-b585f443-1 dUXsZC hide-ranking-number\"><p class=\"sc-4984dd93-0 kKpPOn\" color=\"text\" data-sensors-click=\"true\" font-size=\"1\" font-weight=\"semibold\">Bitcoin</p><div class=\"sc-b585f443-2 SoolS\" data-nosnippet=\"true\"><p class=\"sc-4984dd93-0 iqdbQL coin-item-symbol\" color=\"text3\" data-sensors-click=\"true\" font-size=\"1\">BTC</p></div></div>, <p class=\"sc-4984dd93-0 kKpPOn\" color=\"text\" data-sensors-click=\"true\" font-size=\"1\" font-weight=\"semibold\">Bitcoin</p>, 'Bitcoin', <div class=\"sc-b585f443-2 SoolS\" data-nosnippet=\"true\"><p class=\"sc-4984dd93-0 iqdbQL coin-item-symbol\" color=\"text3\" data-sensors-click=\"true\" font-size=\"1\">BTC</p></div>, <p class=\"sc-4984dd93-0 iqdbQL coin-item-symbol\" color=\"text3\" data-sensors-click=\"true\" font-size=\"1\">BTC</p>, 'BTC', <td style=\"text-align:end\"><div class=\"sc-a0353bbc-0 gDrtaY\"><a class=\"cmc-link\" href=\"/currencies/bitcoin/#markets\"><span>$25,678.38</span></a></div></td>, <div class=\"sc-a0353bbc-0 gDrtaY\"><a class=\"cmc-link\" href=\"/currencies/bitcoin/#markets\"><span>$25,678.38</span></a></div>, <a class=\"cmc-link\" href=\"/currencies/bitcoin/#markets\"><span>$25,678.38</span></a>, <span>$25,678.38</span>, '$25,678.38', <td style=\"text-align:end\"><span class=\"sc-d55c02b-0 gUnzUB\"><span class=\"icon-Caret-down\" style=\"width:12px;height:18px;display:inline-block\"></span>0.26%</span></td>, <span class=\"sc-d55c02b-0 gUnzUB\"><span class=\"icon-Caret-down\" style=\"width:12px;height:18px;display:inline-block\"></span>0.26%</span>, <span class=\"icon-Caret-down\" style=\"width:12px;height:18px;display:inline-block\"></span>, '0.26%', <td style=\"text-align:end\"><span class=\"sc-d55c02b-0 gUnzUB\"><span class=\"icon-Caret-down\" style=\"width:12px;height:18px;display:inline-block\"></span>0.88%</span></td>, <span class=\"sc-d55c02b-0 gUnzUB\"><span class=\"icon-Caret-down\" style=\"width:12px;height:18px;display:inline-block\"></span>0.88%</span>, <span class=\"icon-Caret-down\" style=\"width:12px;height:18px;display:inline-block\"></span>, '0.88%', <td style=\"text-align:end\"><span class=\"sc-d55c02b-0 gUnzUB\"><span class=\"icon-Caret-down\" style=\"width:12px;height:18px;display:inline-block\"></span>7.82%</span></td>, <span class=\"sc-d55c02b-0 gUnzUB\"><span class=\"icon-Caret-down\" style=\"width:12px;height:18px;display:inline-block\"></span>7.82%</span>, <span class=\"icon-Caret-down\" style=\"width:12px;height:18px;display:inline-block\"></span>, '7.82%', <td style=\"text-align:end\"><p class=\"sc-4984dd93-0 jZrMxO\" color=\"text\" data-sensors-click=\"true\" font-size=\"1\" style=\"white-space:nowrap\"><span class=\"sc-f8982b1f-0 jYSZLP\">$499.89B</span><span class=\"sc-f8982b1f-1 bOsKfy\" data-nosnippet=\"true\">$499,888,107,440</span></p></td>, <p class=\"sc-4984dd93-0 jZrMxO\" color=\"text\" data-sensors-click=\"true\" font-size=\"1\" style=\"white-space:nowrap\"><span class=\"sc-f8982b1f-0 jYSZLP\">$499.89B</span><span class=\"sc-f8982b1f-1 bOsKfy\" data-nosnippet=\"true\">$499,888,107,440</span></p>, <span class=\"sc-f8982b1f-0 jYSZLP\">$499.89B</span>, '$499.89B', <span class=\"sc-f8982b1f-1 bOsKfy\" data-nosnippet=\"true\">$499,888,107,440</span>, '$499,888,107,440', <td style=\"text-align:end\"><div class=\"sc-aef7b723-0 sc-a0b7a456-0 iHWrYq\"><a class=\"cmc-link\" href=\"/currencies/bitcoin/#markets\"><p class=\"sc-4984dd93-0 jZrMxO font_weight_500\" color=\"text\" data-sensors-click=\"true\" font-size=\"1\">$11,724,953,099</p></a><div data-nosnippet=\"true\"><p class=\"sc-4984dd93-0 ihZPK\" color=\"text2\" data-sensors-click=\"true\" font-size=\"0\">456,841 BTC</p></div></div></td>, <div class=\"sc-aef7b723-0 sc-a0b7a456-0 iHWrYq\"><a class=\"cmc-link\" href=\"/currencies/bitcoin/#markets\"><p class=\"sc-4984dd93-0 jZrMxO font_weight_500\" color=\"text\" data-sensors-click=\"true\" font-size=\"1\">$11,724,953,099</p></a><div data-nosnippet=\"true\"><p class=\"sc-4984dd93-0 ihZPK\" color=\"text2\" data-sensors-click=\"true\" font-size=\"0\">456,841 BTC</p></div></div>, <a class=\"cmc-link\" href=\"/currencies/bitcoin/#markets\"><p class=\"sc-4984dd93-0 jZrMxO font_weight_500\" color=\"text\" data-sensors-click=\"true\" font-size=\"1\">$11,724,953,099</p></a>, <p class=\"sc-4984dd93-0 jZrMxO font_weight_500\" color=\"text\" data-sensors-click=\"true\" font-size=\"1\">$11,724,953,099</p>, '$11,724,953,099', <div data-nosnippet=\"true\"><p class=\"sc-4984dd93-0 ihZPK\" color=\"text2\" data-sensors-click=\"true\" font-size=\"0\">456,841 BTC</p></div>, <p class=\"sc-4984dd93-0 ihZPK\" color=\"text2\" data-sensors-click=\"true\" font-size=\"0\">456,841 BTC</p>, '456,841 BTC', <td style=\"text-align:end\"><div class=\"sc-aef7b723-0 sc-e8f714de-0 cELvic\" data-sensors-click=\"true\" style=\"cursor:pointer\"><div class=\"sc-aef7b723-0 sc-e8f714de-1 hSniWt\"><p class=\"sc-4984dd93-0 WfVLk\" color=\"text\" data-sensors-click=\"true\" font-size=\"1\" font-weight=\"medium\">19,477,231 BTC</p></div><div class=\"sc-4ff2400b-0 hKysZR\" data-sensors-click=\"true\" width=\"160\"><div class=\"sc-4ff2400b-1 ldlrhl\" width=\"149\"></div></div></div></td>, <div class=\"sc-aef7b723-0 sc-e8f714de-0 cELvic\" data-sensors-click=\"true\" style=\"cursor:pointer\"><div class=\"sc-aef7b723-0 sc-e8f714de-1 hSniWt\"><p class=\"sc-4984dd93-0 WfVLk\" color=\"text\" data-sensors-click=\"true\" font-size=\"1\" font-weight=\"medium\">19,477,231 BTC</p></div><div class=\"sc-4ff2400b-0 hKysZR\" data-sensors-click=\"true\" width=\"160\"><div class=\"sc-4ff2400b-1 ldlrhl\" width=\"149\"></div></div></div>, <div class=\"sc-aef7b723-0 sc-e8f714de-1 hSniWt\"><p class=\"sc-4984dd93-0 WfVLk\" color=\"text\" data-sensors-click=\"true\" font-size=\"1\" font-weight=\"medium\">19,477,231 BTC</p></div>, <p class=\"sc-4984dd93-0 WfVLk\" color=\"text\" data-sensors-click=\"true\" font-size=\"1\" font-weight=\"medium\">19,477,231 BTC</p>, '19,477,231 BTC', <div class=\"sc-4ff2400b-0 hKysZR\" data-sensors-click=\"true\" width=\"160\"><div class=\"sc-4ff2400b-1 ldlrhl\" width=\"149\"></div></div>, <div class=\"sc-4ff2400b-1 ldlrhl\" width=\"149\"></div>, <td style=\"text-align:end\"><a class=\"cmc-link\" href=\"/currencies/bitcoin/?period=7d\"><img alt=\"bitcoin-7d-price-graph\" class=\"sc-b28ea1c6-0 ewXAph\" loading=\"lazy\" src=\"https://s3.coinmarketcap.com/generated/sparklines/web/7d/2781/1.svg\"/></a></td>, <a class=\"cmc-link\" href=\"/currencies/bitcoin/?period=7d\"><img alt=\"bitcoin-7d-price-graph\" class=\"sc-b28ea1c6-0 ewXAph\" loading=\"lazy\" src=\"https://s3.coinmarketcap.com/generated/sparklines/web/7d/2781/1.svg\"/></a>, <img alt=\"bitcoin-7d-price-graph\" class=\"sc-b28ea1c6-0 ewXAph\" loading=\"lazy\" src=\"https://s3.coinmarketcap.com/generated/sparklines/web/7d/2781/1.svg\"/>]\n"
          ]
        }
      ]
    },
    {
      "cell_type": "code",
      "source": [
        "# Similarly, we can use\n",
        "# 1. .content\n",
        "# 2. .children: gives tags that are inside the current tag"
      ],
      "metadata": {
        "id": "DakOGYWaBfzB"
      },
      "execution_count": null,
      "outputs": []
    },
    {
      "cell_type": "code",
      "source": [
        "prices = {}\n",
        "for trow in trows[:10]:\n",
        "  name, price = trow.contents[2:4]\n",
        "  fixed_name = name.p.string\n",
        "  fixed_prices = price.a.string\n",
        "\n",
        "  prices[fixed_name] = fixed_prices;\n",
        "\n",
        "print(prices)\n",
        ""
      ],
      "metadata": {
        "colab": {
          "base_uri": "https://localhost:8080/"
        },
        "id": "MXb_PtoxLgUy",
        "outputId": "d2620db7-8476-4b6a-cf81-3750776943ec"
      },
      "execution_count": 85,
      "outputs": [
        {
          "output_type": "stream",
          "name": "stdout",
          "text": [
            "{'Bitcoin': '$25,678.38', 'Ethereum': '$1,630.40', 'Tether USDt': '$0.9996', 'BNB': '$214.41', 'XRP': '$0.5024', 'USD Coin': '$1.00', 'Cardano': '$0.2567', 'Dogecoin': '$0.06376', 'Solana': '$20.24', 'TRON': '$0.07723'}\n"
          ]
        }
      ]
    }
  ]
}